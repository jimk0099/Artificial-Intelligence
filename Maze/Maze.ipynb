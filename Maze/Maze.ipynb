{
  "nbformat": 4,
  "nbformat_minor": 0,
  "metadata": {
    "colab": {
      "name": "TN2021-Maze.ipynb",
      "provenance": [],
      "collapsed_sections": []
    },
    "kernelspec": {
      "display_name": "Python 3",
      "language": "python",
      "name": "python3"
    },
    "language_info": {
      "codemirror_mode": {
        "name": "ipython",
        "version": 3
      },
      "file_extension": ".py",
      "mimetype": "text/x-python",
      "name": "python",
      "nbconvert_exporter": "python",
      "pygments_lexer": "ipython3",
      "version": "3.8.5"
    }
  },
  "cells": [
    {
      "cell_type": "markdown",
      "metadata": {
        "id": "bxSfB7E17vMw"
      },
      "source": [
        "## Ομάδα \n",
        "\n",
        "Στοιχεία Μέλους 1: Γρηγόριος Παπανικολάου el18649\n",
        "\n",
        "Στοιχεία Μέλους 2: Δημήτριος Καλέμης el18152"
      ]
    },
    {
      "cell_type": "markdown",
      "metadata": {
        "id": "CCcGFAb8nULW"
      },
      "source": [
        "# Τεχνητή Νοημοσύνη: Εργαστηριακή Άσκηση 1\n",
        "\n",
        "    \n",
        "\n",
        "---\n",
        "\n",
        "\n",
        "\n",
        "Ο στόχος της εργασίας είναι η εφαρμογή αλγορίθμων αναζήτησης και εύρεσης καλύτερου μονοπατιού σε λαβύρινθο διαστάσεων $N\\times N$\n"
      ]
    },
    {
      "cell_type": "markdown",
      "metadata": {
        "id": "PPcLy1P7naLP"
      },
      "source": [
        "# Εκφώνηση\n",
        "\n",
        "## Μέρος 1\n",
        "Ο στόχος του πρώτου μέρους είναι η κατασκευή **λαβυρίνθων**. [Σε αυτό το άρθρο της Wikipedia](https://en.wikipedia.org/wiki/Maze_generation_algorithm) μπορείτε να βρείτε διάφορους αλγορίθμους για αυτό το σκοπό. Προσέξτε ότι οι αλγόριθμοι του παραπάνω άρθρου κατασκευάζουν ένα μόνο μονοπάτι από κάθε σημείο του λαβυρίνθου προς οποιοδήποτε άλλο (η δομή του λαβυρίνθου έχει μορφή συνεκτικού δέντρου). Καλείστε να τροποποιήσετε τον αλγόριθμο της επιλογής σας (ενδεχομένως και πέραν αυτών που υπάρχουν στο προαναφερθέν άρθρο) ώστε οι λαβύρινθοι που κατασκευάζει να έχουν τουλάχιστον δύο (2) μονοπάτια μεταξύ ενός σημείου αφετηρίας (S) και ενός σημείου τερματισμού (F). Η τροποποίηση του αλγορίθμου μπορεί να γίνει και με πιθανοτικό τρόπο, αλλά σε αυτή την περίπτωση θα πρέπει να βεβαιωθείτε πως οι λαβύρινθοι που θα χρησιμοποιήσετε στα επόμενα ερωτήματα έχουν τουλάχιστον δύο μονοπάτια μεταξύ των S και F. Αναφέρετε ποιον αλγόριθμο επιλέξατε, περιγράψτε τον συνοπτικά καθώς και τον τρόπο που αντιμετωπίσατε το παραπάνω πρόβλημα, και υλοποιήστε τον στο κελί κώδικα του Μέρους 1.\n",
        "\n",
        "Σε όλα τα ερωτήματα φροντίστε να χρησιμοποιήσετε **δομημένο** κώδικα, με **σχόλια** που επισημαίνουν τη λογική του.\n",
        "\n",
        "\n",
        "### Παραδείγματα λαβυρίνθων\n",
        "![index1.png](data:image/png;base64,iVBORw0KGgoAAAANSUhEUgAAAOsAAADrCAYAAACICmHVAAAABHNCSVQICAgIfAhkiAAAAAlwSFlzAAALEgAACxIB0t1+/AAAADh0RVh0U29mdHdhcmUAbWF0cGxvdGxpYiB2ZXJzaW9uMy4yLjIsIGh0dHA6Ly9tYXRwbG90bGliLm9yZy+WH4yJAAADhUlEQVR4nO3dwW0UMQCGURvRB0VsBXRBi+mCCuiBOz0MlxyDYJF3x9/se8ckGo3W+uRIkf7M4zgGsL9PZ78A8G/EChFihQixQoRYIUKsEPH5nh+ec/o7DzzYcRzzo6+7WSFCrBAhVogQK0SIFSLEChFihQixQoRYIUKsECFWiBArRIgVIsQKEWKFCLFChFghQqwQcdesy2o7/zeA29vXpc/78e370uft/Nm9mjk/XGFZzs0KEWKFCLFChFghQqwQIVaIECtEiBUixAoRYoUIsUKEWCFCrBAhVogQK0SIFSLEChFihQixQsSpG0yrPWsL54pe6bOr7le5WSFCrBAhVogQK0SIFSLEChFihQixQoRYIUKsECFWiBArRIgVIsQKEWKFCLFChFghQqwQcalZl53nOl5pNmWMvc+iys0KEWKFCLFChFghQqwQIVaIECtEiBUixAoRYoUIsUKEWCFCrBAhVogQK0SIFSLEChFihQixQsSlNphW7hzZENqLs3WzQoZYIUKsECFWiBArRIgVIsQKEWKFCLFChFghQqwQIVaIECtEiBUixAoRYoUIsUKEWCFCrBBxqQ2mnbd1dn63Ap+fmxUyxAoRYoUIsUKEWCFCrBAhVogQK0SIFSLEChFihQixQoRYIUKsECFWiBArRIgVIsQKEWKFiEttMM05z34FHmTl2Vb3nNysECFWiBArRIgVIsQKEWKFCLFChFghQqwQIVaIECtEiBUixAoRYoUIsUKEWCFCrBAhVogQK0RcaoOpuq3D360827fbbdmznsnNChFihQixQoRYIUKsECFWiBArRIgVIsQKEWKFCLFChFghQqwQIVaIECtEiBUixAoRYoUIsULEpTaY5pxnvwLvVu9hOVs3K2SIFSLEChFihQixQoRYIUKsECFWiBArRIgVIsQKEWKFCLFChFghQqwQIVaIECtEiBUiLjXrsnpKhH3sfLbPmpxxs0KEWCFCrBAhVogQK0SIFSLEChFihQixQoRYIUKsECFWiBArRIgVIsQKEWKFCLFChFghQqwQceoG07O2a+AK3KwQIVaIECtEiBUixAoRYoUIsUKEWCFCrBAhVogQK0SIFSLEChFihQixQoRYIUKsECFWiBArRNy7wfRrjPHzES8CjDHG+PKnb8zjOJ75IsB/8mswRIgVIsQKEWKFCLFChFghQqwQIVaIECtE/AZROUHZqFYHAAAAAABJRU5ErkJggg==)\n",
        "![index2.png](data:image/png;base64,iVBORw0KGgoAAAANSUhEUgAAAOsAAADrCAYAAACICmHVAAAABHNCSVQICAgIfAhkiAAAAAlwSFlzAAALEgAACxIB0t1+/AAAADh0RVh0U29mdHdhcmUAbWF0cGxvdGxpYiB2ZXJzaW9uMy4yLjIsIGh0dHA6Ly9tYXRwbG90bGliLm9yZy+WH4yJAAAEvklEQVR4nO3d0W0bRxRA0WWQPlKEKkgXadFduAL3kP/0wPwKiBQu7eHwXeqcz9iIhyNfjIE3u7xcr9cDmO+3Zy8AOEesECFWiBArRIgVIsQKEb/f85svl4s5DzzY9Xq9fPTfnawQIVaIECtEiBUixAoRYoUIsULEXXPWMzxyB5+7XD4coZ7iZIUIsUKEWCFCrBAhVogQK0SIFSKWz1lvOTNnOjOr/ZV51Ve2am9v/X++6s/nkfcMnKwQIVaIECtEiBUixAoRYoUIsUKEWCFi+6WInVYMqN++/Xnz9/z46/vD13FW6TLCrgsaqzx7b52sECFWiBArRIgVIsQKEWKFCLFChFghYuSliF3D52cPud+bNPx/Na+yt05WiBArRIgVIsQKEWKFCLFChFghQqwQsf1SRGH4/N6ur/JYtS9T9nfKOl6JkxUixAoRYoUIsUKEWCFCrBAhVohYPmed9ED3FKv2ZNfM9ww/5/2crBAhVogQK0SIFSLEChFihQixQoRYIWL5pQgPHf/XpD2ZtBbu42SFCLFChFghQqwQIVaIECtEiBUixAoR29/Iv/MNA7cuAEx624G1cIuTFSLEChFihQixQoRYIUKsECFWiMh+8/muWeCkh7Wt5ee8ytzYyQoRYoUIsUKEWCFCrBAhVogQK0SIFSKWX4pYMYAuDdyPY9bQfcpazqzjzM95yueZwMkKEWKFCLFChFghQqwQIVaIECtEiBUill+KqF1o2GHSnkxayxkr1rvqYsWz987JChFihQixQoRYIUKsECFWiBArRIgVIrZ/fcaqNwiUTBrKT3rzwivuyyP/7jpZIUKsECFWiBArRIgVIsQKEWKFiO1z1kl2zXMnzY0nrWWSwr44WSFCrBAhVogQK0SIFSLEChFihQixQsSXvhTxig9irzBpLZM8e1+crBAhVogQK0SIFSLEChFihQixQoRYIWL7pYhJT+RPWssZpTdbfMVvXjiO25/pVy5WOFkhQqwQIVaIECtEiBUixAoRYoUIsULE9ksRz37a/r1Ja1ll12fadaFhxeWKV7mg4WSFCLFChFghQqwQIVaIECtEiBUiRr6Rv/SQ9SqvNh9dZcV6a5/5M05WiBArRIgVIsQKEWKFCLFChFghQqwQMfJSxBmTLhHcWsuqofyuzzzpofxJa3k2JytEiBUixAoRYoUIsUKEWCFCrBAhVojYfili51P7j/zK+NUmXZyovVmhtt6f5WSFCLFChFghQqwQIVaIECtEiBUivvQ3n++y6jOvmCfuWsvObxuf9HfqkTNfJytEiBUixAoRYoUIsUKEWCFCrBAhVogY+Ub+XQ8Tr/pzSpcVanbtbWHfnKwQIVaIECtEiBUixAoRYoUIsUKEWCFi5KWISW8z2LGOsya9EWGF2kWQZ1+ucLJChFghQqwQIVaIECtEiBUixAoRYoWI7ZciJj2RP+mywqR9qfn29va/v/4qe+tkhQixQoRYIUKsECFWiBArRIgVIi73zKAul8trDKxgsOv1+uHg3skKEWKFCLFChFghQqwQIVaIECtEiBUi7n34/J/jOP5+xEKA4ziO44/PfuGuG0zA8/hnMESIFSLEChFihQixQoRYIUKsECFWiBArRPwLUNQF44aEdWwAAAAASUVORK5CYII=)\n",
        "![index3.png](data:image/png;base64,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)"
      ]
    },
    {
      "cell_type": "markdown",
      "metadata": {
        "id": "hrKnkVsr61N-"
      },
      "source": [
        "## Μέρος 2\n",
        "\n",
        "Στο δεύτερο μέρος της εργασίας θα υλοποιήσετε τον αλγόριθμο Α* για την εύρεση συντομότερων μονοπατιών μεταξύ δυο κόμβων για τους λαβυρίνθους που παράγονται από τον κώδικα του πρώτου μέρους. Θα κατασκευάσετε και διάφορες συναρτήσεις κόστους τόσο για την μέτρηση των πραγματικών αποστάσεων όσο και για την εκτίμηση των αποστάσεων από έναν κόμβο στον κόμβο στόχο (heuristic).\n",
        "\n",
        "Η γενική μορφή της συνάρτησης κόστους στον αλγόριθμο Α* είναι:\n",
        "$$f(n)=g(n)+h(n)$$\n",
        "Παραπάνω, η συνάρτηση $g(n)$ δίνει την πραγματική απόσταση από το σημείο εκκίνησης μέχρι τον κόμβο $n$, και η συνάρτηση $h(n)$ αποτελεί μια ευριστική της απόστασης από τον κόμβο $n$ μέχρι τον στόχο. Σας ζητείται να πειραματιστείτε με τις εξής επιλογές για τις δύο συναρτήσεις:\n",
        "* $g(n)=0$ και $h(n)=\\{\\text{manhattan}(n),\\text{euclidean}(n)\\}$. Ποιος αλγόριθμος αναζήτησης προκύπτει; Μπορεί να βρει πάντα το βέλτιστο μονοπάτι;\n",
        "* $g(n)=1$ και $h(n)=0$. Ποιος αλγόριθμος αναζήτησης προκύπτει; Μπορεί να βρει πάντα το βέλτιστο μονοπάτι;\n",
        "* $g(n)=1$ και $h(n)=\\{\\text{manhattan}(n),\\text{euclidean}(n)\\}$. Ποιος αλγόριθμος αναζήτησης προκύπτει; Μπορεί να βρει πάντα το βέλτιστο μονοπάτι;\n",
        "\n",
        "Μπορείτε να προτείνετε και άλλες ευριστικές συναρτήσεις εκτός από τις αποστάσεις manhattan και euclidean;"
      ]
    },
    {
      "cell_type": "markdown",
      "metadata": {
        "id": "HBVzpYPF9WC_"
      },
      "source": [
        "## Μέρος 3\n",
        "\n",
        "Στο τρίτο μέρος καλείστε να συγκρίνετε την απόδοση των αλγορίθμων που υλοποιήσατε στο πρώτο μέρος, με βάση την πολυπλοκότητά τους και το κατά πόσο μπορούν να βρούν το βέλτιστο μονοπάτι. \n",
        " \n",
        "Αρχικά, θα πρέπει να κατασκευάσετε πλήθος λαβυρίνθων με μέγεθος $N\\in[10,11, \\ldots,50]$ (τουλάχιστον 10 λαβυρίνθους για κάθε Ν).\n",
        "\n",
        "Έπειτα, για τους τρεις αλγορίθμους που υλοποιήσατε στο δεύτερο μέρος, καθώς και για ό,τι επιπλέον υλοποιήσατε (πχ επιπλέον ευριστικές), ζητείται να συλλέξετε τα εξής χαρακτηριστικά:\n",
        " * το μήκος του ελάχιστου μονοπατιού που εξάγει ο εκάστοτε αλγόριθμος.\n",
        " * το πλήθος των επεκτεταμένων κόμβων (expanded nodes) του κάθε αλγορίθμου, που αποτελεί μέτρο της πολυπλοκότητάς του.\n",
        " \n",
        "Για να σας είναι εύκολο να εξάγετε συμπεράσματα από τις παραπάνω παραμετροποιήσεις, ζητείται να κατασκευάσετε δύο γραφικές παραστάσεις:\n",
        " * το μήκος του ελάχιστου μονοπατιού συναρτήσει του μεγέθους του χάρτη\n",
        " * το πλήθος των expanded nodes συναρτήσει του μεγέθους του χάρτη\n",
        "\n",
        "Ένα παράδειγμα φαίνεται παρακάτω:\n",
        "\n",
        "![image.png](data:image/png;base64,iVBORw0KGgoAAAANSUhEUgAAAX0AAAEICAYAAACzliQjAAAgAElEQVR4Ae2dCZgU1bn+3/yz3tx7TaJJ7vWqRI27uDEmiho1GqNxiYlRo8Ytmmjcg4mKqOw7Ai7sCLKviizDDDAMOwwMwz4DDMywwwDDzrAMMH7/561lqOnpnumlqru6+zvP009VV9U5depX1W+d/s53vgNoUgJKQAkoASWgBJSAElACSkAJKAEloASUgBJQAkpACSgBJaAElIASUAJKQAkoASWgBJSAElACSkAJKAEloASUgBJQAkogxQncDmBblNcYS95oTjkIQNtoMqZhngYAKgB8Mw2vXS9ZCSSMwCYAx6wfH3+A/PRIWG2CnzgW4a4vrwBYBeD/OU5N0aZ4R5NU9KOhpnmUgBKIGwGK/m/idrboTlSfcNdVan15Kfp7ATzhKERF3wFDV5WAEkgtAnWJfm8AXzoutxOAXADfAGCLaTMAewCwnL84jr0PwDIAhwBsBdDSse98ABTbZwBssfK/59j/H1ZLez+A1QDeCjDv/J9Vr3IAGwG8HkFex6HGKuvxDoD1AL5l7QwU/d8DKAJwAMAsAJc7CrkOwFIAhwGMBjAqwLxzP4DlVt4FAK525OV5t1t5iwHc6dhnr94AYGeACeSPAFZaB/wSQIHFeReAbnbGgKV9v94GsBtAGYA/ALgXwDoA+wDwXtqJ5eZZ9eax/Pf3HXundf/IfYN1/7oE/FtyHIpQdbSfA3JvHPBv87j1TLEc/gtrCqDUekGPAXCm8wS6rgSUQPgE6hL971uC8CyAX1k/7nOtoikipyyR+S6A2wAcAXCpY/9V1g+WQkdBosgw2T/2/gAo8NcAqHSIaUcAc60f9nkACh2iTwFYAqC5JUIXWsJzt1V2XXmtQ2osKPoXW2X+zdrjFP1LrOu6C8C3AVA0S6xzUwQ3A2hi7XsYwEmH6POFQIGlcNNuzZcceZMXOfFlyBcYE5n83FoPXFDseH47jbVEkN8pzE9ZO/4LwI32QQFL+36RG6/j7wD40hwB4L8BXGmZ+S6w8mVYZVGQWbc1AP7pKJPcZlr3iLZ5vjhsfo7DjNVQdbSfA/tla+dj/WYD6GBteAPAQgB89siuL4CR9sG6VAJKIDICFCHa8dmKtT8UBDtRsNgKpLg9bm+0WvoU/f90bGML7APHd+fqRwC6WxvsH7v9AuHmfACPWfvZerzHkfkFh+izPvx34EzvAvjc2lBXXmcee53idZHV4uU1Usidos/r4XXZiS8dts4porcC2GH987H3szXP/Ez8p9TGWrcXbNHzBclz8oVA0xpFrq7E8gZaB1Cg+XL9mfV9DoBWAH5cVwFWfdl3Y3eashxeO3naiS9T+8Vsb7OXFPyv7C9WXuc9etn6F+g4pHo1VB3t5yBQ9Mkt0/HPgS8c57+gs62Xa2C+6hPqihJQAqEJ1NXSt3PRfEChtQWD2yl6bCk6E//i8wfLRDFhS5DHHATAv+tDrX3Bfuw0m9gtRR7Llqed2Iq3vXcetf5h2C8oLmlaybIOriuvXZ5zaYs+t80H8FqA6PN6eF3OxFYnTVl8SS127rBaoLbos05HHS9T1pXf7Zcn+xHmAaAZi2Yhu9UfUCSusMpgK5f/FvgvyE78l8JWL01srAvNScES75fNkPspmLx23gs7sS5PWl/4D4fCS9MSTXSst/O8zOu8RzTnUZyDpVB1DPYcvGiVc4ajIJ6bdXDec97ncxzH6KoSUAJhEqhP9F+xvFsodGxR28k2Fzhb+rRp2y19miRo9vielYEt/WHWerAfu1P0aad3tiL5z8MWLNp+aX8PlerKGyyPU/R5TbRf0y5ue+8EtvTZn2G39NliD2zp88Vhiz7NEM6+imDn5zYKHIXbfikGO26F1QqfCuClIAfwHwjNSxRD5z2xD41U9Nl386Fl+mEZbOnzpWAncnPeI9aJeepKgXUMfA5oQuS/H75wnIn/jm52btB1JaAEoidQl+jzx8dWKG3ubK1x/VrrVLboUxhoEuEPlmaHy6z9/PGyVcrEjjx+D1f02WFMm+6PLDsuOy1t0ee/DXacshOU/QH83hDAL6xz1ZXXOqTGwin63JFjdRbaok/bO6+L5gWaYf5t9SHwmvnhPyDanLnvoQCb/vWW3Z7/eviyoBizRUzTCsu9w7JRsxyabwbXqFnNL7xe/nOiicZpymHL/CfWoTQVUfTJJTBFKvo0t9H+z3rznlJ4A0WfIs97xH6XtQBohguWQtXRKfosgy9c54vELouNBzYKbJMWr/dBe6culYASiIwART/QT5+2W/795w+fXhN2YmuOPu00M9giwpYsTQsUP7tDkcez1UkbOU0vNBPQ+yNc0WcH8hDr73wo7x22jGl64IuI/0Jst9P68trXYi8DRZ8CzW226PM4esuwHjRT8WXkNGtQ2OmlZHvv8N+O3dJnXooYzS40TVDU2AlL0WfnNvkyH/tMyCiUeYflsLP0awCT7YpbSzLlC5X9MvQwCmWTt++Xnb0+8w77KyjkLJdmndZBRN/23qHLa9cA8599Hi5D1dEp+nQW4PXxfPaH18PEfwhvWi8e8uK/yPbWPl0oASUQJwKBIhKn0+ppfEIg8GXpk2ppNZSAEvCKgIq+V2STo1wV/eS4T1pLJeAaARV911AmZUEq+kl527TSSkAJKAEloASUgBJQAkpACSgBXxI466yzJCMjQz/KQJ8BfQb0GYjgGQgyuNKXGl+rUhR8TUpACSgBJRAZAStQXy1N9f0GFf3IbrQerQSUgBIggVhFn6MJOUCE0RDtxHglHNzB0ZQc7PNDe4c1nJ+RCjnKz46OyN0cyMJt3OccFOTIWnNVRV8fYCWgBJRA5ARiFX2O3msUIPq/dcQn59B4fpgYPIpxRDiqk2FcObqOQ+n54TpD5XJYOo/hsXUmFf3Ib7bmUAJKQAnEKvoUZg6pdrb0nWLNYezDrQ0M2uUM3MUAUgyixQ/X7RR4nL29xjKY6J84cUI2bNggq1evTosPr5XXrEkJKAElEC4Br0V/kiNkK2Ow2OFbKeADrDgtjNXymUPRGccl1FytDOzEcL8FDRo0qHWNFMHy8nL5+uuva+1LtQ28Rl4rr1mTElACSiBcAl6KPgNy0abPaH1Mboi+VRQQrKXPFn46CL59c3mtvGZNSkAJKIFwCXgl+oycx6nSGPnQToFmG9fNO+kogOl4zeE+3HqcElACtQl4Ifr0xGE4WjvWty36DEvr7Mjl9HbsxGWoV66zc9fuyHWGsLXz11iGaunXvsTU3qKin9r3V68u/Qjkb9wrXaeuNT/TiqXrtGLpZn265xQLP6PyN0cNJlbRZ2xzxgrnpNCc7OJ5y+2SEz8vtz59HGpNkw89deie+TvH9nutCZa5L5wZh0Kad6Im4XHGn/3sZ4YNPtzTzJ49W6677jr55je/KWPHjg2ZTUU/JBrdoQSSjsCJU1VyQ7vp8rN3Muv8PNhjXtTXFqvoO3Q7vqvJ1tKPVPQ3btwoK1askKeeekpFP+rHWzMqgeQikLlihyH2OUU7a1Sc/Xf8VFWd/tQ4IIIvKvoRwArn0AcffFAaNWokV1xxhfTt27c6i1P0W7duLZdcconcfPPN8thjj0mXLl2qjwtceeaZZ1T0A6HodyWQogQe6b1AbumUK6eqvPNATFnRbzmxUB7ts8DVD8usL+3du9c45OjRo3LllVfKnj17jO+26Ofn58s111wjx44dk0OHDslFF12kol8fVN2vBNKAQOH2A0Yrv9/sUk+vVkU/ghdDOKLfokULufrqq43PGWecIXl5ecYNtEW/e/fu0rx58+qb2qRJExX9ahq6ogTSl8BbY5fLZe9ny4Ej3g64TFnRT8SjM3PmTMNkc+TIEeP0t912m3Abk4p+Iu6InlMJJAeBfRWVcsl7WfLuuJWeV1hF30XE48ePl/vvv98occ2aNfLd7363lujTvEOvHJp3Dh8+LBdffLG29F28B1qUEkhGAr1mlhimnbVlhzyvvoq+i4iPHz8u99xzj1x22WXCDt1gLX2ejiYgiv0tt9wiDz30kPTr169WLfhyOOecc+T73/++nHnmmUbHcK2DRHREbjAouk0JJBGBk6eq5KYOufJYX9MU7HXVVfS9JhykfLbwmWgGouvpkiVLghwV3ib10w+Pkx6lBPxKIHtVmdHK5zIeSUU/HpQDzvH4448bHjyXXnqptG/fPmBvZF9V9CPjpUcrAb8R+HPfBUZLny3+eCQV/XhQ9vAcKvoewtWilYDHBNaUHTRa+bTpxyup6MeLtEfnUdH3CKwWqwTiQKDplysNrx1678QrqejHi7RH51HR9wisFqsEPCZAf3z65b89doXHZ6pZvIp+TR5J901FP+lumVZYCRgEOPKWgdWKth+MKxEV/bjidv9kKvruM9USlYDXBBhbhzF2GGsn3klFP07E7RG54Z6ua9eucvnll8tVV10ld9xxh2zatCloVhX9oFh0oxJIGIEFJXuMePd12emnFe00WvmMqhnvpKIfJ+KRiv6MGTMMP35Wr1evXvLoo48GramKflAsulEJJITAkcqTcm2rqYag//zdyfLc5/kyftk2qTh+skZ9/tJ/oRE3n/Hz451U9F0m7nZoZVZv6dKlctNNNwWtqYp+UCy6UQkkhMDAeRsMwR+dv0XaT14tN7Y3J0Rhh+2rI5YK4+TThk9b/qe56xJSx9QV/ax3RAbe6+6HZdaT3A6tzNO98sor0qZNm6BnVtEPikU3KoG4E2CrvXH76TXs9Jz0ZNGGvdJs3MrqfwAXNM2Ui9/Lkj2Hj8e9jjyhin4kL4YwRN/t0MpDhw6VG264QRjXJ1hS0Q9GRbcpgfgTGFuw1WjBz1izK+jJ+VLgviajlonXMfODVsDamLqiX9dVe7TP7dDKOTk5RvC2XbuCP0S8DBV9j26mFqsEIiDAFv2dXWfJ3d1nG9MaRpA17oeq6LuI3M3QyrTjX3jhhbJuXd12PxV9F2+gFqUEoiQwtdAMmsZOW78nFX0X75CboZXvvPNO+elPf2oEZuP0ig888EDQmqroB8WiG5VA3AhwwvIHe8wz/O7jFTQtlotT0Y+FXpR5NbRylOA0mxLwIQH65dMbZ0he8LE0fquyin4C7oiGVk4AdD2lEvCIwFMDFklGmxw5duKUR2dwt1gVfXd5xr00Ne/EHbmeUAlUE1i17YDRyu85c331Nr+vqOj7/Q7VUz8V/XoA6W4l4CGBl4cvkYbNp8jBYyc8PIu7Rccq+gMB7AZQiNPpTAA5ANZbyx9Zu74B4BMAJQBWAmh0OguesY5nHq7XmzjNYGBKRwFMx2sOvO/6XQkkgsCG8grhQKuO2WsScfqozxmr6N9qibdT9DsDaGqpNpedrPV7AWQDoPjfCGCRtZ0viQ0AuOQLguv2iyKk+Kvom/dcRT/qZ18zKoGYCHACFI6s3XXoWEzlxDtzrKJPUT4/oKVfDOBsS6255HemvgAet9a5sI/jNu6zU+Bx9vYaSxV981FR0Y/3T0bPpwREdh48Jhc3yzLCKyQbDy9E/4BDndmqt79nArjFsS8XwPUA/g3gfcf2D6xtjk3Vqy9YFS5o0KBBLdZ+FsBIo2z27t1bGjZsaPjp33zzzVJUVFTrernBz9cctMK6UQmkAAEGU6NpZ/OeI0l3NV6LPtV6vyXZboh+tfonW0s/UtE/ePD0bDoTJkyQu+++O+jDpaIfFItuVAKeEeA0h1d8kC2vjVjq2Tm8LNgL0bfNNhTotDPveBFaecSIEXLPPfcEfQ5U9INi0Y1KwBMCHHHbNrPIcNNcveN0w8yTk3lUqBei3yWgI5cdu0z3BXTk5lvb2YG70eq8ZQcu17mtzlRfS7/joo7ybPazrn5YZn3JzdDKPXr0MOLvnHvuuSFj8Kjo13dHdL8SiJ3A4eMn5bO5G+SmDrmG4NNVM1lTrKI/EkAZgJMAtgF4HsBZAGivp/vldIeA077fE0ApgFWWPd8W9ucsV066c/7V3ljX0q+i73ZoZT5Yw4cPl6effjroM6aiHxSLblQCrhAoO3BM2metloYtphhizzltOdUho2oma4pV9OvSZU/31Sf6ibghbodWtq+hqqpKzjjjDPtrjaWKfg0c+kUJuEKAppsmo5cJpzxkhy1b9su27Hel7EQXoqLv4h1wM7SyM6TyxIkTJdhLjlVX0XfxBmpRSkDEcMNkALXLP8iWFhMKZcve5PPQqetGqujXRSfCfW6GVn799dfliiuuMFw2b7/9diksLAxaGxX9oFh0oxKIikDmih2GGef9r1YJvXRSManoJ+CuamjlBEDXUyqBeghwztrrWk+TBz6dK8kQF7+eywm5W0U/JBrvdmhoZe/YaslKIFoCLw9bYoyyLd55KNoikiKfin5S3KbQlVTzTmg2ukcJhEvANuv0mJE8IZLDvbbA41JO9Dl1WbokXquKfrrcbb1Orwiki1nH5pdSor9hwwYpLy/3/Wz0NvxYlhR8XiuvWZMSUALRE0gXs45NKKVE/8SJE4YIsvWbDh8KPq9ZkxJQAtERSCezjk0opUTfvihdKgEloATqI5BuZh2bh4q+TUKXSkAJpBWBdDPr2DdXRd8moUsloATShkA6mnXsm6uib5PQpRJQAmlBIF3NOvbNVdG3SehSCSiBlCCwt6JSsleVyaj8zdJ7Vol0yFoj73yxQl4Yslge7bNAGrefnhaDsELdTBX9UGR0uxJQAklH4FTV1/LrLjON+DkMmsYP57L9RdscuavbLHmkzwL5++DFkrVyR9Jdm1sVVtF3i6SWowSUQMIJ2Lb6oXmbZNv+o1Jx/GRajNuJBLyKfiS09FgloAR8S4ADFu//ZK7c3mWmsMWvKTgBFf3gXHSrElACSUZgfkm5Yc4ZvnBzktU8vtVV0Y8vbz2bElACHhF4ZuAiyWgzTY6dOOXRGVKjWBX91LiPehVKIK0JcHpDdtp+mrsurTmEc/Eq+uFQ0mOUgBLwNYEmo5YZ0xvuP1Lp63r6oXIq+n64C1oHJaAEoiawff9RYwLzVhOLoi4jnTKq6KfT3dZrVQIpSKDNpCK58N3JsnVfak1g7tWtUtH3iqyWqwSUgOcEOHn5FR9kyxsjl3p+rlQ5gYp+qtxJvQ4lkIYEOL0hO3CLth9Mw6uP7pJV9KPjprmUgBJIMAG6Zma0yZGnBixKcE2S6/Rein4TAEUACgGMBPA9ABcAWASgBMBoAN+Bmb5rfed27j/f2h5ykZGRkVyktbZKQAm4SmDEos1GK3/e+nJXy031wrwS/XMAbATwH5ZqjwHwLAAuH7O29QHwkrX+MgB+Z+J+vhDqTCr6qf5o6vUpgdAEqqzAavd9Mkdj64TGFHSPl6K/FcCZAL4FIBPA3QD2WN8p6I0BTLWUnUt+Z+LxPO4b1vegCxX9oPdTNyqBtCAwpbDMaOVPXL49La7XzYv0SvQp1G8AqABQDmA4gB9bZh1bxM+zTD/8ThPQufYOAKXW8Y5NNVdV9N18DLQsJZA8BBhY7Q8958ktnXLl5Kmq5Km4T2rqlej/CMAMAD8B8G0A4wE86YLov2BVuKBBgwY+QajVUAJKIJ4E8jfuNVr5g+ZvjOdpU+ZcXon+IwAGONrmTwPoreadlHlu9EKUgOcEGB55y94jwo5aRs5sn7Va/jG0QG5oN12ubTVVjlSe9LwOqXgCr0T/Bstz5/uWbX4wgNcAjA3oyGUHLtMrAR257PCtM6l5JxUfR70mJSDSdVqxERP/omaTjRa9PQMWv3NWLEbTzF2zU1FFScAr0adgtwKw1rLXDwVAt8wLAeRbZh6+ALiNie6c/E6XTe7ncXUmFf0o77hmUwI+JvDV0m2G0D/eL086Zq8RumXOX19uhFjQiVHcuXFein6doh3rThV9dx4ALUUJ+IXA5j1H5MrmU+RPveZrB62HN0VF30O4WrQSUALhEaAXDj1yGraYooHTwkMW9VEq+lGj04xKQAm4RaDr1LWGWWeC+t27hTRkOSr6IdHoDiWgBOJBYGHpHrmgaab8a8zyeJwu7c+hop/2j4ACUAKJI8DQyI3bT5fbOs+Qw8fVBTMed0JFPx6U9RxKQAnUIsCRtS8NKzBmvVq+ZX+t/brBGwIq+t5w1VKVgBKoh8Do/C2GHb/nzPX1HKm73SSgou8mTS1LCSiBsAiU7D4sl72fLY/1zRP1vw8LmWsHqei7hlILUgJKIBwClSerhCGRr2k1VXYcOBpOFj3GRQIq+i7C1KKUQLoTYKv9uc/z5dL3s6RR62lyc8dc+W232fJgj3nyRP88eX7QYnm493zDrJO9qizdcSXk+lX0E4JdT6oEUpPAgLkbDEFvMmqZNBu3Uv45apm8MGSxPPnZQnmo13y5u/tsubXzDOk2rTg1ASTBVanoJ8FN0ioqgWQgsHXfEbn8g2x5esAinc3KxzdMRd/HN0erpgSShQDdL58duMjonGU4ZE3+JaCi7997ozVTAklDgOETGAK5/5zSpKlzulZURT9d77xetxJwicD+I5WS0WaaPPDpXHW/dImpl8Wo6HtJV8tWAmlA4N9jlsuF706Wou0H0+Bqk/8SVfST/x7qFSiBhBHgBCc063TIWpOwOuiJIyOgoh8ZLz1aCSgBi8CxE6cM90u6YHJdU3IQUNFPjvuktVQCviPA6QzZyufE5ZqSh4CKfvLcK62pEvANAdrvacfXGPi+uSVhV0RFP2xUeqASUAIkwFALv/90rhFmYV9FpUJJMgIq+kl2w7S6SiBRBOiauWzLfmmbWWSYdcYv25aoquh5YyCgoh8DPM2qBFKRQNmBY0JB755TLG+MXGoES2NETNrv7c/fBy/WUAtJevNV9JP0xmm1lYAXBHYdPCbXtZ5miPv5TTPlpg65RnRMBk/rN7tUphXtlHU7D+kgLC/gx6lMFf04gdbTKAG/E6iq+tqIhsmwyPkb96obpt9vWJT1U9GPEpxmUwKpRuAzKyzysIWbUu3S9HocBFT0HTB0VQmkK4HVOw7Kxc2yjElOGDFTU+oS8FL0fwjgCwBrAawB0BjAmQByAKy3lj+Cmb4B4BMAJQBWAmhkbQ+5yMjISN27olemBOJIgKNpObvV9W1zZM/h43E8s56qFgG+cL98QWTiG7V2ubXBS9EfDOBvlmp/BwBfAp0BNLW2cdnJWr8XQDYAiv+NABaFVHtrh4q+W4+AlpPuBFpMKDQ6bmcV7053FIm//rxeIi3OEGnzU5ET3swf7JXo/wDARkvEnfpdDOBsawOX/M7UF8Dj1joXzuMcm0+vqugn/vnUGiQ/gZlrdxmC33JiYfJfTLJfwfalIq3OEvnoGlP41+V4ckVeif61APIBDAKwDMBnAP4TwIHTsm206u3vmQBucezLBXC947u9+oJV4YIGDRp4AkQLVQLpQoCmnIw2OYZpRwOmJfiuHztoin3Xy0UObhdp8z8iWW97UimvRJ+CfQrADZZafwygTYDoc9d+a3+4om+LP7Sl78nzoIWmCQF21j4/aLFc/F6WrCnTOPgJve204499TqTlD0U2zTerMvRPIp808qRaXon+/wLYVK3QwK8ATA4w26h5x5NbqoUqgfoJ0C2To2vppqkpwQSWDDbNObM6n67Iwj7mtr3u3x+vRJ96PxfApZbwtwTQxfo4O3LZsct0X0BHLk1DdSZt6Z9+PnRNCURCYP2uw8IBWE9+tlA4IEtTAgnsWm2acgbdL1LlmJNgT4kp+ov6uV45L0Wfdv0CywVzPAC6Z54FgPZ6umxOt1w4Ke702ukJoBTAqhD2/BovARV9158FLTCFCdCcw3DIjIH/y3Y5cm2rqcKQC5oSSIDeOT1uEOl0ocihstoVYYfu8Edrb49xi5eiX0Ok3f6ioh/jndfsaUGgZPdhI3DaHR/ONMw5jIH/9IBFUrBpX1pcv68vcuLrZmt+fQgvncx/ibT9X5GT7o6dUNH39VOhlVMCkRNglMxeM0vkdx/NMYSegdP+3HeB0I6/Nx3i35fOFFk+0jM/98jvSJAcq740BX/aB0F2WpuKp5jHlMwIfUwUe1T0o4CmWZSAXwkwnMLVLc0wyH/oOU8GzN0gO9PJjFNVJdLlYlMsO/5MZOr7Ivs2xv92sR6nToicOCZSWSFy7IDIkb0iFeUiO1aItD9XpP+d5jGhasd8rX8sMqVZqCOi2q6iHxU2zaQE/EeAHbSNWk+TG9tPl/W7DvmvgvGo0bYlpuBTKEc9KdLyRyItfiAy7GGR4qkiFGMvk+F++VezDhxZG+rT4TyRfWEEthv8oEiPX7paYxV9V3FqYUogMQQ27zlidNBysFXp7sOJqYQfzjqjvSnyFXvM2hzYJpLbVqTzRaYAf3S1yLyPzZa3F/VdOdY8z7gXRWZ3FpnTVWTeRyILeojk9RahN07+ZyK714Z3dubji2P/lvCOD+MoFf0wIOkhSsDPBHYcOCo3d8wVzm6V9gOt+vxK5LO7at+uk5UiFOQBd5siOuiB2sfEuuXofvPl0vf2mu6XsZTLlwNFf/HAWEqpkVdFvwYO/aIEkovA7kPH5dddZsqVzafIiq37k6vybteW4QsokGxd15XmfGget7OorqMi3zfpn+ao2h3LI88bKgfNRd0aiox8ItQREW9X0Y8YmWZQAv4gwInK7+4+Wy57P9uY6coftUpgLQo+D0/Mafpp/RMRukS6lbYsMs1K2e+6VeLpchhmud05Ivy34kJS0XcBohahBOJN4NCxE/L7T+caE5/MXVce79P783wjHjNbxWwd15cYs55CetyF/g966fRsLMJgaW6UF1j3NZnmy2zDnMA9UX1X0Y8Km2ZSAokjcKTypDzSe4H8/N3JklO0M3EV8dOZObqVkSnDbb0bLXPaygfEfhXsqKVZafWk2MsKVsLxQ2bI5WnNg+2NeJuKfsTINIMSSAyBypNVkrlih9HCv6Bppkxcvj0xFfHjWemOSeENNbo1sM78N9DrZvMTzj+DwPz29/2bzVGz/JfhZfr8PpFeN7lyBhV9VzBqIUZgX4kAACAASURBVErAOwIbyyukQ9YayWgzzRhhe1OHXJmggl8T+KQmIm3PNgdD1dwT+htb+XxRsNUfTeLLgrFxeF4XXSqDVmVud7OuB3cE3R3JRhX9SGjpsUogTgTYqp+0Yrs80T+vOmbO3wYvlhlrdskpjYxZ8y5QfLteEbmHC+3vtOvTvh9NKppgCvH8T6LJHVmenYXmuZYMiSxfkKNV9INA0U1KIFEEGA2z96wSY2Qt492zVf/J9HXCeDqaQhAoWxm9IGa+aXry2IO5Qpyi1mba2T+8zDQPnTpZa7frG/hi4/lGPx1z0Sr6MSPUApSAewQo+BR7RsLk/LXaqg+DLUe+0kxzKIpObfrqMy87YyNJWe+YLppbCyLJFdux418RYfiGGF8yKvqx3QbNrQRcIzB+2TZD8F8dsVQnN4mEKgOXcRRstGnAPeb8tOHG5eEE5pzakP8S4pkKvzJfUJsWxHRWFf2Y8GlmJeAOgfkl5XJRs8nyaJ8FcvykYwYld4pP3VIO7zZb3DM7Rn+NdryccDx/GCXz0+vNSJ6MnBnPxDAPDCA3vXVMZ1XRjwmfZlYCsRNgvJyGzafIXd1myYGjJ2IvMJ1KWDrMbP3GEvqAk5Rw9qoRj9dNjqLb+xaRNj8V2Ti37mO92svYQYwvFENS0Y8BnmZVArESYLA0hkLmFIbb9h+Ntbj0y8/wyR9eKhKLrz2p5bQwTTYHtgZnSE8fBnJrdZbIuhAzXQXP6e7W2V3Ml9zhXVGXq6IfNTrNqARiI3Dw2Akjdg6DpXH+Wk0REmAsmnb/J8JpB2NNjG3PuPsMwxyYOBEKJy6naYVumolM25eZor9sRNS1UNGPGp1mVALRE6Af/uP98oxQCho7J0qOJbmmAK7NirKAgGycaIWzbjGWjp24zgFY9PDhFIyJTuxs5twAY5+LuiYq+lGj04xKIDoC9MV/Y+RSw1PnyyUhzAnRFZ1eubLeNu3rlUfcue612aa4F44zy6s6JTLmWXMbJz7xS2II5y/+FnVtVPSjRqcZlUBkBCj2nMP2nS9WGILfY8b6yArQo08ToA2/+1Uiwx45vS3WNYo8Y9czzg1b1ONfNgWfM22lUFLRT6GbqZfiPwLHTpyS3DU75b2vVkrj9tMNsefgq5YTC4UvAU1RErBnlHK7BW5PsMKRrzTpzGgXZQX9m01F37/3RmuWpAR2HTomwxZukuc+z5dL388yhP7yD7LlhSGLZXT+FuF+TXUQOLqv/jls7QBkobxt6ii+zl30+6eHDgWfk6un4ItZRb/OJ0B3KoHICEwtLJMrPsg2hJ7z1raYUCizi3frgKtwMZbOEul4vhmumLHx95QEz8lRtL1vDr4v1q1zu5lePCko+ETjteh/E8AyAJkw0wUAFgEoATAawHes7d+1vnM7959vbQ+5yMjIiPXWan4l4BqBqqqv5aOcdYbYP/DpXMN2r+abCPBSYPN6mW6RPX4pMu5FkdY/Nt0oh/9ZZMPs063uI3tNn/rcNhGcQA+1CXgt+m8CGOEQ/TEAHrOUvA+Al6z1lwHwOxP384VQZ1LRt2+hLhNN4PDxk4bphrb6JqOWCe34miIgQD/4cf8wTSocFcsIlkwMoEa/+U4XmPvYsl82XGTpUPP71sURnEQPtQl4KfrnAsgFcIcl+t8AsAfAtyw1bwxgqrXOJb8zcT+P4/Ehk4q+fQt1mUgCm/ZUGOETOJNV/zml2jkb6c04uF2k369NEZ/ZwfSaCSyDUyEWDBLpcYN5HO3tnX8e/NjAvPq9FgEvRf8LABkAbrdE/8eWWccW8vMAFFpfuORLwk6lAHh8YHrBqnBBgwYNal2MblAC8SQwZ91uubrlVLmm1VTRAVZRkOeMVRwMxVG14cwvSxPQ+ulmjJz5n0ZxQs1CAl6J/v0AelmK7aboV78EtKWvD3CiCNBW3292qbB1/9tus2XzHpcGByXqghJx3iWDTZv9R9eI7FqdiBqk7Tm9Ev0OALYB2ARgJ4CjAIareSdtn7OUuHDa6qcV7ZTnBy02Omz/MbRAKo7HYdakZKfH6JScbGT5KBF2vjLcAU00Q/4gQvdMTXEl4JXoV7fIHeYdbhsb0JHLDlymVwI6ctnhW2fSln5cn5O0PRk7aScu3y4vD1si9LVnZy1NOhxNq945QR4LmmAYn56jWRkGmLZ3Crz9YdCyj681xZ8jYDXFnUC8Rf9CAPmWbZ8vALpqMn3PeiHQZZP7eVydSUU/7s9K2pzwwJETMmbxFnl+UL5c/J45uCqjTY40G7dSaMc/caoqbVhEdKGHysywCHZH68DfiUx41ZyKcM1kkd3FIoyMqSmhBOIh+nWKd7Q7VfQT+tyk7MkZG+e61tOMFj0nJW81sUjyN+7VuWrru+Ns3XdoYAZAy+utnjX18UrgfhX9BMLXU/uLwNqyQ4bg39BuuhRs2qfmm3BuDwdKjXnGNN/Q9bJ8XTi59JgEElDRTyB8PbV/CKzbeUgatZ5mzGC1obzCPxXzc02Kp5gul4xVM7uzyCnt1Pbz7bLrpqJvk9Bl2hJYv+uw0GZ/fdscKdl9OPU5cEJvTrcXbWyZYwdFxr9itu57NhbZsSL1maXQFarop9DN1EuJnABFnmJP0af4p2yiwG9eaE6+YcS0OUOk9U9MTxpOBfjVyyIz2ossGSJSMsOcB5a+9LM6iUx8w5w9ipOC2944LX9ozivLScU1JRUBFf2kul1aWTcJ0IzzC0PwpwnNOymZGMeGMed73WS2zNufKzL53yIL+4hMfd+cGar/b0Q+vMwMbma7VjqXjH3T62bTv37CayIMl7CtICVxpcNFqeinw13Wa6xFYGN5hbDDlp467MBNubSzSCTzTZF255hiz2BlBZ+LHK/j3wzng+UE4RvniWzOM9e1JZ9yj4aKfsrdUr2g+ggwSNqN7afLta2mypqyg/Ud7v/99KBh6OEFPU0zDVvlbKnTfPPlCyJb8qO33/v/6rWGERJQ0Y8QmB6eHAROVX0tW/YeMQKhDcnbJG0mFRmDre7sOksubpZlBEkr2p6kgr9pgci05iJD/yTy4aWmwNvmGNrcBz8ownldK/Ykx83SWsaVgIp+XHHrybwmUHbgmDzeL88QdoZMsD+XvJdlBEfjlIXts1bL+l1JatJhNEqGMqCbJO30bMlT4EtyTY8crwFr+UlPQEU/6W+hXoBNYOXWA4afPacrbDd5tYxYtFkWlOyRHQeOCme2SvpErxp63vS7Q4Ruk5qUQBQEVPSjgKZZ/Ecge1WZXPZ+tjB0QkrY6QMRM/Z827NF6BdPG74mJRAlARX9KMFpNn8QYKTLXjNLDDPOgz3mye5DKeg3XrZSpMN5pk89pxDUpARiIKCiHwM8zZpYApUnq+TfY5Ybgv/qiKX+mZuW8ePdCkmwp8QcENX1cpH9mxMLXM+eEgRU9FPiNqbfReyrqJRH+iwwBL/btGL/BEdjiANOAcgJvqMNc2Dfzv1bRLpdKdLpQjMssb1dl0ogBgIq+jHA06zxJ0BzTvHOQ3Jb5xlGrPvxy7bFvxJ1nXF6q9MulGsy6zqy7n2Hd4t80kiEI2h3LK/7WN2rBCIgoKIfASw9ND4EOC0h49pPLSyTz+ZukJYTC40pCu/uPluubD7FaN0zImbBJp91aB7cLtLmf8xQwz1vFOnWUKQyioidNA9xBC3Lok++JiXgIgEVfRdhalGxE1i17YAR4tj2r+eS0xRyAnLOZNViQqH0n1MqdMP0XWJcGvrP79sosmm+2eLPaRlZNRn2gNMMspz1OZHl1aOVQBgEVPTDgKSHxIcAJy5p2GKK4XY5Yfl2Wb5lv+ytqPSPvb4uDLvXijDyZNY7p48a9w9TvDlNYDiJfQB2yOJVX4STQ49RAhETUNGPGJlm8IIAB1GxRU9b/bb9PmzF13fRI58wg5s5Qx/QLk9XS4YuDqdTd2Ff899Bbpv6zqb7lUDUBFT0o0anGd0iMHPtLmGYhN90nSW7Dh5zq9j4lcM49Yx9w9mjAlN+f3Mf55CtKzFgGsMrDP+zzi9bFyfdFzMBFf2YEWoBsRCYUlgmFzWbLL/7aI7sOZyEA6vYgv/styJdLgneaVt1SqTvbaYbJ905gyX2AXQ8X6THLzW8QjA+us1VAir6ruLUwiIhQLv9he9OFo6kPXDkRCRZ/XPsmslmS37xwNB12rbEnKDEae+3j2Z8e4ZWoBmIA7E0KQGPCajoewxYiw9OYPTiLXJ+00xjgNXh40k6oTZH3X76C9Ofvr4RuJOamB29zvlkq6pERj1pbl8/PTgo3aoEXCagou8yUC0uNAEOrOIEJj1mrDd87Z/8bKEcrTwVOoPf93AOWdryiybUX9Oj+8yRtf3vPG2z5/yzzD//0/rz6xFKwCUCKvougdRiahOgjT53zU7pOq1Ynh6wyJi4xPa//9vgxXL8ZBILfuURc15Zing4njnEs2y4KfJ8WTAuPgV/3Ivh56+NWLcogYgJeCX65wGYCWA1gCIAb8BMZwLIAbDeWv7I2v4NAJ8AKAGwEkAja3vIRUZGRsQXqxm8J8DZqt4eu0Ju6ZRrtOYp8hc0zRSOpuV2xrgv3H4gOXzv68I1p6sp2pxPNtzEl8OAe0Q6NBBp938ifW8XOZGE3krhXq8e50sCXon+2Q7h/m8A6wBcAaAzgKaWknPZyVq/F0A2AIr/jQAWhVR7a4eKvr+eJ3bEts0sMmasuvT9LHlpWIH0nV0iC0v3SEWy2uxDIWY8+/bniQx/NNQRobfvLDRdM+ntw7ANmpRAnAl4JfqBmj0BwF0AigHwhcDEJb8z9QXwuLXOhfM4x+bTqyr6cX5SQpyO4Y0ZH+fqllONjlmGOuaUhSmT2Dqnq+XeUpGti0WKp4p88bzZ+bqzKLrLLJ2lnjrRkdNcLhCIh+ifD2ALgDMAHDgt20ar3v6eCeAWx75cANc7vturL1gVLmjQoIELl69FREuAnbKTV+6QWzvPMMw4f+m/UJJyovFTJ0TK14sUTxFZ0ENk0j9FBj0g0uMGkc4XibQ60zTj0P7u/GT+K1p0mk8JJJSA16L/XwCWAHjIUm1b5G0R32+thCv6dj5oSz8xz82pqq+NeWf/2HOeIfYMhMYRtXwJ+D7RrZI2+JwWIsMeEfn4OtPU4hRz+sv3+7XIqL+ITHxdhAHT6F2zbIT5YmBrn63+ZLhe398QrWAiCHgp+t8GMBXAm9VKXdNso+adRNzxKM5Jc83o/C3y8vAl1R4417fNkZGLNgtfAr5OjIWzfJTImGfNAVAUeLbee90sMvppEca/p1cN56DlsSrmvr6dWrnYCXgl+uyQHQLgI4fgc7VLQEcuO3aZ7gvoyM23todcaEs/9psfqgTGs5+zbrfRMcuWvO1m+Yu2OfLm6OXCiUt83TnLka2zu4h8dpdpe6fQd/65yFcviRSN11AHoW68bk8LAl6JPu3zYrlfLgfADz10zgJAez1dNqcDoAsnE18SPQGUAlgVwp5vHWouVPTdfz5pouFI2WtbTTWE/uJmWfJE/zzpM6vEmNQkKUw4nK2q9U9M+3ufW0VmtBPZVnB6QJT72LREJZBUBLwS/RoC7cUXFX13n7PS3Yflsb55htg/3Hu+zFizS45UJiA8wqGdIsMeFpnZQYTByiJJNNMwUmW/O0QO+GwaxUiuQ49VAh4SUNH3EG4yFE2Xy0+mrzPmm+UEJhw8VZUoO335OpHuDU97zHx+nwhfAuGkvF5m637w70UYxEyTElACQQmo6AfFkh4bF2/ca8Swp83+leFLZNehBPrXMyZ9x5+Z8Wlojlk61JwjtsvFIhvmhL4h7HilCYd2e3rccLpBTUogBgKr96yW7I3Zsqp8lew7ti85PNMiuF4V/QhgpcqhB46ekGbjVhqmnJs65BrxcRJ6bYxD0+anIh9fa7pD2pXh6NVPMszOWHbMMiqlM/H75LdMwR//skh9kS6deXVdCQQQOHHqhHQv6C5XDbpKGg5qWP355bBfyh/G/0Fenf6qdFjUQYYUDZFlu5Yl7GVQeapS9hzdE1D78L+q6IfPKmmPZAdsye7DMmTBRnlxSIFc1WKKEQ+nzaSixHvhLOpnijp94yvKazM+fkhk7HOmsA99yHSr5FEcVPXl383tU5qpq2Vtcmm5hc96YXmhlOyPbG6C9fvWy8MTHzaEvvn85lK0p0hyN+caAk+hp+D/ccIfhS8A+4Vw/7j7ZcCqAVJ+NMhzGwZ91vVU1Snhy+b4qeNy5MQROVx5WA4cPyBbDm6RvB158uW6L+WTpZ/IO3PekaeynpI7xtxhvJS4Hm1S0Y+WnM/z7Tx4TL5cslWajF4mN7afXu12yZY9QyWs3BpiFqd4XRfNMhwkRbMMY9hUVoQ+M49dPECk9Y/NyJalM81pBZmX/wDUtz40uzTZs7Nip/Rf2V8oxLYoPz/leZm1ZZZUfR3wD9HBhPsGFw6WRkMaya2jbpUZm2c49tZepVDvPbZXxq0bZ4gwz3XN4Gvk1dxXjZfEiarakwFRyBfuWGjU740ZbxjCffXgq6vradc31JLl3/3F3fLXKX+V9+a+J72W9ZJpm6bVrlyYW1T0wwSVDIdxMpLBCzYaES1t33q6X748bIkMW7hJNpZXJOwvaQ1+JytFvnzBFPyJb4Rvltm+TOSjq818LX4gwvlnNaUtgWMnj0nWhix5cdqLYovo01lPG63jz1Z+ZogrhfS+cffJiDUjjJa0E1ZZRZnwxcBj2JKPpsW+4cAG6VrQVW4bdZtRDpddF3c1ztdsbjP5/Ve/r2EuYl3YamfrveeyntJ7eW/pu6Kv8ULgv4ZBhYOMfxd8qeSX5cu2w9vkZJW7XnQq+s6nIEnX1+86JB+MXyVXNp9itOgf+HSuEeFy1bYD7nni0H5etkqE5pgv/iYy4nGz45SjWjnalUHIKOQcAEX7Opc0v3AfZ4ca8ZjpijnkD+ZcsEYrvXPkrfSj+0Um/9scZJWk9ytdq01RnVQ6ST6Y94G0zWsrs7fOFgp3JIlmEIph6wWtpfHwxobQ3jX2Lvl06aey+eDmGkWx1c2XwuOZjxvHNR7R2BDkHYd3SGZpppH/F8N+IV8UfxFzY4jnmrllprye+7pcO/ha43z85/DK9Fekz/I+Mn/bfMNsU6OCCfqiop8g8LGe9uSpKsleVSaP9zN96zmQiqacZVv2x1q0mZ9eMJsWiDBuPP3mGUqYQs3Ph5eK9LpJpOeNp6cL/Oga092y25WmCabrFWar/JNGZvAyhj3gYClOOsKY8itGu1NPLcUVAocqDxmi1XFRR3lk4iOGeLGzMpZEswaFkGWyI9Q2X9w04iah2PL79UOvl5envyyj1owSinFgop17wfYFRsuYrfjrhlxXne/dOe8aZpO6zDd2ebyWN2e+afwjsDtq/zL5L4bt3D7GrSXNP9sPb4/5ReJWfQLLUdEPJOLz7xxERb/6xpadnjb6njPXC2epiimxY3RznsjMjiIDf3d6VCtF/tPrRSa8JrJ8pMi+jZG3zmOqmGb2ggDFdN62eYZp4rFJj1WbR2jbfib7Gbl55M2GuFJo2SKnLbu+xGPo7kib85OTnzRs3RT2jKEZ8vepfzc6PdlBSpFmi33utrnSbmE7w15tvxD4cuhW0M34PDH5iepWM+3arOeHiz80XiQVJ+roA6qjohRjmlaGrR7mutmkjtP6apeKvq9uR+3K8IdUvPOQfJSzroatnqGMpxSWCVv8USX+iBkPnoOa2JHKmZyMlvwPRPr8SoQeMXSlDOZRE9UJNVMiCVBkF+1YZJhB6PlhmyCuHXKtUNhpHqHZhMcx8aUwtGio/Gbsbwzxp+cKTTOB9mW6D/Ll0Savjdw55k7jWLakKdAfL/nYOKddZqjr5zNeeqDUsGc/N+U5o26sH1vidKHkyyFakQ91znTerqLvw7vPHwGnFOwyZa3c8eFMw05/ftNMeaT3Ahkwd4Ns3380ulrTLk/Pl3H/EOGgJ9tcQ/94xpFnMDLOCqUpYQTownf05FGjU5Fuh0t2LjE8Sr5a/5UhihRSCmzn/M7G98mlk2Vx2WLDns18dqKNmSYN2pMppGzBszXNDk/auNmapp2Z4l5Xojvh+PXj5cGvHjTy/3bsb2X46uEysWSiNJnZpNqFkeYa2rPZARmLDznrwjo5r6Wu+um+yAmo6EfOzJMceysqJXPFDmn65crq+WU5tyxt9kPyNsmug5F1eNWoJKNO5rYRoZ2dQk/7PH3flwwR2V+z86tGPv3iKgG+zOl7/VLOS4ZrId3wfj3614YphaJpt75tU0ewJUX7lpG3GLbwYPvZufnAVw9U28x5DP3P+ZKg+yJt99EkmmTozsjWt31e1r3lgpZRdchGUwfN4w4BFX13OEZcytHKUzK7eLe0n7xa7v14jjHVIN0sGzafIs8PWmzEqo/JTs9BTUsGiwy42xT6lj8U4eCmVV/oZNwR363YMlAwp2+ebpg8KJgUy3/N+pewI7LF/BaGJwtF+aMlHxn2cPqbj1wz0vA8YWucg422HtpqCLbdackXCAWc/wbY0TmhZILh9td+YXujBU7vmJxNObL/mEsd+xYCnpfhCfix6xIbHc0dbwIq+i4TZ7CyvNI9Mm7pVsNnvseM9dI+a7UR9uC1EUvl2YGL5MEe84wJxCnyFzWbLI/2WWB0zi7ZvC98Gz0jUB7eJVK2UmR9jjkRyNxuItlNRUY+IdL2f02xZxgDeuDoJNxh3WmaVwr3FMravWvrNX3UVyBNLBRj2zRyzxf3yJjiMdV28/ry634l4AUBFX2XqLJDlZOLOCcdsQdI0Z2yUetpclvnGXL/J3MNk027yatlVvHu8MMXM64MA49lvW26QrLlbtvknUt2yNJGz6n+tuSrp00Y95fD3unPzZb3r0b+qtp8wVY5Oyc5gId2dMZcoScL/cEZiIv5DlYeNFrc7Gi0bdF0VeRgINq/WcZDEx4S2t4DO0HDqJoeogRcJ6CiHyNSzjI1NG+T/KqTOUH4b7rOki8KtsqG8gopP3xcjp+MMCa8sz4njomszTYHO3U83xR5BiYb/mfTRs+BUux8pasl523VkMIGPQrw7iO7DWGmCYSdgmx10zTBxCVb8jSj0HPFHs1JWzlHS9JLZcrGKcZISb4Insh8Qjiwx7Zlh7uk22K47o7O267rSsBLAir6UdJlyAPOKMW5Ytmi/32PeTK1sEyq6EJJV8hdq013x8DIkKHOx9gz5evN1vzSYSJjnjntRtn+XHPEa+FXKSfsbP2y5UxxZEuaLWoOq39/3vuGJwj32WIdCh1ty7Qxc0g7hdYW8WDizM5S25OF+zkQiX7b9HShaSdUYh3Yul+6a6lRL/p588M6c+g8PwNXDRQO/+fLpGBnQb31DnUu3a4EvCSgoh+ELk01+yoqZdOeCiMw2bz15ZK9aocxOXj/OaXSamKREamSYk9/+fnrdsvXNKXQt71bw5pmF5phOl9kjmDlBB8MV5D1jhmmYPCDZkgC52hX21TDPDTRrMsRYawanyVbBDnYhp2UFMAu+V2MUY8cVEM/bbain5/6vOGtwkBTb816SxiPhJ2XHJ7O4FiBHitsUVOI2eq2Rfv20bcb5fIcbKFTnOkWSLdBtsydJpk/T/qz4R/OEZ48nmJMIabrYo9lPYzOUsZGoWsh/w1oUgLpRkBF37rjNMWMyt8szw/Kl0vey6qOSmnb5Z1LulK+MDhf1hXMsIT+SlPoW50lMuwR0xWSXjIL+4hMb22OZmWsGoYgYMCwdueYoQoYTpidrowlw85WjnilH/3u4sinCnThyWWLmdEK6fdN88botaMNE0en/E6GWHO4PAX93i/vDeoyyJGXFHIK/Ys5Lxr+4Wx5PzrpUWMYPoNNMU4Kg1LRzk0/b/qd0wedLW0OX7db9awLPVNYh7dnv109SIgvAmd4W8Y3aTqnqWGSidU/3AWEWoQS8D2BtBZ9hjSgieZPveZXu0wyrEHz8atk4LwNhm1+WtFOWVhSLmvXl8iulTlyNK+/fJ35LxHGmGGr3BZ6zs/KYGA+SRRNjpZk5yI7HBnsilEFtxzaIqX7S42BOWwN01XwtdzXDFFmHBS7de1c0oecYs0WOIfTs8XOfByxOX3TdMPbxSnYXiHgEHq27mkCYsudXja8Tk1KQAmETyDtRJ+DoDpmr5E7u86qbs3TT757TrEUbtsnX3MgU9EEM077uBdF2BoPNL+wM5Ut+jgJPUWbQ+RpruAED+xYZMhWtrgpxvT7pjnkxuE3GnFOGKfEKdp1rbN1zngnFH4KOV8E9A0v3lcsu47sMl4c4T9OeqQSUAJ+J5B2on/o2Am57P1seb7vdJmcOU72z+opwpjuNL20PbumPf7Dy0QG3S8yqYlIXm/TH37fptrT9rlwl9ki33RwkyHuDPtKswfNKXbsE1u4Ke4cVk/TCM0eto2crV9GM6S9mnkZ9Krfin7y+arPjRY5xZwhZDmk3h66T1OOtpRduHlahBJIIgJpJ/ocpFTV/aqa4t7hPJGB95rzrXIU69YCEY5oDSPRJ5udixyizpY47d8UZMYh4fKt2W8Z/t/0RuGQdYozR01SsDkTDm3gNwy/oVbLnB2cbIGzo5KTKzDoFDsebZt3GFXTQ5SAElACtQikn+hzkBPjznCaveIp8vX+LVJRedjowKSte8XuFYZ5g9ORsYORQs6ZbRigioJNv22aQmjftsPP2q1wLmn/ZuwTdlRyJCY7LxljhYN86IVCTxN6qHB0Jr1bGOObLXQKO+3VjM3CetAer0kJKAEl4DaBtBN9djiyBU2zCYNT2RMqOIU72DpD0FLkKeAMM0vvFL4EKNbZG7Nl5e6VhhuhtsTdfkS1PCWgBNwk4DfRvwdAMYASAE1RR8rIyIiKA23n/5zxT2OCYc5yzzjitHszJgqH4nOQEAfW0GTDIFcckKOt7qhQayYloAR8SMBPov9NAKUALgTwHQArAFwRSvejFX0f3gOtkhJQ9OIP2QAABUZJREFUAkogbgT8JPqNAUx1iPy7APgJmlT04/aM6ImUgBJIIQJ+Ev2HAXzmUPinAPRwfOfqC1aFCxo0aJBCt0EvRQkoASUQHwLJJvrV7wBt6cfnAdGzKAElkFoE/CT6at5JrWdLr0YJKAEfEvCT6H8LwAYAFzg6cq+sbtoHrGhL34dPk1ZJCSgB3xPwk+hT1u8FsM7y4nkvQOdrfFXR9/2zpRVUAkrAhwT8Jvo1hL2uLyr6PnyatEpKQAn4noCKvu9vkVZQCSgBJeAegaQVfQDlVuULQiw3hdge6vh4b9f6AbEwV37KL5bnJ9a8yfz8UTtTMvGm+jlp/WK7O8pP+cVGILbc+vzFxs+T3HpTYsOq/JRfbARiy63PX2rzi+3qQuTWhyYEmDA3K78wQYU4TPmFABPmZuUXJqgQh/mdX4hqx7aZIRv8nLR+sd0d5af8YiMQW259/mLjp7mVgBJQAkpACSgBJaAElIASUAJKQAkoASWgBNKXwEAAuwEUOhCcCSAHwHpr+SPHvnivBqtfSwDbASy3Pgw/kah0HoCZAFYDKALwhlURvzAMVT+/MPwegHxr0h/ya2XxYwypRdYscKOteFKJuMeh6jcIwEbHM3htIirnOCcnUVoGINNn/OwqBtbPb/w4bmCVdT/tTly//IZthq4tbwXQKED0OzumW+S0i51cO1vkBQWrHwXr35EX5UmOsy1+LPy/rdhHnLHMLwxD1c8vDL8B4L+sO/NtS+hvBDAGwGPW9j4AXvLk7tVfaKj6UbQ4h4Vf0psARjhE3y/8bD6B9fMbP4r+j+3KWku//IYDquXO1/MDRJ/z7FIsmLjk90SmwPr5RbCCMZkA4C6LmZ8Y2nW16+dHht8HsBTADQD2AGDkWKbAsOHW5rgvnPXzk2idCyAXwB2W6PNF5Sd+gfXjjfMTP9YnmOj7TQddfeADRfWAo3Q+QM7vjl1xWw2sHwWLN2klAJp/Eml+ckJgPbcAOCOAmR8Ysp7O+vmJIf/601RXYf2rZIurxAGWJiqn+dGxKy6rgfXjSSlaFAU+g90BfDcuNQl+ki8AZAC43RJ9v/ELrJ/f+LE+NNWxwbHEmmGQ25y655ffcPAnIIqtgaLqvFgWtz+KMt3MEli//wHAH+L/A9DOEn43zxdNWTRR8IF5yMrsN4aB9fMjwx9a/SO3+Ez07efBrl9D6x8whYBiPxhAc/ugOC/vB9DLOqcfRT9Y/Vhd/gv2Az/7dp1jrfzU6l+iWdlvv2G7rq4sA0XVb39rAuvnvOi69jmP83KdtmhOSk+7pZ38xDBY/ex6cukHhnZ9KJ5v+cw8YdeNS9YvsD/JFlvncfFa7wBgm/XPdyeAowCG+4hfsPoNC4CTSH4BVTG+2qZPP/2Gg9Uzpm2BP/ouAR257NBIZAqsn20rZ52aABiVwMqxtTIEwEcBdfALw1D18wvDnwBgC5rpPwDMBcDW4diAjtyXrWPivQhVP5sf+fLed4x3xYKczymefuHnrKazfn7i95+WEwbryvUFAO4B4JffsJOhK+sjAZQBOGm1GJ4HcJbVMUSXzekA6LqUqBSsfkMt9yraUyc6Op0TUUeaIsSy7TpdSP3CMFT9/MLwasvVkPeSdnvbTHKh5cpJ2z4FLFE281D1m2E9g6wzW662B1IinkH7nE5R9Qs/u25cOuvnJ35ktcLhNmzPOuiX37CToa4rASWgBJSAElACSkAJKAEloASUgBJQAkpACSgBJaAElIASUAJKQAkoASWgBJSAElACSkAJKAEloASUgBJQAkpACSgBJaAElIASSBsC/x+uSXtzYHj6yAAAAABJRU5ErkJggg==)\n",
        "\n",
        " Σας ζητείται σχολιάσετε τιςγραφικές παραστάσεις που θα φτιάξετε, και συγκεκριμένα το πώς μεταβάλλεται η συμπεριφορά των αλγορίθμων συναρτήσει του $N$.\n",
        " \n",
        " Σημειώνουμε τα παρακάτω:\n",
        " \n",
        " * Σε όλα τα παραπάνω πειράματα μπορείτε να λάβετε σαν σημείο εκκίνησης το $(1,1)$ και σαν σημείο τερματισμού $(N-2,N-2)$. Εναλλακτικά, μπορείτε να πειραματιστείτε με τυχαία σημεία εκκινησης και τερματισμού.\n",
        " * Αν και οι χάρτες παράγονται τυχαία, η εκτέλεση αλγορίθμων σε διαφορετικούς χάρτες παράγει μη συγκρίσιμα αποτελέσματα, οπότε οι αλγόριθμοι πρέπει να τρέξουν στους ίδιους χάρτες.\n",
        " * Για λόγους ευκολίας σύγκρισης, προτείνεται να τοποθετήσετε πολλαπλές γραφικές παραστάσεις στο ίδιο σύστημα αξόνων, όπου αυτό είναι εφικτό.\n",
        "\n",
        "Για το πως κατασκευάζουμε γραφικές παραστάσεις μέσω python, μπορείτε να βρείτε παραδείγματα στον κώδικα που δίνεται, καθώς και (για το ζητούμενο της άσκησης) [εδώ](https://www.kite.com/python/answers/how-to-make-multiple-plots-on-the-same-figure-in-matplotlib-in-python) .\n",
        "\n",
        "## **Visualization**\n",
        "Παράλληλα με τα παραπάνω σας δίνεται έτοιμη και μια κλάση η όποια κατασκευάζει ένα animation της αναζήτησης το όποιο υλοποιεί κάθε αλγόριθμος. Για την χρήση της κλάσης αυτής πρέπει να κάνετε τα εξής 4 βήματα:\n",
        "\n",
        "1.\tΔημιουργία ενός instance της κλάσης εκτελώντας την παρακάτω εντολή: `visualization(Start, Goal)`. Η εντολή αυτή δημιουργεί ένα αντικείμενο τύπου visualization. \n",
        "2.\tΤο βίντεο που παράγεται κάθε φορά ουσιαστικά αποτελείται από stacked frames. Συνεπώς σε κάθε βήμα εκτέλεσης όπου δηλαδή θέλουμε να προσθέσουμε ένα frame στο βίντεο πρέπει να καλέσουμε την μέθοδο της κλάσης: `draw_step(grid, frontier, expanded_nodes)` όπου το πρώτο όρισμα είναι ένας χάρτης (τύπου Maze) το δεύτερο μια λίστα με το μέτωπο της αναζήτηση ενώ το τρίτο μια λίστα με τους κόμβους οι όποιοι έχουν ήδη επεκταθεί από τον αλγόριθμο. \n",
        "3.\t(Προαιρετικό) Αν θέλουμε να προσθέσουμε στο animation και το βέλτιστο μονοπάτι που βρήκε ο αλγόριθμός μας μπορούμε να καλέσουμε την μέθοδο add_path(path) η οποία δέχεται σαν όρισμα μια λίστα με όλους τους κόμβους που ανήκουν στο βέλτιστο μονοπάτι (συμπεριλαμβανομένων και των κόμβων αρχής και τέλους).\n",
        "4.\tΤέλος καλούμε την συνάρτηση `show_gif()` η όποια εμφανίζει το animation. Επίσης μπορούμε και να αποθηκεύσουμε το gif καλώντας την συνάρτηση `save_gif (filename)` (το αρχείο πρέπει να έχει κατάληξη .gif) καθώς επίσης μπορούμε να εμφανίσουμε μόνο το τελευταίο frame καλώντας την συνάρτηση `show_last_frame()` στο όποιο (αν έχουν γίνει όλα όπως παραπάνω) θα φαίνονται όλοι οι κόμβοι οι οποίοι έχουν επεκταθεί από τον αλγόριθμο, το τελευταίο μέτωπο και (προαιρετικά) και το βέλτιστο μονοπάτι.\n",
        "\n",
        "Μπορείτε να καταλήξετε στα ίδια συμπεράσματα όσον αφορά την πολυπλοκότητα των αλγορίθμων παρατηρώντας το visualization; \n"
      ]
    },
    {
      "cell_type": "markdown",
      "metadata": {
        "id": "nqTnPBPM_RrH"
      },
      "source": [
        "## Μέρος 4\n",
        "\n",
        "Στο τέταρτο και τελευταίο μέρος της εργασίας σας δίνεται η δυνατότητα να κατασκευάσετε λαβυρίνθους με το χέρι. \n",
        "\n",
        "Καλείστε λοιπόν να **κατασκευάσετε** και να **σχολιάσετε** τους παρακάτω 5 λαβυρίνθους:\n",
        "\n",
        "\n",
        "*   **Λαβύρινθος 1**: Ο Hill-climbing δεν βρίσκει μονοπάτι από την αφετηρία στο στόχο.\n",
        "*   **Λαβύρινθος 2**: Ο Α* αργεί όσο το δυνατόν περισσότερο να βρει το βέλτιστο μονοπάτι ανεξαρτήτως της μετρικής απόστασης που χρησιμοποιείται ως ευριστική. Σε τι είδους μονοπάτι η επιλογή διαφορετικής μετρικής απόστασης (Ευκλίδεια/Manhattan) ως ευριστικής οδηγεί τον Α* να βρίσκει το μονοπάτι πιο γρήγορα;\n",
        "*   **Λαβύρινθος 3**: Ο αλγόριθμος άπληστης αναζήτησης πρώτα στο καλύτερο (greedy best first) αργεί σημαντικά περισσότερο από τον Α* για να καταλήξει στο στόχο. Σε ποια περίπτωση οι δύο αλγόριθμοι θα συμπεριφέρονταν με τον ίδιο τρόπο;\n",
        "*   **Λαβύρινθος 4**: Ο Α* καταφέρνει να βρει το μονοπάτι προς το στόχο σημαντικά πιο γρήγορα από τον Dijkstra. Ο χώρος πρέπει αναγκαστικά να περιέχει εμπόδια. Πώς επηρεάζει το μέγεθος/είδος του εμποδίου τον αριθμό βημάτων που χρειάζεται ο Dijsktra και πώς τον αριθμό βημάτων του Α*;\n",
        "*   **Λαβύρινθος 5**: Ο Α* και ο Dijkstra φτάνουν στο στόχο πραγματοποιώντας τον ίδιο ακριβώς αριθμό βημάτων για την προσέγγιση της βέλτιστης διαδρομής. Σημείωση: **αγνοήστε** την τετριμμένη περίπτωση όπου ο Α* συμπεριφέρεται όπως ο Dijkstra (h(n)=0). \n",
        "\n",
        "\n",
        "Ο Α* σε όλες τις περιπτώσεις πραγματοποιεί τη βέλτιστη δυνατή αναζήτηση.   \n",
        "\n",
        "\n",
        "Για κάθε λαβύρινθο που σχηματίζετε, δώστε μια σύντομη εξήγηση για την επιλογή σας.  \n",
        "\n",
        "**ΠΡΟΣΟΧΗ:** το output των κελιών που σχηματίζετε διατηρείται για περιορισμένο χρονικό διάστημα στο notebook, γι αυτό καλείστε να αποθηκεύσετε τη φωτογραφία (το πραγματοποιεί η συνάρτηση draw()) και να τη μεταφέρετε στο ανάλογο markdown ώστε να μπορέσουμε να την αξιολογήσουμε.\n",
        "\n",
        "\n",
        "Στη συνέχεια, καλείστε να τρέξετε τους αλγορίθμους pathfinding πάνω στους χάρτες που σχηματίσατε. Για το σκοπό αυτό, μετά την εκτέλεση της draw() καλείτε τη συνάρτηση draw_grid() που μετατρέπει την εικόνα που σχηματίσατε σε χάρτη πάνω στον οποίο μπορούν να τρέξουν οι αλγόριθμοι με χρήση της συνάρτησης pathfinder(). Χρειάζεται να επιλέξετε κατάλληλα τα ορίσματα της pathfinder ώστε να καλέσετε το σωστό αλγόριθμο αναζήτησης σε κάθε ερώτημα. Εκτελέστε τα αντίστοιχα κελιά με τον κώδικα που σας δίνεται και παρουσιάστε την έξοδο αυτών. Φυσικά, εάν ένα ερώτημα περιλαμβάνει την εκτέλεση περισσότερων του ενός αλγορίθμου, αντιγράφετε τα αντίστοιχα κελιά για κάθε αλγόριθμο και τοποθετείτε τα σωστά ορίσματα. Τέλος, η show_gif() σας παρουσιάζει το animation, όπως και στο Μέρος 3.\n",
        "**Παρατήρηση:** εφόσον δε σας δίνεται/δεν έχετε υλοποιήσει τον Hill climbing, δε σας ζητείται να τον τρέξετε στο χάρτη που θα σχηματίσετε."
      ]
    },
    {
      "cell_type": "markdown",
      "metadata": {
        "id": "k4B8EEBhClt2"
      },
      "source": [
        "# Κώδικας visualization\n"
      ]
    },
    {
      "cell_type": "code",
      "metadata": {
        "id": "fH9jHuU-Chps"
      },
      "source": [
        "import numpy as np\n",
        "import matplotlib.pyplot as plt\n",
        "import matplotlib.animation as animation\n",
        "from matplotlib.animation import PillowWriter\n",
        "from IPython.display import HTML\n",
        "\n",
        "class visualization:\n",
        "    def __init__(self, S, F):\n",
        "        '''\n",
        "          Η μέθοδος αυτή αρχικοποιεί ένα αντικείμενο τύπου visualization.\n",
        "          Είσοδος: \n",
        "          -> S: το σημείο εκκίνσης της αναζήτησης\n",
        "          -> F: το σημείο τερματισμού\n",
        "        '''\n",
        "        self.S = S\n",
        "        self.F = F\n",
        "        self.images = []\n",
        "    \n",
        "    def draw_step(self, grid, frontier, expanded_nodes):\n",
        "        '''\n",
        "          Η συνάρτηση αυτή καλείται για να σχεδιαστεί ένα frame στο animation (πρακτικά έπειτα από την επέκταση κάθε κόμβου)\n",
        "          Είσοδος: \n",
        "          -> grid: Ένα χάρτης τύπου grid\n",
        "          -> frontier: Μια λίστα με τους κόμβους που ανήκουν στο μέτωπο της αναζήτησης\n",
        "          -> expanded_nodes: Μια λίστα με τους κόμβους που έχουν ήδη επεκταθεί\n",
        "          Επιστρέφει: None\n",
        "          Η συνάρτηση αυτή πρέπει να καλεστεί τουλάχιστον μια φορά για να μπορέσει να σχεδιαστει ένα animation (πρεπεί το animation να έχει τουλάχιστον ένα frame).\n",
        "        '''\n",
        "        image = np.zeros((grid.N, grid.N, 3), dtype=int)\n",
        "        image[~grid.grid] = [0, 0, 0]\n",
        "        image[grid.grid] = [255, 255, 255]\n",
        "        # Use this to treat 1/True as obstacles\n",
        "        # image[grid.grid] = [0, 0, 0]\n",
        "        # image[~grid.grid] = [255, 255, 255]\n",
        "        \n",
        "        for node in expanded_nodes:\n",
        "            image[node] = [0, 0, 128]\n",
        "\n",
        "        for node in frontier:\n",
        "            image[node] = [0, 225, 0]\n",
        "\n",
        "        image[self.S] = [50, 168, 64]\n",
        "        image[self.F] = [168, 50, 50]\n",
        "        self.images.append(image)\n",
        "    \n",
        "    def add_path(self, path):\n",
        "        '''\n",
        "          Η συνάρτηση αυτή προσθέτει στο τελευταίο frame το βέλτιστο μονοπάτι.\n",
        "          Είσοδος:\n",
        "          -> path: Μια λίστα η όποια περιέχει το βέλτιστο μονοπάτι (η οποία πρέπει να περιέχει και τον κόμβο αρχή και τον κόμβο στόχο)\n",
        "          Έξοδος: None\n",
        "        '''\n",
        "        for n in path[1:-1]:\n",
        "            image = np.copy(self.images[-1])\n",
        "            image[n] = [66, 221, 245]\n",
        "            self.images.append(image)\n",
        "        for _ in range (100):\n",
        "            self.images.append(image)\n",
        "        \n",
        "    def create_gif(self, fps = 30, repeat_delay = 2000):\n",
        "        if len(self.images) == 0:\n",
        "            raise EmptyStackOfImages(\"Error! You have to call 'draw_step' at  first.\")\n",
        "        fig = plt.figure()\n",
        "        plt.axis('off')\n",
        "        ims = []\n",
        "        for img in self.images:\n",
        "            img = plt.imshow(img)\n",
        "            ims.append([img])\n",
        "        ani = animation.ArtistAnimation(fig, ims, interval=1000//fps, blit=True, repeat_delay= repeat_delay)\n",
        "        plt.close(fig)\n",
        "        return ani\n",
        "        \n",
        "    def save_gif(self, filename, fps = 30):\n",
        "        '''\n",
        "            Η συνάρτηση αυτή ξαναδημιουργεί και αποθηκεύει το animation σε ένα αρχείο.\n",
        "            Είσοδος:\n",
        "            -> Το όνομα του αρχείου με κατάληξη .gif\n",
        "            Έξοδος: (None)\n",
        "        '''\n",
        "        ani = self.create_gif(fps)\n",
        "        writer = PillowWriter(fps= fps)\n",
        "        ani.save(filename, writer=writer)\n",
        "\n",
        "    def show_gif(self, fps= 30, repeat_delay = 2000):\n",
        "        '''\n",
        "            Η συνάρτηση αυτή εμφανίζει inline το animation.\n",
        "            Είσοδος:\n",
        "            -> fps: τα frames per second\n",
        "            Έξοδος: Το αντικείμενο που παίζει το animation\n",
        "            Exceptions: EmptyStackOfImages αν το animation δεν έχει ούτε ένα frame, δηλαδή αν η draw_step δεν έχει καλεστεί ποτέ.\n",
        "        '''\n",
        "        ani = self.create_gif(fps, repeat_delay)\n",
        "        # return HTML(ani.to_html5_video())\n",
        "        return HTML(ani.to_jshtml())\n",
        "\n",
        "    def show_last_frame(self):\n",
        "        '''\n",
        "            Η μέθοδος αυτή εμφανίζει inline το τελευταίο frame που έχει δημιουργήθει.\n",
        "            Είσοδος:\n",
        "            Έξοδος: Το αντικείμενο που εμφανίζει την εικόνα.\n",
        "            Exceptions: EmptyStackOfImages αν το animation δεν έχει ούτε ένα frame, δηλαδή αν η draw_step δεν έχει καλεστεί ποτέ.\n",
        "        '''\n",
        "        if len(self.images) == 0:\n",
        "            raise EmptyStackOfImages(\"Error! You have to call 'draw_step' at  first.\")\n",
        "        else:\n",
        "            plt.imshow(self.images[-1])\n",
        "\n",
        "\n",
        "class EmptyStackOfImages(Exception):\n",
        "    pass"
      ],
      "execution_count": null,
      "outputs": []
    },
    {
      "cell_type": "markdown",
      "metadata": {
        "id": "_HWZO0-MAHKz"
      },
      "source": [
        "# Λύση\n",
        "\n"
      ]
    },
    {
      "cell_type": "markdown",
      "metadata": {
        "id": "MTiD83XMoM5u"
      },
      "source": [
        "## Μέρος 1\n",
        "\n",
        "Στο παρακάτω κελί κώδικα σας δίνεται ο σκελετός της κλάσης ```Maze```, όπου και θα υλοποιήσετε τον αλγόριθμο κατασκευής λαβυρίνθων. Για να λειτουργεί σωστά η οπτικοποίηση, ο λαβύριθνος αναπαριστάται ως ένας $N\\times{N}$ boolean πίνακας στο attribute ```grid``` της κλάσης. Η τιμή ```False``` σε ένα κελί του πίνακα αναπαριστά την ύπαρξη εμποδίου στο σημείο αυτό, ενώ η τιμή ```True``` ελεύθερο κελί.\n",
        "\n",
        "\n",
        "Μπορείτε να τροποποιήσετε τον δοσμένο κώδικα όπως θέλετε."
      ]
    },
    {
      "cell_type": "code",
      "metadata": {
        "id": "t-BBg2eWAFN4"
      },
      "source": [
        "%matplotlib inline\n",
        "import numpy as np\n",
        "from queue import LifoQueue\n",
        "import  random \n",
        "import matplotlib.pyplot as plt\n",
        "\n",
        "\n",
        "class Maze:\n",
        "    def __init__(self, N, S, F):\n",
        "\n",
        "      \"\"\"\n",
        "      N: integer that indicates the size of the NxN grid of the maze\n",
        "      S: pair of integers that indicates the coordinates of the starting point (S)\n",
        "      F: pair of integers that indicates the coordinates of the finish point (F)\n",
        "      You can add any other parameters you want to customize maze creation (e.g. variables that\n",
        "      control the creation of additional paths)\n",
        "      \"\"\"\n",
        "\n",
        "      assert N > 2\n",
        "\n",
        "      ## Make sure start and end are within the grid\n",
        "\n",
        "      assert S[0] < N-1\n",
        "      assert S[1] < N-1\n",
        "      assert F[0] < N-1\n",
        "      assert F[1] < N-1\n",
        "\n",
        "      assert S[0] > 0\n",
        "      assert S[1] > 0\n",
        "      assert F[0] > 0\n",
        "      assert F[1] > 0\n",
        "\n",
        "      # Add here any additional constraints your implementation may have\n",
        "\n",
        "      self.N = N\n",
        "      self.S = S\n",
        "      self.F = F\n",
        "\n",
        "      # Grid initialized with obstacles (array of 0/False)\n",
        "      # 1/True indicates available cells\n",
        "      self.grid = np.zeros((N, N), dtype=bool)\n",
        "      \n",
        "      ## YOUR CODE HERE  \n",
        "      curr_cell = [S[0],S[1]]                                                   # Initiate starting point\n",
        "      cell_stack = [curr_cell]                                                  # Put current cell in stack\n",
        "    \n",
        "      while (cell_stack != []):                                                 # While our stack is not empty  \n",
        "          potential_neighbours = [[curr_cell[0]+2, curr_cell[1]], [curr_cell[0]-2, curr_cell[1]], [curr_cell[0], curr_cell[1]-2], [curr_cell[0], curr_cell[1]+2]]  # Check possible neighbours2 blocks away\n",
        "          direction = ['D','U','L','R']                                         \n",
        "          valid_neighbours = []\n",
        "          valid_directions = []\n",
        "          for i in range(4):                                                    # loop 4 times to check all possible directions\n",
        "              x = potential_neighbours[i][0]                                    # Get i-element of potential_neibours \n",
        "              y = potential_neighbours[i][1]\n",
        "              if (0 < x < N-1) and (0 < y < N-1):                               # Condition to stay inside the maze\n",
        "                  if (direction[i] == 'D'):                                     # For i = 0\n",
        "                      if (self.grid[x][y] == False):                            # If \"down\" neighbor is false\n",
        "                          valid_neighbours.append(potential_neighbours[i])      # We add it to the valid list to choose from later\n",
        "                          valid_directions.append(direction[i])                 # Also store valid direction\n",
        "                  if (direction[i] == 'U'):                                     # Repeat for i = 1... \n",
        "                      if (self.grid[x][y] == False):\n",
        "                          valid_neighbours.append(potential_neighbours[i])\n",
        "                          valid_directions.append(direction[i])\n",
        "                  if (direction[i] == 'L'):                                     # Repeat for i = 2...\n",
        "                      if (self.grid[x][y] == False):\n",
        "                          valid_neighbours.append(potential_neighbours[i])\n",
        "                          valid_directions.append(direction[i])\n",
        "                  if (direction[i] == 'R'):                                     # Repeat for i = 3...\n",
        "                      if (self.grid[x][y] == False):\n",
        "                          valid_neighbours.append(potential_neighbours[i])\n",
        "                          valid_directions.append(direction[i])\n",
        "\n",
        "          if (valid_neighbours == []):                                          # If there are no valid neigbors                                       \n",
        "              curr_cell = cell_stack.pop()                                      # Go to previous cell\n",
        "              continue\n",
        "\n",
        "\n",
        "          next_dir = random.choice(valid_directions)                            # Choose randomly among valid directions\n",
        "          self.grid[curr_cell[0], curr_cell[1]] = True                          # Do current cell true \n",
        "          if next_dir == 'D':                                                   # If down is selcted\n",
        "              self.grid[curr_cell[0]+1, curr_cell[1]] = True                    # Do the exactly down cell true\n",
        "              self.grid[curr_cell[0]+2, curr_cell[1]] = True                    # Do the two down cell (the neighbor) true\n",
        "              next_cell = [curr_cell[0]+2,curr_cell[1]]\n",
        "          if next_dir == 'U':                                                   # If up is selected                       \n",
        "              self.grid[curr_cell[0]-1, curr_cell[1]] = True\n",
        "              self.grid[curr_cell[0]-2, curr_cell[1]] = True\n",
        "              next_cell = [curr_cell[0]-2,curr_cell[1]]\n",
        "          if next_dir == 'L':                                                   # If left is selected\n",
        "              self.grid[curr_cell[0], curr_cell[1]-1] = True\n",
        "              self.grid[curr_cell[0], curr_cell[1]-2] = True\n",
        "              next_cell = [curr_cell[0],curr_cell[1]-2]\n",
        "          if next_dir == 'R':                                                   # If right is selected\n",
        "              self.grid[curr_cell[0], curr_cell[1]+1] = True\n",
        "              self.grid[curr_cell[0], curr_cell[1]+2] = True\n",
        "              next_cell = [curr_cell[0],curr_cell[1]+2]\n",
        "          curr_cell = next_cell\n",
        "          cell_stack.append(curr_cell)                                          # Put next cell in stack\n",
        "      \n",
        "      self.grid[F[0]][F[1]] = True                                              # Make end cell true\n",
        "      \n",
        "      if (S[0] > 2):                                                            # Make sure we have more than one paths \n",
        "          self.grid[S[0]-1][S[1]] = True                                        # by opening holes near the starting cell\n",
        "      if (S[0] <  N-3):\n",
        "          self.grid[S[0]+1][S[1]] = True\n",
        "      if (S[1] > 2):\n",
        "          self.grid[S[0]][S[1]-1] = True\n",
        "      if (S[1] <  N-3):\n",
        "          self.grid[S[0]][S[1]+1] = True\n",
        "\n",
        "          \n",
        "    def transform_maze (self):                                                  # This is used to open holes in the map\n",
        "        transformed_grid =  self.grid\n",
        "        for i in range(1,self.N-1):                                             # Run through every cell\n",
        "            for j in range(1,self.N-1):\n",
        "                if (self.grid[i][j] == True):                                   # If current cell is True\n",
        "                    if (self.grid[i][j+1] == False and self.grid[i][j-1] == False and self.grid[i+1][j] == False):    # Case1: open hole down\n",
        "                        transformed_grid[i+1][j] = True\n",
        "                    elif (self.grid[i][j+1] == False and self.grid[i][j-1] == False and self.grid[i-1][j] == False):  # Case2: open hole up\n",
        "                        transformed_grid[i-1][j] = True\n",
        "                    elif (self.grid[i+1][j] == False and self.grid[i-1][j] == False and self.grid[i][j+1] == False):  # Case3: open hole right\n",
        "                        transformed_grid[i][j+1] = True\n",
        "                    elif (self.grid[i+1][j] == False and self.grid[i-1][j] == False and self.grid[i][j-1] == False):  # Case4: open hole left\n",
        "                        transformed_grid[i][j-1] = True\n",
        "        for i in range(0,self.N):                                               # Fix Borders\n",
        "            transformed_grid[0][i] = False\n",
        "            transformed_grid[self.N-1][i] = False\n",
        "            transformed_grid[i][0] = False\n",
        "            transformed_grid[i][self.N-1] = False\n",
        "            \n",
        "        self.grid = transformed_grid\n",
        "      \n",
        "\n",
        "\n",
        "    def draw_map(self, path=None):\n",
        "        \"\"\" Draws the maze as an image. Considers grid values of 0/False to represent obstacles and\n",
        "        values of 1/True to represent empty cells, but this can be customized. Obstacles are painted\n",
        "        black and empty cells are painted white. Starting point is painted green and finish point red.\n",
        "        Optionally accepts as a parameter a path within the maze which is painted blue. \n",
        "        \"\"\"\n",
        "        image = np.zeros((self.N, self.N, 3), dtype=int)\n",
        "        image[~self.grid] = [0, 0, 0]\n",
        "        image[self.grid] = [255, 255, 255]\n",
        "\n",
        "        # Uncomment the next 2 lines of code to treat 1/True as obstacles (and 0/False as free maze cells)\n",
        "        # image[self.grid] = [0, 0, 0]\n",
        "        # image[~self.grid] = [255, 255, 255]\n",
        "\n",
        "        image[self.S] = [50, 168, 64]\n",
        "        image[self.F] = [168, 50, 50]\n",
        "        if path:\n",
        "            for n in path[1:-1]:\n",
        "                image[n] = [66, 221, 245]\n",
        "\n",
        "        plt.imshow(image)\n",
        "        plt.xticks([])\n",
        "        plt.yticks([])\n",
        "        plt.show()"
      ],
      "execution_count": null,
      "outputs": []
    },
    {
      "cell_type": "markdown",
      "metadata": {
        "id": "mfGf9hhdno5p"
      },
      "source": [
        "Τρέξτε το παρακάτω κελί κώδικα πριν παραδώσετε την άσκηση για να φαίνονται παραδείγματα λαβυρίνθων. Μπορείτε να το τροποποιήσετε."
      ]
    },
    {
      "cell_type": "code",
      "metadata": {
        "id": "9LK61zuVBCi2",
        "colab": {
          "base_uri": "https://localhost:8080/",
          "height": 722
        },
        "outputId": "4afec4da-bdcf-4ca5-c640-8bd2c1e410a4"
      },
      "source": [
        "for N, S, F in (11, (1, 3), (7, 9)), (25, (3, 7), (23, 19)), (51, (9, 3), (41, 41)):\n",
        "    maze = Maze(N, S, F)\n",
        "    maze.transform_maze()\n",
        "    maze.draw_map()"
      ],
      "execution_count": null,
      "outputs": [
        {
          "output_type": "display_data",
          "data": {
            "image/png": "[encoded data removed]",
            "text/plain": [
              "<Figure size 432x288 with 1 Axes>"
            ]
          },
          "metadata": {}
        },
        {
          "output_type": "display_data",
          "data": {
            "image/png": "[encoded data removed]",
            "text/plain": [
              "<Figure size 432x288 with 1 Axes>"
            ]
          },
          "metadata": {}
        },
        {
          "output_type": "display_data",
          "data": {
            "image/png": "[encoded data removed]",
            "text/plain": [
              "<Figure size 432x288 with 1 Axes>"
            ]
          },
          "metadata": {}
        }
      ]
    },
    {
      "cell_type": "markdown",
      "metadata": {
        "id": "UKhJ8VJDn4ra"
      },
      "source": [
        "### Σχολιασμός\n",
        "\n",
        "Στο πρώτο τμήμα της εργασίας προκειμένου να παράγουμε τον τυχαίο λαβύρινθο, χρησιμοποιήσαμε την μέθοδο Iterative implementation (πηγή: https://en.wikipedia.org/wiki/Maze_generation_algorithm). Η διαφοροποίηση της εφαρμογής του αλγορίθμου στη δική μας περίπτωση, είναι η θεώρηση των γειτόνων ως 2 κελιά μακριά, ενώ στην αρχική εκδοχή οι γείτονες είναι τα ακριβώς διπλανά κελιά. Επιπλέον, έχουμε τροποποιήσει την αρχική ιδέα έτσι ώστε να δημιουργούνται περισσότερα από ένα μονοπάτια με τη χρήση της συνάρτησης transform_maze(). Οπότε, πλέον υπάρχει νόημα στην χρήση αλγορίθμων εύρεσης συντομότερων μονοπατιών.  "
      ]
    },
    {
      "cell_type": "markdown",
      "metadata": {
        "id": "7XhekogLCJ1i"
      },
      "source": [
        "## Μέρος 2\n",
        "\n",
        "Παρακάτω σας δίνετε ο σκελετός της κλάσης Pathfinder η οποία αρχικοποιείται με ένα αντικείμενο ```Maze``` (από το πρώτο μέρος), τη συνάρτηση πραγματικού κόστους ```c``` και την ευριστική ```h```. Σε αυτήν θα υλοποιήσετε τον αλγόριθμο αναζήτησης Α*.\n",
        "\n"
      ]
    },
    {
      "cell_type": "code",
      "metadata": {
        "id": "J_fZaRNvD2Y2"
      },
      "source": [
        "class Node():\n",
        "    #Την κλάση αυτή την χρησιμοποιούμε για να μπορούμε να κάνουμε ευκολότερη την\n",
        "    #καταγραφή του προηγούμενου κόμβου καθώς και τις συντεταγμένες\n",
        "    def __init__(self, parent=None, position=None):\n",
        "        self.parent = parent\n",
        "        self.position = position\n",
        "\n",
        "        self.g = 0\n",
        "        self.h = 0\n",
        "        self.f = 0\n",
        "\n",
        "class Pathfinder:\n",
        "    def __init__(self, maze, c, h):\n",
        "        \"\"\"\n",
        "        maze : Αντικείμενο τύπου Maze (από Μέρος 1)\n",
        "        c : Συνάρτηση που υπολογίζει την πραγματική απόσταση μεταξύ δύο σημείων\n",
        "        h : Συνάρτηση που υπολογίζει την ευριστική μεταξύ δύο σημείων\n",
        "        \"\"\"\n",
        "        self.maze = maze\n",
        "        self.vis = visualization(maze.S, maze.F)\n",
        "        self.path = []\n",
        "        self.cost = c\n",
        "        self.heuristic = h\n",
        "       \n",
        "       \n",
        "    ### Fill the path list with the coordinates of each point in the path from maze.S to maze.F\n",
        "    ### Your code here\n",
        "        start = Node(None, maze.S)                                              # Initialize start_node\n",
        "        start.g = start.h = start.f = 0\n",
        "        goal = Node(None, maze.F)                                               # Initialize end_node\n",
        "        goal.g = goal.h = goal.f = 0\n",
        "   \n",
        "        open_list = []                                                          # Initialize open and closed list                                                          \n",
        "        self.closed_list = []                                                                         \n",
        "\n",
        "        #Προσθέτουμε στο μέτωπο αναζήτησης τον πρώτο κόμβο\n",
        "        open_list.append(start)\n",
        "        \n",
        "        #Κάνουμε αναζήτηση όσο υπάρχουν κόμβοι στο μέτωπο αναζήτησης\n",
        "        while len(open_list) > 0:\n",
        "            \n",
        "            #Δουλεύουμε με τον πρώτο κόμβο του μετώπου αναζήτησης\n",
        "            current_node = open_list[0]\n",
        "            current_index = 0\n",
        "\n",
        "            # Βρίσκουμε τον κόμβο με το ελάχιστο f-κόστος στο μέτωπο αναζήτησης\n",
        "            for index, item in enumerate(open_list):\n",
        "                if item.f < current_node.f:\n",
        "                    current_node = item\n",
        "                    current_index = index\n",
        "\n",
        "            #Στη συνέχεια τον μετακινούμε στο κλειστό σύνολο και τον αφαιρούμε από το κλειστό σύνολο    \n",
        "            open_list.pop(current_index)\n",
        "            self.closed_list.append(current_node)\n",
        "\n",
        "            #Αν έιναι ο κόμβος στόχος τότε επιστρέφεται το μονοπάτι και ο βρόχος σταματά\n",
        "            if current_node.position == goal.position:\n",
        "                self.path = []\n",
        "                current = current_node                                          # Get current_node\n",
        "                while current is not None:                                      # While there are more nodes\n",
        "                    self.path.append(current.position)                          # Put current_node in path\n",
        "                    current = current.parent                                    # Go to father node so we eventually reach start_node\n",
        "                self.path = self.path[::-1]                                     # Return reversed path because we go from end to start (curr_node to father_node)\n",
        "                break\n",
        "\n",
        "            # Generate children\n",
        "            children = []\n",
        "            for new_position in [(0, -1), (0, 1), (-1, 0), (1, 0)]:\n",
        "\n",
        "                # Get node position\n",
        "                node_position = (current_node.position[0] + new_position[0], current_node.position[1] + new_position[1])\n",
        "\n",
        "                # Stay within range of map\n",
        "                if node_position[0] > (maze.N - 1) or node_position[0] < 0 or node_position[1] > (maze.N -1) or node_position[1] < 0:\n",
        "                    continue\n",
        "\n",
        "                # Can't go there if it is a false cell!\n",
        "                if maze.grid[node_position[0]][node_position[1]] == 0:\n",
        "                    continue\n",
        "   \n",
        "                new_node = Node(current_node, node_position)\n",
        "   \n",
        "                children.append(new_node)\n",
        "   \n",
        "            for next in children:\n",
        "                flag = False\n",
        "                for closed_next in self.closed_list:                            # If child already in closed_list break              \n",
        "                    if next.position == closed_next.position:\n",
        "                        flag = True\n",
        "                        break\n",
        "                if (flag == True):\n",
        "                    continue\n",
        "                \n",
        "                next.g = current_node.g + self.cost(0,0)                        # Give g,h,f values for each child\n",
        "                next.h = self.heuristic(next.position, goal.position)\n",
        "                next.f = next.g + next.h\n",
        "   \n",
        "                flag = False\n",
        "                for open_node in open_list:                                     # If child already in open_list break\n",
        "                    if next.position == open_node.position and next.g > open_node.g:\n",
        "                        flag = True\n",
        "                        break\n",
        "                if (flag == True):\n",
        "                    continue\n",
        "\n",
        "                #Προστίθεται άλλος ένας κόμβος στη λίστα\n",
        "                open_list.append(next)\n",
        "\n",
        "    #επιστρέφεται το μονοπάτι που ακολουθήσαμε           \n",
        "    def get_path(self):\n",
        "            return self.path\n",
        "\n",
        "    #επιστρέφεται το μήκος του μονοπατιού που ακολουθήσαμε\n",
        "    def get_path_length(self):\n",
        "            return len(self.path)\n",
        "\n",
        "    #Βρίσκουμε τους κόμβους στο κλειστό σύνολο\n",
        "    def get_expanded_nodes(self):\n",
        "        return len(self.closed_list)\n",
        "       "
      ],
      "execution_count": null,
      "outputs": []
    },
    {
      "cell_type": "markdown",
      "metadata": {
        "id": "o4Y5iT5MManD"
      },
      "source": [
        "### Σχολιασμός\n",
        "\n",
        "Η υλοποίηση του αλγορίθμου A* βασίστηκε στη προτεινόμενη βιβλιογραφία και στο ακόλουθο άρθρο: https://medium.com/@nicholas.w.swift/easy-a-star-pathfinding-7e6689c7f7b2. Με την υλοποίηση μας, μπορούμε με την κλήση της συνάρτησης να χρησιμοποιήσουμε κάθε φορά διάφορες εκδοχές του αλγορίθμου ανάλογα με τις τιμές g και h. Επιπρόσθετα, έχουν οριστεί κάποιες επιπλέον συναρτήσεις της κλάσης Pathfinder, οι οποίες αξιοποιούνται στο ερώτημα 3. Ακόμα, ιδιαίτερα βοηθητική είναι η κλάση node η οποία διευκολύνει τόσο την διαισθητική κατανόηση όσο και τον αλγόριθμο προκειμένου να βρούμε το προηγούμενο κόμβο και συγκεκριμένες συντεταγμένες.\n",
        "\n",
        "Το γεγονός ότι αναφερόμαστε σε ένα πλέγμα που αποτελείται από μοναδιαία κελια κα ιδεν μπορούμε να κινηθούμε διαγώνια, επιτρέπει τη παραδοχή ότι η ευριστική συνάρτηση manhattan και η euclidean θα επιστρέφουν το ίδιο κελί.\n",
        "\n",
        "Α)g(n)=0 και h(n)={manhattan(n),euclidean(n)}: Με αυτά τα ορίσματα, ο αλγόριθμος A* συμπεριφέρεται ως best first, αφού στην ουσία λαμβάνουμε υπόψη μόνο την ευριστική συνάρτηση και όχι το πραγματικό κόστος από τον αρχικό κόμβο. Δεδομένου ότι ο best first δεν βρίσκει πάντοτε το βέλτιστο μονοπάτι, μπορούμε να πούμε ότι ο A* με τα παραπάνω ορίσματα δεν θα βρίσκει απαραίτητα το συντομότερο μονοπάτι.\n",
        "\n",
        "Β)g(n)=1 και h(n)=0: Με αυτά τα ορίσματα, ο αλγόριθμος A* συμπεριφέρεται ως bfs, από τη στιγμή που δεν χρησιμοποιείται κάποια ευριστική συνάρτηση και όλα τα κόστη είναι 1. Ο bfs δεν βρίσκει κατ' ανάγκη το βέλτιστο μονοπάτι, άρα και ο A* με τα ορίσματα αυτά ενδεχομένως να μην επιστρέψει το συντομότερο μονοπάτι.\n",
        "\n",
        "Γ)g(n)=1 και h(n)={manhattan(n),euclidean(n)}: Στην περίπτωση αυτή, ο αλγόριθμος A* αξιοποιώντας το άθροισμα της ευριστικής και της πραγματικής τιμής, βρίσκει πάντα το βέλτιστο μονοπάτι αφού η ευριστική τιμή κάθε κελιού ποτέ δεν ξεπερνάει τη τιμή της απόστασης του κελιού αυτού από το στόχο.\n",
        "\n",
        "Τέλος μπορεί να γίνει χρήση άλλων ευριστικών συναρτήσεων για το πρόβλημα maze όπως:\n",
        "-Breaking ties\n",
        "-Euclidean distance, squared\n",
        "-Diagonal distance\n"
      ]
    },
    {
      "cell_type": "markdown",
      "metadata": {
        "id": "7mA1elqEy-GU"
      },
      "source": [
        "Για να δείτε το μονοπάτι που κατασκευάσατε, μπορείτε να καλείτε τη μέθοδο ```draw_map``` του αντικειμένου ```maze``` οπως φαίνεται στο παρακάτω κελί."
      ]
    },
    {
      "cell_type": "code",
      "metadata": {
        "id": "fwcVPbRACUIz",
        "colab": {
          "base_uri": "https://localhost:8080/",
          "height": 252
        },
        "outputId": "e57e8e43-8e27-443a-a015-f9599be9b27a"
      },
      "source": [
        "import math\n",
        "\n",
        "## A heuristic\n",
        "def manhattan(a, b):\n",
        "    return abs(a[0] - b[0]) + abs(a[1] - b[1])\n",
        "\n",
        "def euclidean(a, b):\n",
        "    return np.sqrt((a[0]-b[0])**2 + (a[1]-b[1])**2)\n",
        "\n",
        "## Create a 41x41 maze\n",
        "N = 41\n",
        "S = (3, 6)\n",
        "F = (34, 34)\n",
        "maze = Maze(N, S, F)\n",
        "maze.transform_maze()\n",
        "\n",
        "## Find and visualize the path\n",
        "pf = Pathfinder(maze=maze, c = lambda x, y: 1, h = manhattan)\n",
        "maze.draw_map(pf.get_path())"
      ],
      "execution_count": null,
      "outputs": [
        {
          "output_type": "display_data",
          "data": {
            "image/png": "[encoded data removed]",
            "text/plain": [
              "<Figure size 432x288 with 1 Axes>"
            ]
          },
          "metadata": {}
        }
      ]
    },
    {
      "cell_type": "markdown",
      "metadata": {
        "id": "lulTcEPq0nMV"
      },
      "source": [
        "Για να χρονομετρήσετε το τρέξιμο ενός κελιού μπορείτε να χρησιμοποιήσετε το μαγικό ```%%time```"
      ]
    },
    {
      "cell_type": "code",
      "metadata": {
        "id": "--yjHv6503F_",
        "colab": {
          "base_uri": "https://localhost:8080/",
          "height": 286
        },
        "outputId": "e7ce1e17-a0e4-4ca5-cc80-fec9ebf2ca1d"
      },
      "source": [
        "%%time\n",
        "pf = Pathfinder(maze, c= lambda x, y: 1, h=manhattan)\n",
        "maze.draw_map(pf.get_path())"
      ],
      "execution_count": null,
      "outputs": [
        {
          "output_type": "display_data",
          "data": {
            "image/png": "[encoded data removed]",
            "text/plain": [
              "<Figure size 432x288 with 1 Axes>"
            ]
          },
          "metadata": {}
        },
        {
          "output_type": "stream",
          "name": "stdout",
          "text": [
            "CPU times: user 85.6 ms, sys: 3.01 ms, total: 88.7 ms\n",
            "Wall time: 90.4 ms\n"
          ]
        }
      ]
    },
    {
      "cell_type": "markdown",
      "metadata": {
        "id": "XmmqhRLfEjKj"
      },
      "source": [
        "## Μέρος 3\n",
        "\n",
        "Στο παρακάτω κελί σας δίνεται ένα παράδειγμα για την κατασκευή γραφικών παραστάσεων. Θα πρέπει να κατασκευάσετε τις δύο γραφικές παραστάσεις σύμφωνα με τα ζητούμενα της άσκησης."
      ]
    },
    {
      "cell_type": "code",
      "metadata": {
        "colab": {
          "base_uri": "https://localhost:8080/",
          "height": 545
        },
        "id": "KMtfjANT_OnJ",
        "outputId": "3bb512d6-3310-41ee-ac98-bd283308a9d4"
      },
      "source": [
        "## YOUR CODE HERE\n",
        "path_lengths1 = []\n",
        "expanded_nodes1 = []\n",
        "for i in range(11,50,2):\n",
        "    total_path_lengths = 0\n",
        "    total_expanded_nodes = 0\n",
        "    for j in range(0,10):\n",
        "        S = (1,1)\n",
        "        F = (i-2, i-2)\n",
        "        maze = Maze(i, S, F)\n",
        "        maze.transform_maze()\n",
        "        pf = Pathfinder(maze=maze, c = lambda x, y: 0, h = manhattan)\n",
        "        path = pf.get_path_length()\n",
        "        expanded_node = pf.get_expanded_nodes()\n",
        "        total_path_lengths = total_path_lengths + path\n",
        "        total_expanded_nodes = total_expanded_nodes + expanded_node\n",
        "    \n",
        "    total_path_lengths = total_path_lengths/10\n",
        "    path_lengths1.append(total_path_lengths)\n",
        "    total_expanded_nodes = total_expanded_nodes/10\n",
        "    expanded_nodes1.append(total_expanded_nodes)\n",
        "        \n",
        "path_lengths2 = []\n",
        "expanded_nodes2 = []       \n",
        "for i in range(11,50,2):\n",
        "    total_path_lengths = 0\n",
        "    total_expanded_nodes = 0\n",
        "    for j in range(0,10):\n",
        "        S = (1,1)\n",
        "        F = (i-2, i-2)\n",
        "        maze = Maze(i, S, F)\n",
        "        maze.transform_maze()\n",
        "        pf = Pathfinder(maze=maze, c = lambda x, y: 1, h = manhattan)\n",
        "        path = pf.get_path_length()\n",
        "        expanded_node = pf.get_expanded_nodes()\n",
        "        total_path_lengths = total_path_lengths + path\n",
        "        total_expanded_nodes = total_expanded_nodes + expanded_node\n",
        "    \n",
        "    total_path_lengths = total_path_lengths/10\n",
        "    path_lengths2.append(total_path_lengths)\n",
        "    total_expanded_nodes = total_expanded_nodes/10\n",
        "    expanded_nodes2.append(total_expanded_nodes) \n",
        "    \n",
        "path_lengths3 = []\n",
        "expanded_nodes3 = []       \n",
        "for i in range(11,50,2):\n",
        "    total_path_lengths = 0\n",
        "    total_expanded_nodes = 0\n",
        "    for j in range(0,10):\n",
        "        S = (1,1)\n",
        "        F = (i-2, i-2)\n",
        "        maze = Maze(i, S, F)\n",
        "        maze.transform_maze()\n",
        "        pf = Pathfinder(maze=maze, c = lambda x, y: 1, h = lambda x, y: 0)\n",
        "        path = pf.get_path_length()\n",
        "        expanded_node = pf.get_expanded_nodes()\n",
        "        total_path_lengths = total_path_lengths + path\n",
        "        total_expanded_nodes = total_expanded_nodes + expanded_node\n",
        "    \n",
        "    total_path_lengths = total_path_lengths/10\n",
        "    path_lengths3.append(total_path_lengths)\n",
        "    total_expanded_nodes = total_expanded_nodes/10\n",
        "    expanded_nodes3.append(total_expanded_nodes) \n",
        "    \n",
        "x = range(11,50,2)\n",
        "plt.figure(1)\n",
        "plt.title(\"Path length vs maze size\")\n",
        "plt.plot(x, path_lengths1, label = 'Best First')\n",
        "plt.plot(x, path_lengths2, label = 'A*')\n",
        "plt.plot(x, path_lengths3, label = 'BFS')\n",
        "plt.legend()\n",
        "plt.figure(2)\n",
        "plt.title(\"Expanded nodes vs maze size\")\n",
        "plt.plot(x, expanded_nodes1, label = 'Best First')\n",
        "plt.plot(x, expanded_nodes2, label = 'A*')\n",
        "plt.plot(x, expanded_nodes3, label = 'BFS')\n",
        "plt.legend()\n",
        "plt.show()\n"
      ],
      "execution_count": null,
      "outputs": [
        {
          "output_type": "display_data",
          "data": {
            "image/png": "[encoded data removed]",
            "text/plain": [
              "<Figure size 432x288 with 1 Axes>"
            ]
          },
          "metadata": {
            "needs_background": "light"
          }
        },
        {
          "output_type": "display_data",
          "data": {
            "image/png": "[encoded data removed]",
            "text/plain": [
              "<Figure size 432x288 with 1 Axes>"
            ]
          },
          "metadata": {
            "needs_background": "light"
          }
        }
      ]
    },
    {
      "cell_type": "markdown",
      "metadata": {
        "id": "THn6XtK3HtPL"
      },
      "source": [
        "###Σχολιασμός\n",
        "Από το πρώτο διάγραμμα είναι φανερό πως ο best first βρίσκει λιγότερο καλές λύσεις από τους άλλους δύο αλγορίθμους. Αυτό είναι λογικό από τη στιγμή που ο A* και ο BFS βρίσκουν το βέλτιστο μονοπάτι. \n",
        "\n",
        "Όσον αφορά το δεύτερο διάγραμμα παρατηρούμε πως ο BFS έχει σημαντικά χειρότερη worst case complexity από τους άλλους δύο αλγορίθμους. Έπειτα ακολουθεί ο A* και τέλος ο best first, με τη μικρότερη πολυπλοκότητα, αφού το μοναδικό του κριτήριο είναι η ευριστική συνάρτηση και επομένως έχει μικρότερο μέτωπο αναζήτησης. Συνοπτικά, το δεύτερο σχήμα αντανακλά την πολυπλοκότητα του κάθε αλγορίθμου. \n",
        "\n",
        "Τα διαγράμματα τρέχουν σε τυχαίους λαβυρίνθους και είναι πειραματικά δεδομένα συνεπώς θεωρούμε λογική την ύπαρξη αποκλίσεων."
      ]
    },
    {
      "cell_type": "markdown",
      "metadata": {
        "id": "u3Ar_h-6EbZ6"
      },
      "source": [
        "## Μέρος 4\n",
        "\n",
        "Σας δίνεται η συνάρτηση ```draw(filename='filename.png')``` η οποία παράγει ένα interactive grid ώστε να σχηματίσετε το λαβύρινθο. Θεωρήστε ως μαύρο το χρώμα του εμποδίου, πράσινο την αφετηρία και κόκκινο το στόχο, και πατήστε finish για να ολοκληρωθεί η εκτέλεση του τρέχοντος κελιού. Σε περίπτωση που θέλετε να παράξετε νέο λαβύρινθο, απλά ξανατρέξτε το κελί, επιλέξτε τα τετράγωνα και πατήστε finish. Κάθε εκτέλεση αποθηκεύει την εικόνα σε μορφή png σε όνομα που μπορείτε να καθορίσετε μέσω του filename (τοποθετώντας και την κατάληξη .png) κατά την κλήση της συνάρτησης.  \n",
        "\n",
        "Μπορείτε να το δοκιμάσετε τρέχοντας το επόμενο κελί κώδικα.\n"
      ]
    },
    {
      "cell_type": "code",
      "metadata": {
        "colab": {
          "base_uri": "https://localhost:8080/",
          "height": 398
        },
        "id": "k58iY7EPSa_m",
        "outputId": "eba7df2b-d98b-437d-c494-110e5379faf7"
      },
      "source": [
        "from IPython.display import HTML, Image\n",
        "from google.colab.output import eval_js\n",
        "from base64 import b64decode\n",
        "import PIL\n",
        "\n",
        "\n",
        "canvas_html = \"\"\"\n",
        "<canvas width=301 height=301></canvas>\n",
        "<br>\n",
        "\n",
        "<button id = \"start\" style=\"background-color: #008000\">Start</button>\n",
        "<button id = \"end\" style=\"background-color: #800000\">End</button>\n",
        "<button id = \"finish\">Finish</button>\n",
        "<script>\n",
        "\n",
        "var canvas = document.querySelector('canvas')\n",
        "var ctx = canvas.getContext('2d')\n",
        "\n",
        "for (var x = 0.5; x < 301; x += 20) {\n",
        "  ctx.moveTo(x, 0);\n",
        "  ctx.lineTo(x, 300);\n",
        "}\n",
        "\n",
        "for (var y = 0.5; y < 301; y += 20) {\n",
        "  ctx.moveTo(0, y);\n",
        "  ctx.lineTo(300, y);\n",
        "}\n",
        "\n",
        "ctx.strokeStyle = \"#000\";\n",
        "ctx.stroke();\n",
        "\n",
        "var button = document.getElementById('finish')\n",
        "var start_button = document.getElementById('start')\n",
        "var end_button = document.getElementById('end')\n",
        "\n",
        "\n",
        "start_button.onclick = ()=>{\n",
        "    ctx.fillStyle=\"#008000\";\n",
        "  }\n",
        "\n",
        "end_button.onclick = ()=>{\n",
        "    ctx.fillStyle=\"#800000\";\n",
        "  }\n",
        "   \n",
        "\n",
        "var mouse = {x: 0, y: 0}\n",
        "canvas.addEventListener('mousemove', function(e) {\n",
        "  mouse.x = e.pageX - this.offsetLeft\n",
        "  mouse.y = e.pageY - this.offsetTop\n",
        "})\n",
        "\n",
        "function getMousePos(canvas, evt) {\n",
        "        var rect = canvas.getBoundingClientRect();\n",
        "        return {\n",
        "          x: evt.x - rect.left,\n",
        "          y: evt.y - rect.top\n",
        "        };\n",
        "      }\n",
        "\n",
        "function getNearestSquare(position) {\n",
        "    var x = position.x;\n",
        "    var y = position.y;\n",
        "\n",
        "    if (x < 0 || y < 0) return null;\n",
        "    x = (Math.floor(x / 20) * 20) + 0.5\n",
        "    y = (Math.floor(y / 20) * 20) + 0.5\n",
        "    return {x: x, y: y};\n",
        "}\n",
        "\n",
        "function containsObject(obj, list) {\n",
        "    var i;\n",
        "    for (i = 0; i < list.length; i++) {\n",
        "        if (list[i].x === obj.x && list[i].y == obj.y) {\n",
        "            return i;\n",
        "        }\n",
        "    }\n",
        "    return -1;\n",
        "}\n",
        "\n",
        "borders = []\n",
        "\n",
        "canvas.onmousedown = ()=>{\n",
        "    var pos = getNearestSquare(getMousePos(canvas, mouse));\n",
        "    if (pos != null) {\n",
        "        index = containsObject(pos, borders)\n",
        "        if (index != -1){\n",
        "            borders.splice(index, 1)\n",
        "            ctx.clearRect(pos.x + 1, pos.y, 19, 19)\n",
        "        }\n",
        "        else{\n",
        "            ctx.fillRect(pos.x+1,pos.y+1,18,18);\n",
        "            borders.push(pos)\n",
        "        }\n",
        "        ctx.fillStyle=\"#000000\";\n",
        "    }\n",
        "}\n",
        "var data = new Promise(resolve=>{\n",
        "  button.onclick = ()=>{\n",
        "    resolve(canvas.toDataURL('image/png'))\n",
        "  }\n",
        "})\n",
        "</script>\n",
        "\"\"\"\n",
        "\n",
        "def draw(filename='drawing.png'):\n",
        "  display(HTML(canvas_html))\n",
        "  data = eval_js(\"data\")\n",
        "  print (data)\n",
        "  binary = b64decode(data.split(',')[1])\n",
        "  with open(filename, 'wb') as f:\n",
        "    f.write(binary)\n",
        "  return len(binary)\n",
        "\n",
        "\n",
        "draw()"
      ],
      "execution_count": null,
      "outputs": [
        {
          "output_type": "display_data",
          "data": {
            "text/html": [
              "\n",
              "<canvas width=301 height=301></canvas>\n",
              "<br>\n",
              "\n",
              "<button id = \"start\" style=\"background-color: #008000\">Start</button>\n",
              "<button id = \"end\" style=\"background-color: #800000\">End</button>\n",
              "<button id = \"finish\">Finish</button>\n",
              "<script>\n",
              "\n",
              "var canvas = document.querySelector('canvas')\n",
              "var ctx = canvas.getContext('2d')\n",
              "\n",
              "for (var x = 0.5; x < 301; x += 20) {\n",
              "  ctx.moveTo(x, 0);\n",
              "  ctx.lineTo(x, 300);\n",
              "}\n",
              "\n",
              "for (var y = 0.5; y < 301; y += 20) {\n",
              "  ctx.moveTo(0, y);\n",
              "  ctx.lineTo(300, y);\n",
              "}\n",
              "\n",
              "ctx.strokeStyle = \"#000\";\n",
              "ctx.stroke();\n",
              "\n",
              "var button = document.getElementById('finish')\n",
              "var start_button = document.getElementById('start')\n",
              "var end_button = document.getElementById('end')\n",
              "\n",
              "\n",
              "start_button.onclick = ()=>{\n",
              "    ctx.fillStyle=\"#008000\";\n",
              "  }\n",
              "\n",
              "end_button.onclick = ()=>{\n",
              "    ctx.fillStyle=\"#800000\";\n",
              "  }\n",
              "   \n",
              "\n",
              "var mouse = {x: 0, y: 0}\n",
              "canvas.addEventListener('mousemove', function(e) {\n",
              "  mouse.x = e.pageX - this.offsetLeft\n",
              "  mouse.y = e.pageY - this.offsetTop\n",
              "})\n",
              "\n",
              "function getMousePos(canvas, evt) {\n",
              "        var rect = canvas.getBoundingClientRect();\n",
              "        return {\n",
              "          x: evt.x - rect.left,\n",
              "          y: evt.y - rect.top\n",
              "        };\n",
              "      }\n",
              "\n",
              "function getNearestSquare(position) {\n",
              "    var x = position.x;\n",
              "    var y = position.y;\n",
              "\n",
              "    if (x < 0 || y < 0) return null;\n",
              "    x = (Math.floor(x / 20) * 20) + 0.5\n",
              "    y = (Math.floor(y / 20) * 20) + 0.5\n",
              "    return {x: x, y: y};\n",
              "}\n",
              "\n",
              "function containsObject(obj, list) {\n",
              "    var i;\n",
              "    for (i = 0; i < list.length; i++) {\n",
              "        if (list[i].x === obj.x && list[i].y == obj.y) {\n",
              "            return i;\n",
              "        }\n",
              "    }\n",
              "    return -1;\n",
              "}\n",
              "\n",
              "borders = []\n",
              "\n",
              "canvas.onmousedown = ()=>{\n",
              "    var pos = getNearestSquare(getMousePos(canvas, mouse));\n",
              "    if (pos != null) {\n",
              "        index = containsObject(pos, borders)\n",
              "        if (index != -1){\n",
              "            borders.splice(index, 1)\n",
              "            ctx.clearRect(pos.x + 1, pos.y, 19, 19)\n",
              "        }\n",
              "        else{\n",
              "            ctx.fillRect(pos.x+1,pos.y+1,18,18);\n",
              "            borders.push(pos)\n",
              "        }\n",
              "        ctx.fillStyle=\"#000000\";\n",
              "    }\n",
              "}\n",
              "var data = new Promise(resolve=>{\n",
              "  button.onclick = ()=>{\n",
              "    resolve(canvas.toDataURL('image/png'))\n",
              "  }\n",
              "})\n",
              "</script>\n"
            ],
            "text/plain": [
              "<IPython.core.display.HTML object>"
            ]
          },
          "metadata": {}
        },
        {
          "output_type": "stream",
          "name": "stdout",
          "text": [
            "data:image/png;base64,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\n"
          ]
        },
        {
          "output_type": "execute_result",
          "data": {
            "text/plain": [
              "4370"
            ]
          },
          "metadata": {},
          "execution_count": 237
        }
      ]
    },
    {
      "cell_type": "markdown",
      "metadata": {
        "id": "aeYumpL5FrUF"
      },
      "source": [
        "Οι συναρτήσεις στο παρακάτω κελί κώδικα είναι βοηθητικές. Μετατρέπουν την εικόνα που αποθηκεύεται από την ```draw``` του προηγούμενου κελιου ξανά σε αντικείμενο τύπου Maze για να μπορέσετε να τρέξετε τους αλγορίθμους που έχετε υλοποιήσει καθώς και τον κώδικα visualization που σας δίνεται."
      ]
    },
    {
      "cell_type": "code",
      "metadata": {
        "id": "D8fS2Z9Xg4fS"
      },
      "source": [
        "def find_points(image_array, pixels):\n",
        "    points = []\n",
        "    for grid_i, i in enumerate(range (10, image_array.shape[0]-10, 20)):\n",
        "        for grid_j, j in enumerate(range (10, image_array.shape[1]-10, 20)):\n",
        "            if np.array_equal(image_array[i][j], pixels):\n",
        "                points.append([grid_i+1, grid_j+1])\n",
        "    return points\n",
        "\n",
        "def load_maze(fname='/content/drawing.png'):\n",
        "    N = 17\n",
        "    image = PIL.Image.open(fname)\n",
        "    image_array = np.round(np.array(image)/255)\n",
        "\n",
        "    start_x, start_y = find_points(image_array, [0,1,0,1])[0]\n",
        "    end_x, end_y = find_points(image_array, [1, 0, 0, 1])[0]\n",
        "    walls = find_points(image_array, [0, 0, 0, 1])\n",
        "    new_grid = Maze(N, (start_x, start_y), (end_x, end_y))\n",
        "\n",
        "    for i in range(N):\n",
        "        for j in range(N):\n",
        "            if [i, j] in walls:\n",
        "                new_grid.grid[i,j] = 0\n",
        "            else:\n",
        "                new_grid.grid[i, j] = 1\n",
        "\n",
        "    g = new_grid\n",
        "    g.draw_map()\n",
        "    return g\n"
      ],
      "execution_count": null,
      "outputs": []
    },
    {
      "cell_type": "markdown",
      "metadata": {
        "id": "8o3F5sGT1YNm"
      },
      "source": [
        "\n",
        "Υπενθυμίζεται ότι το output των κελιών που σχηματίζετε διατηρείται για περιορισμένο χρονικό διάστημα στο notebook, γι αυτό καλείστε να αποθηκεύσετε τη φωτογραφία (το πραγματοποιεί η συνάρτηση draw()) και να τη μεταφέρετε στο ανάλογο markdown."
      ]
    },
    {
      "cell_type": "markdown",
      "metadata": {
        "id": "tprNeqaPIdlW"
      },
      "source": [
        "### 4.1.  "
      ]
    },
    {
      "cell_type": "code",
      "metadata": {
        "id": "vF3u1cCeIo9H",
        "colab": {
          "base_uri": "https://localhost:8080/",
          "height": 398
        },
        "outputId": "f46ce0e0-e2b9-46b7-d8dc-ab83d5e18f3a"
      },
      "source": [
        "draw(filename='4.1.png')"
      ],
      "execution_count": null,
      "outputs": [
        {
          "output_type": "display_data",
          "data": {
            "text/html": [
              "\n",
              "<canvas width=301 height=301></canvas>\n",
              "<br>\n",
              "\n",
              "<button id = \"start\" style=\"background-color: #008000\">Start</button>\n",
              "<button id = \"end\" style=\"background-color: #800000\">End</button>\n",
              "<button id = \"finish\">Finish</button>\n",
              "<script>\n",
              "\n",
              "var canvas = document.querySelector('canvas')\n",
              "var ctx = canvas.getContext('2d')\n",
              "\n",
              "for (var x = 0.5; x < 301; x += 20) {\n",
              "  ctx.moveTo(x, 0);\n",
              "  ctx.lineTo(x, 300);\n",
              "}\n",
              "\n",
              "for (var y = 0.5; y < 301; y += 20) {\n",
              "  ctx.moveTo(0, y);\n",
              "  ctx.lineTo(300, y);\n",
              "}\n",
              "\n",
              "ctx.strokeStyle = \"#000\";\n",
              "ctx.stroke();\n",
              "\n",
              "var button = document.getElementById('finish')\n",
              "var start_button = document.getElementById('start')\n",
              "var end_button = document.getElementById('end')\n",
              "\n",
              "\n",
              "start_button.onclick = ()=>{\n",
              "    ctx.fillStyle=\"#008000\";\n",
              "  }\n",
              "\n",
              "end_button.onclick = ()=>{\n",
              "    ctx.fillStyle=\"#800000\";\n",
              "  }\n",
              "   \n",
              "\n",
              "var mouse = {x: 0, y: 0}\n",
              "canvas.addEventListener('mousemove', function(e) {\n",
              "  mouse.x = e.pageX - this.offsetLeft\n",
              "  mouse.y = e.pageY - this.offsetTop\n",
              "})\n",
              "\n",
              "function getMousePos(canvas, evt) {\n",
              "        var rect = canvas.getBoundingClientRect();\n",
              "        return {\n",
              "          x: evt.x - rect.left,\n",
              "          y: evt.y - rect.top\n",
              "        };\n",
              "      }\n",
              "\n",
              "function getNearestSquare(position) {\n",
              "    var x = position.x;\n",
              "    var y = position.y;\n",
              "\n",
              "    if (x < 0 || y < 0) return null;\n",
              "    x = (Math.floor(x / 20) * 20) + 0.5\n",
              "    y = (Math.floor(y / 20) * 20) + 0.5\n",
              "    return {x: x, y: y};\n",
              "}\n",
              "\n",
              "function containsObject(obj, list) {\n",
              "    var i;\n",
              "    for (i = 0; i < list.length; i++) {\n",
              "        if (list[i].x === obj.x && list[i].y == obj.y) {\n",
              "            return i;\n",
              "        }\n",
              "    }\n",
              "    return -1;\n",
              "}\n",
              "\n",
              "borders = []\n",
              "\n",
              "canvas.onmousedown = ()=>{\n",
              "    var pos = getNearestSquare(getMousePos(canvas, mouse));\n",
              "    if (pos != null) {\n",
              "        index = containsObject(pos, borders)\n",
              "        if (index != -1){\n",
              "            borders.splice(index, 1)\n",
              "            ctx.clearRect(pos.x + 1, pos.y, 19, 19)\n",
              "        }\n",
              "        else{\n",
              "            ctx.fillRect(pos.x+1,pos.y+1,18,18);\n",
              "            borders.push(pos)\n",
              "        }\n",
              "        ctx.fillStyle=\"#000000\";\n",
              "    }\n",
              "}\n",
              "var data = new Promise(resolve=>{\n",
              "  button.onclick = ()=>{\n",
              "    resolve(canvas.toDataURL('image/png'))\n",
              "  }\n",
              "})\n",
              "</script>\n"
            ],
            "text/plain": [
              "<IPython.core.display.HTML object>"
            ]
          },
          "metadata": {}
        },
        {
          "output_type": "stream",
          "name": "stdout",
          "text": [
            "data:image/png;base64,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\n"
          ]
        },
        {
          "output_type": "execute_result",
          "data": {
            "text/plain": [
              "4811"
            ]
          },
          "metadata": {},
          "execution_count": 62
        }
      ]
    },
    {
      "cell_type": "markdown",
      "metadata": {
        "id": "QjwsOf63Ir7V"
      },
      "source": [
        "###Σχολιασμός\n",
        "Στο λαβύρινθο αυτό ο hill climbing αποτυγχάνει να βρει μονοπάτι σε κάθε του εκτέλεση. Αυτό συμβαίνει επειδή φτάνει σε κελί με μικρότερη ευριστική από όλα τα γύρω του κελιά."
      ]
    },
    {
      "cell_type": "code",
      "metadata": {
        "colab": {
          "base_uri": "https://localhost:8080/",
          "height": 252
        },
        "id": "x3SxuVHIE2yw",
        "outputId": "d5f8c2e9-e786-40de-b486-12fb4b60e55f"
      },
      "source": [
        "g = load_maze('4.1.png')"
      ],
      "execution_count": null,
      "outputs": [
        {
          "output_type": "display_data",
          "data": {
            "image/png": "[encoded data removed]",
            "text/plain": [
              "<Figure size 432x288 with 1 Axes>"
            ]
          },
          "metadata": {}
        }
      ]
    },
    {
      "cell_type": "markdown",
      "metadata": {
        "id": "CxyUgnTaIhHa"
      },
      "source": [
        "### 4.2.  "
      ]
    },
    {
      "cell_type": "code",
      "metadata": {
        "id": "ZT1RxaUJJBok",
        "colab": {
          "base_uri": "https://localhost:8080/",
          "height": 398
        },
        "outputId": "b7b78f60-2016-45c0-8406-e50f4b3c9077"
      },
      "source": [
        "draw(filename='4.2.png')"
      ],
      "execution_count": null,
      "outputs": [
        {
          "output_type": "display_data",
          "data": {
            "text/html": [
              "\n",
              "<canvas width=301 height=301></canvas>\n",
              "<br>\n",
              "\n",
              "<button id = \"start\" style=\"background-color: #008000\">Start</button>\n",
              "<button id = \"end\" style=\"background-color: #800000\">End</button>\n",
              "<button id = \"finish\">Finish</button>\n",
              "<script>\n",
              "\n",
              "var canvas = document.querySelector('canvas')\n",
              "var ctx = canvas.getContext('2d')\n",
              "\n",
              "for (var x = 0.5; x < 301; x += 20) {\n",
              "  ctx.moveTo(x, 0);\n",
              "  ctx.lineTo(x, 300);\n",
              "}\n",
              "\n",
              "for (var y = 0.5; y < 301; y += 20) {\n",
              "  ctx.moveTo(0, y);\n",
              "  ctx.lineTo(300, y);\n",
              "}\n",
              "\n",
              "ctx.strokeStyle = \"#000\";\n",
              "ctx.stroke();\n",
              "\n",
              "var button = document.getElementById('finish')\n",
              "var start_button = document.getElementById('start')\n",
              "var end_button = document.getElementById('end')\n",
              "\n",
              "\n",
              "start_button.onclick = ()=>{\n",
              "    ctx.fillStyle=\"#008000\";\n",
              "  }\n",
              "\n",
              "end_button.onclick = ()=>{\n",
              "    ctx.fillStyle=\"#800000\";\n",
              "  }\n",
              "   \n",
              "\n",
              "var mouse = {x: 0, y: 0}\n",
              "canvas.addEventListener('mousemove', function(e) {\n",
              "  mouse.x = e.pageX - this.offsetLeft\n",
              "  mouse.y = e.pageY - this.offsetTop\n",
              "})\n",
              "\n",
              "function getMousePos(canvas, evt) {\n",
              "        var rect = canvas.getBoundingClientRect();\n",
              "        return {\n",
              "          x: evt.x - rect.left,\n",
              "          y: evt.y - rect.top\n",
              "        };\n",
              "      }\n",
              "\n",
              "function getNearestSquare(position) {\n",
              "    var x = position.x;\n",
              "    var y = position.y;\n",
              "\n",
              "    if (x < 0 || y < 0) return null;\n",
              "    x = (Math.floor(x / 20) * 20) + 0.5\n",
              "    y = (Math.floor(y / 20) * 20) + 0.5\n",
              "    return {x: x, y: y};\n",
              "}\n",
              "\n",
              "function containsObject(obj, list) {\n",
              "    var i;\n",
              "    for (i = 0; i < list.length; i++) {\n",
              "        if (list[i].x === obj.x && list[i].y == obj.y) {\n",
              "            return i;\n",
              "        }\n",
              "    }\n",
              "    return -1;\n",
              "}\n",
              "\n",
              "borders = []\n",
              "\n",
              "canvas.onmousedown = ()=>{\n",
              "    var pos = getNearestSquare(getMousePos(canvas, mouse));\n",
              "    if (pos != null) {\n",
              "        index = containsObject(pos, borders)\n",
              "        if (index != -1){\n",
              "            borders.splice(index, 1)\n",
              "            ctx.clearRect(pos.x + 1, pos.y, 19, 19)\n",
              "        }\n",
              "        else{\n",
              "            ctx.fillRect(pos.x+1,pos.y+1,18,18);\n",
              "            borders.push(pos)\n",
              "        }\n",
              "        ctx.fillStyle=\"#000000\";\n",
              "    }\n",
              "}\n",
              "var data = new Promise(resolve=>{\n",
              "  button.onclick = ()=>{\n",
              "    resolve(canvas.toDataURL('image/png'))\n",
              "  }\n",
              "})\n",
              "</script>\n"
            ],
            "text/plain": [
              "<IPython.core.display.HTML object>"
            ]
          },
          "metadata": {}
        },
        {
          "output_type": "stream",
          "name": "stdout",
          "text": [
            "data:image/png;base64,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\n"
          ]
        },
        {
          "output_type": "execute_result",
          "data": {
            "text/plain": [
              "5190"
            ]
          },
          "metadata": {},
          "execution_count": 203
        }
      ]
    },
    {
      "cell_type": "markdown",
      "metadata": {
        "id": "2whQnhT7JGbR"
      },
      "source": [
        "####Σχολιασμός\n",
        "Εδώ ο A* θα ανατρέξει σε όλα τα ενδιάμεσα κελιά ώστε να φτάσει στο κόμβο στόχο και η πολυπλοκότητα του γίνεται εκθετικά μεγάλη. Με την ευριστική euclidean έχουμε λίγο πιο γρήγορη εκτέλεση σε σχέση με τη manhattan αλλά όχι με μεγάλη απόκλιση. Επιπλέον, ο euclidean βρίσκει ένα μονοπάτι το οποίο προσεγγίζει τη διαγώνιο μεταξύ του κόμβου αρχής και του κόμβου λήξης. Από την άλλη, με την χρήση της ευριστικής manhattan η διαδρομή που εντοπίζει ο αλγόριθμος είναι διαφορετική."
      ]
    },
    {
      "cell_type": "code",
      "metadata": {
        "id": "mSCwE_MZ9Ewa",
        "colab": {
          "base_uri": "https://localhost:8080/",
          "height": 252
        },
        "outputId": "3d96bfa4-597d-4cd5-dfa2-9b982ffb35ad"
      },
      "source": [
        "g = load_maze('4.2.png')"
      ],
      "execution_count": null,
      "outputs": [
        {
          "output_type": "display_data",
          "data": {
            "image/png": "[encoded data removed]",
            "text/plain": [
              "<Figure size 432x288 with 1 Axes>"
            ]
          },
          "metadata": {}
        }
      ]
    },
    {
      "cell_type": "code",
      "metadata": {
        "id": "a-M664IJ9GR-",
        "colab": {
          "base_uri": "https://localhost:8080/",
          "height": 252
        },
        "outputId": "7bec2bcb-b91a-4ca0-dd15-4bc801412baa"
      },
      "source": [
        "pf = Pathfinder(g, c = lambda x, y: 1, h = manhattan)   # change arguments to choose the appropriate pathfinding algorithm and cost/heuristic (if applicable)\n",
        "g.draw_map(pf.get_path())"
      ],
      "execution_count": null,
      "outputs": [
        {
          "output_type": "display_data",
          "data": {
            "image/png": "[encoded data removed]",
            "text/plain": [
              "<Figure size 432x288 with 1 Axes>"
            ]
          },
          "metadata": {}
        }
      ]
    },
    {
      "cell_type": "code",
      "metadata": {
        "id": "ZCb5j2Ul_uCo"
      },
      "source": [
        "pf.vis.show_gif()"
      ],
      "execution_count": null,
      "outputs": []
    },
    {
      "cell_type": "markdown",
      "metadata": {
        "id": "rqqmkt3U_9q1"
      },
      "source": [
        "### 4.3."
      ]
    },
    {
      "cell_type": "code",
      "metadata": {
        "id": "UwqILZmBJjJ-",
        "colab": {
          "base_uri": "https://localhost:8080/",
          "height": 398
        },
        "outputId": "703d958b-be40-4bb5-bc77-ff7914f4659f"
      },
      "source": [
        "draw(filename='4.3.png')"
      ],
      "execution_count": null,
      "outputs": [
        {
          "output_type": "display_data",
          "data": {
            "text/html": [
              "\n",
              "<canvas width=301 height=301></canvas>\n",
              "<br>\n",
              "\n",
              "<button id = \"start\" style=\"background-color: #008000\">Start</button>\n",
              "<button id = \"end\" style=\"background-color: #800000\">End</button>\n",
              "<button id = \"finish\">Finish</button>\n",
              "<script>\n",
              "\n",
              "var canvas = document.querySelector('canvas')\n",
              "var ctx = canvas.getContext('2d')\n",
              "\n",
              "for (var x = 0.5; x < 301; x += 20) {\n",
              "  ctx.moveTo(x, 0);\n",
              "  ctx.lineTo(x, 300);\n",
              "}\n",
              "\n",
              "for (var y = 0.5; y < 301; y += 20) {\n",
              "  ctx.moveTo(0, y);\n",
              "  ctx.lineTo(300, y);\n",
              "}\n",
              "\n",
              "ctx.strokeStyle = \"#000\";\n",
              "ctx.stroke();\n",
              "\n",
              "var button = document.getElementById('finish')\n",
              "var start_button = document.getElementById('start')\n",
              "var end_button = document.getElementById('end')\n",
              "\n",
              "\n",
              "start_button.onclick = ()=>{\n",
              "    ctx.fillStyle=\"#008000\";\n",
              "  }\n",
              "\n",
              "end_button.onclick = ()=>{\n",
              "    ctx.fillStyle=\"#800000\";\n",
              "  }\n",
              "   \n",
              "\n",
              "var mouse = {x: 0, y: 0}\n",
              "canvas.addEventListener('mousemove', function(e) {\n",
              "  mouse.x = e.pageX - this.offsetLeft\n",
              "  mouse.y = e.pageY - this.offsetTop\n",
              "})\n",
              "\n",
              "function getMousePos(canvas, evt) {\n",
              "        var rect = canvas.getBoundingClientRect();\n",
              "        return {\n",
              "          x: evt.x - rect.left,\n",
              "          y: evt.y - rect.top\n",
              "        };\n",
              "      }\n",
              "\n",
              "function getNearestSquare(position) {\n",
              "    var x = position.x;\n",
              "    var y = position.y;\n",
              "\n",
              "    if (x < 0 || y < 0) return null;\n",
              "    x = (Math.floor(x / 20) * 20) + 0.5\n",
              "    y = (Math.floor(y / 20) * 20) + 0.5\n",
              "    return {x: x, y: y};\n",
              "}\n",
              "\n",
              "function containsObject(obj, list) {\n",
              "    var i;\n",
              "    for (i = 0; i < list.length; i++) {\n",
              "        if (list[i].x === obj.x && list[i].y == obj.y) {\n",
              "            return i;\n",
              "        }\n",
              "    }\n",
              "    return -1;\n",
              "}\n",
              "\n",
              "borders = []\n",
              "\n",
              "canvas.onmousedown = ()=>{\n",
              "    var pos = getNearestSquare(getMousePos(canvas, mouse));\n",
              "    if (pos != null) {\n",
              "        index = containsObject(pos, borders)\n",
              "        if (index != -1){\n",
              "            borders.splice(index, 1)\n",
              "            ctx.clearRect(pos.x + 1, pos.y, 19, 19)\n",
              "        }\n",
              "        else{\n",
              "            ctx.fillRect(pos.x+1,pos.y+1,18,18);\n",
              "            borders.push(pos)\n",
              "        }\n",
              "        ctx.fillStyle=\"#000000\";\n",
              "    }\n",
              "}\n",
              "var data = new Promise(resolve=>{\n",
              "  button.onclick = ()=>{\n",
              "    resolve(canvas.toDataURL('image/png'))\n",
              "  }\n",
              "})\n",
              "</script>\n"
            ],
            "text/plain": [
              "<IPython.core.display.HTML object>"
            ]
          },
          "metadata": {}
        },
        {
          "output_type": "stream",
          "name": "stdout",
          "text": [
            "data:image/png;base64,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\n"
          ]
        },
        {
          "output_type": "execute_result",
          "data": {
            "text/plain": [
              "6058"
            ]
          },
          "metadata": {},
          "execution_count": 216
        }
      ]
    },
    {
      "cell_type": "markdown",
      "metadata": {
        "id": "-A3mBvHiJoQq"
      },
      "source": [
        "###Σχολιασμός\n",
        "Ο A* βρίσκει πολύ πιο σύντομο μονοπάτι από τον best first. Αυτό συμβαίνει καθώς ο best first κοιτάει μόνο να μειώσει την ευριστική χωρίς να συνυπολογίζει το συνολικό κόστος διαδρομής μέχρι το σημείο που έχει φτάσει. Εδώ εκμεταλλευόμαστε το γεγονός πως σε καμία περίπτωση ο best first δεν θα πάει προς τα αριστερά ως πρώτη κίνηση, αφού η ευριστική τιμή στη θέση αυτή μειώνεται. Στην περίπτωση που αγνοήσουμε την απόσταση που έχουμε διανύσει μέχρι το εκάστοτε κελί, οι δύο αλγόριθμοι τρέχουν με τον ίδιο τρόπο."
      ]
    },
    {
      "cell_type": "code",
      "metadata": {
        "id": "apabzO95ACov",
        "colab": {
          "base_uri": "https://localhost:8080/",
          "height": 252
        },
        "outputId": "f710c495-0187-432d-f517-16214777cc61"
      },
      "source": [
        "g = load_maze('4.3.png')"
      ],
      "execution_count": null,
      "outputs": [
        {
          "output_type": "display_data",
          "data": {
            "image/png": "[encoded data removed]",
            "text/plain": [
              "<Figure size 432x288 with 1 Axes>"
            ]
          },
          "metadata": {}
        }
      ]
    },
    {
      "cell_type": "code",
      "metadata": {
        "id": "V1s5kFo5ADsb",
        "colab": {
          "base_uri": "https://localhost:8080/",
          "height": 252
        },
        "outputId": "655e4c19-baa5-4e3c-df78-167a0fa88499"
      },
      "source": [
        "pf = Pathfinder(g, c = lambda x, y: 1, h = manhattan)   # change arguments to choose the appropriate pathfinding algorithm and cost/heuristic (if applicable)\n",
        "g.draw_map(pf.get_path())"
      ],
      "execution_count": null,
      "outputs": [
        {
          "output_type": "display_data",
          "data": {
            "image/png": "[encoded data removed]",
            "text/plain": [
              "<Figure size 432x288 with 1 Axes>"
            ]
          },
          "metadata": {}
        }
      ]
    },
    {
      "cell_type": "code",
      "metadata": {
        "id": "gdTJbRpmAD0X",
        "colab": {
          "base_uri": "https://localhost:8080/",
          "height": 303
        },
        "outputId": "c958da03-e240-4737-bc9a-46b234d72bf4"
      },
      "source": [
        "pf.vis.show_gif()"
      ],
      "execution_count": null,
      "outputs": [
        {
          "output_type": "error",
          "ename": "EmptyStackOfImages",
          "evalue": "ignored",
          "traceback": [
            "\u001b[0;31m---------------------------------------------------------------------------\u001b[0m",
            "\u001b[0;31mEmptyStackOfImages\u001b[0m                        Traceback (most recent call last)",
            "\u001b[0;32m<ipython-input-72-03109645b455>\u001b[0m in \u001b[0;36m<module>\u001b[0;34m()\u001b[0m\n\u001b[0;32m----> 1\u001b[0;31m \u001b[0mpf\u001b[0m\u001b[0;34m.\u001b[0m\u001b[0mvis\u001b[0m\u001b[0;34m.\u001b[0m\u001b[0mshow_gif\u001b[0m\u001b[0;34m(\u001b[0m\u001b[0;34m)\u001b[0m\u001b[0;34m\u001b[0m\u001b[0;34m\u001b[0m\u001b[0m\n\u001b[0m",
            "\u001b[0;32m<ipython-input-1-938f2d875145>\u001b[0m in \u001b[0;36mshow_gif\u001b[0;34m(self, fps, repeat_delay)\u001b[0m\n\u001b[1;32m     90\u001b[0m             \u001b[0mExceptions\u001b[0m\u001b[0;34m:\u001b[0m \u001b[0mEmptyStackOfImages\u001b[0m \u001b[0mαν\u001b[0m \u001b[0mτο\u001b[0m \u001b[0manimation\u001b[0m \u001b[0mδεν\u001b[0m \u001b[0mέχει\u001b[0m \u001b[0mούτε\u001b[0m \u001b[0mένα\u001b[0m \u001b[0mframe\u001b[0m\u001b[0;34m,\u001b[0m \u001b[0mδηλαδή\u001b[0m \u001b[0mαν\u001b[0m \u001b[0mη\u001b[0m \u001b[0mdraw_step\u001b[0m \u001b[0mδεν\u001b[0m \u001b[0mέχει\u001b[0m \u001b[0mκαλεστεί\u001b[0m \u001b[0mποτέ\u001b[0m\u001b[0;34m.\u001b[0m\u001b[0;34m\u001b[0m\u001b[0;34m\u001b[0m\u001b[0m\n\u001b[1;32m     91\u001b[0m         '''\n\u001b[0;32m---> 92\u001b[0;31m         \u001b[0mani\u001b[0m \u001b[0;34m=\u001b[0m \u001b[0mself\u001b[0m\u001b[0;34m.\u001b[0m\u001b[0mcreate_gif\u001b[0m\u001b[0;34m(\u001b[0m\u001b[0mfps\u001b[0m\u001b[0;34m,\u001b[0m \u001b[0mrepeat_delay\u001b[0m\u001b[0;34m)\u001b[0m\u001b[0;34m\u001b[0m\u001b[0;34m\u001b[0m\u001b[0m\n\u001b[0m\u001b[1;32m     93\u001b[0m         \u001b[0;31m# return HTML(ani.to_html5_video())\u001b[0m\u001b[0;34m\u001b[0m\u001b[0;34m\u001b[0m\u001b[0;34m\u001b[0m\u001b[0m\n\u001b[1;32m     94\u001b[0m         \u001b[0;32mreturn\u001b[0m \u001b[0mHTML\u001b[0m\u001b[0;34m(\u001b[0m\u001b[0mani\u001b[0m\u001b[0;34m.\u001b[0m\u001b[0mto_jshtml\u001b[0m\u001b[0;34m(\u001b[0m\u001b[0;34m)\u001b[0m\u001b[0;34m)\u001b[0m\u001b[0;34m\u001b[0m\u001b[0;34m\u001b[0m\u001b[0m\n",
            "\u001b[0;32m<ipython-input-1-938f2d875145>\u001b[0m in \u001b[0;36mcreate_gif\u001b[0;34m(self, fps, repeat_delay)\u001b[0m\n\u001b[1;32m     60\u001b[0m     \u001b[0;32mdef\u001b[0m \u001b[0mcreate_gif\u001b[0m\u001b[0;34m(\u001b[0m\u001b[0mself\u001b[0m\u001b[0;34m,\u001b[0m \u001b[0mfps\u001b[0m \u001b[0;34m=\u001b[0m \u001b[0;36m30\u001b[0m\u001b[0;34m,\u001b[0m \u001b[0mrepeat_delay\u001b[0m \u001b[0;34m=\u001b[0m \u001b[0;36m2000\u001b[0m\u001b[0;34m)\u001b[0m\u001b[0;34m:\u001b[0m\u001b[0;34m\u001b[0m\u001b[0;34m\u001b[0m\u001b[0m\n\u001b[1;32m     61\u001b[0m         \u001b[0;32mif\u001b[0m \u001b[0mlen\u001b[0m\u001b[0;34m(\u001b[0m\u001b[0mself\u001b[0m\u001b[0;34m.\u001b[0m\u001b[0mimages\u001b[0m\u001b[0;34m)\u001b[0m \u001b[0;34m==\u001b[0m \u001b[0;36m0\u001b[0m\u001b[0;34m:\u001b[0m\u001b[0;34m\u001b[0m\u001b[0;34m\u001b[0m\u001b[0m\n\u001b[0;32m---> 62\u001b[0;31m             \u001b[0;32mraise\u001b[0m \u001b[0mEmptyStackOfImages\u001b[0m\u001b[0;34m(\u001b[0m\u001b[0;34m\"Error! You have to call 'draw_step' at  first.\"\u001b[0m\u001b[0;34m)\u001b[0m\u001b[0;34m\u001b[0m\u001b[0;34m\u001b[0m\u001b[0m\n\u001b[0m\u001b[1;32m     63\u001b[0m         \u001b[0mfig\u001b[0m \u001b[0;34m=\u001b[0m \u001b[0mplt\u001b[0m\u001b[0;34m.\u001b[0m\u001b[0mfigure\u001b[0m\u001b[0;34m(\u001b[0m\u001b[0;34m)\u001b[0m\u001b[0;34m\u001b[0m\u001b[0;34m\u001b[0m\u001b[0m\n\u001b[1;32m     64\u001b[0m         \u001b[0mplt\u001b[0m\u001b[0;34m.\u001b[0m\u001b[0maxis\u001b[0m\u001b[0;34m(\u001b[0m\u001b[0;34m'off'\u001b[0m\u001b[0;34m)\u001b[0m\u001b[0;34m\u001b[0m\u001b[0;34m\u001b[0m\u001b[0m\n",
            "\u001b[0;31mEmptyStackOfImages\u001b[0m: Error! You have to call 'draw_step' at  first."
          ]
        }
      ]
    },
    {
      "cell_type": "markdown",
      "metadata": {
        "id": "x41xMK-VAGHp"
      },
      "source": [
        "### 4.4.  "
      ]
    },
    {
      "cell_type": "code",
      "metadata": {
        "id": "ndh3zuH4Jjyo",
        "colab": {
          "base_uri": "https://localhost:8080/",
          "height": 398
        },
        "outputId": "f1e608d2-16d0-47fe-90aa-bdef33eb0e20"
      },
      "source": [
        "draw(filename='4.4.png')"
      ],
      "execution_count": null,
      "outputs": [
        {
          "output_type": "display_data",
          "data": {
            "text/html": [
              "\n",
              "<canvas width=301 height=301></canvas>\n",
              "<br>\n",
              "\n",
              "<button id = \"start\" style=\"background-color: #008000\">Start</button>\n",
              "<button id = \"end\" style=\"background-color: #800000\">End</button>\n",
              "<button id = \"finish\">Finish</button>\n",
              "<script>\n",
              "\n",
              "var canvas = document.querySelector('canvas')\n",
              "var ctx = canvas.getContext('2d')\n",
              "\n",
              "for (var x = 0.5; x < 301; x += 20) {\n",
              "  ctx.moveTo(x, 0);\n",
              "  ctx.lineTo(x, 300);\n",
              "}\n",
              "\n",
              "for (var y = 0.5; y < 301; y += 20) {\n",
              "  ctx.moveTo(0, y);\n",
              "  ctx.lineTo(300, y);\n",
              "}\n",
              "\n",
              "ctx.strokeStyle = \"#000\";\n",
              "ctx.stroke();\n",
              "\n",
              "var button = document.getElementById('finish')\n",
              "var start_button = document.getElementById('start')\n",
              "var end_button = document.getElementById('end')\n",
              "\n",
              "\n",
              "start_button.onclick = ()=>{\n",
              "    ctx.fillStyle=\"#008000\";\n",
              "  }\n",
              "\n",
              "end_button.onclick = ()=>{\n",
              "    ctx.fillStyle=\"#800000\";\n",
              "  }\n",
              "   \n",
              "\n",
              "var mouse = {x: 0, y: 0}\n",
              "canvas.addEventListener('mousemove', function(e) {\n",
              "  mouse.x = e.pageX - this.offsetLeft\n",
              "  mouse.y = e.pageY - this.offsetTop\n",
              "})\n",
              "\n",
              "function getMousePos(canvas, evt) {\n",
              "        var rect = canvas.getBoundingClientRect();\n",
              "        return {\n",
              "          x: evt.x - rect.left,\n",
              "          y: evt.y - rect.top\n",
              "        };\n",
              "      }\n",
              "\n",
              "function getNearestSquare(position) {\n",
              "    var x = position.x;\n",
              "    var y = position.y;\n",
              "\n",
              "    if (x < 0 || y < 0) return null;\n",
              "    x = (Math.floor(x / 20) * 20) + 0.5\n",
              "    y = (Math.floor(y / 20) * 20) + 0.5\n",
              "    return {x: x, y: y};\n",
              "}\n",
              "\n",
              "function containsObject(obj, list) {\n",
              "    var i;\n",
              "    for (i = 0; i < list.length; i++) {\n",
              "        if (list[i].x === obj.x && list[i].y == obj.y) {\n",
              "            return i;\n",
              "        }\n",
              "    }\n",
              "    return -1;\n",
              "}\n",
              "\n",
              "borders = []\n",
              "\n",
              "canvas.onmousedown = ()=>{\n",
              "    var pos = getNearestSquare(getMousePos(canvas, mouse));\n",
              "    if (pos != null) {\n",
              "        index = containsObject(pos, borders)\n",
              "        if (index != -1){\n",
              "            borders.splice(index, 1)\n",
              "            ctx.clearRect(pos.x + 1, pos.y, 19, 19)\n",
              "        }\n",
              "        else{\n",
              "            ctx.fillRect(pos.x+1,pos.y+1,18,18);\n",
              "            borders.push(pos)\n",
              "        }\n",
              "        ctx.fillStyle=\"#000000\";\n",
              "    }\n",
              "}\n",
              "var data = new Promise(resolve=>{\n",
              "  button.onclick = ()=>{\n",
              "    resolve(canvas.toDataURL('image/png'))\n",
              "  }\n",
              "})\n",
              "</script>\n"
            ],
            "text/plain": [
              "<IPython.core.display.HTML object>"
            ]
          },
          "metadata": {}
        },
        {
          "output_type": "stream",
          "name": "stdout",
          "text": [
            "data:image/png;base64,iVBORw0KGgoAAAANSUhEUgAAAS0AAAEtCAYAAABd4zbuAAAAAXNSR0IArs4c6QAAFbZJREFUeF7tndF227oORNUvP82X5ywpVuM0bi3ODBoy2Hk5696IqrwxGIEgzfzYtu114wcCEIDAIgR+3Ezr5fbf/X//6Wc3t7/9/hz337Zt3O8zRfg9VhZ6ecwFvfxBL/emtYvH/dnN6hQh9xunCb9xZvcj4NeAH6bVIMi3ypeXyHisMcFxZuUvEUxrwqBgMnJQMBkZ3TFwCX6YVoMgY4JykJdI4m7xxbRkPa/zZuomaj6vLOolTBrTkuOLaXno4Ae/YQKHqWJaw9w+DFjizUTlIQeZ+Mro6l5KmNaEQcFk5KBgMjK6OpNJ6xnTahDktGi4nywaTFVG926qmFYAIkksQySJZXTrVEbp/MC0EM0IAUxmhNbna+EX4IdpBSCm3yTcTw4KpiCjW6dyw7QaBBkTlIOMCcro6kwQ05owKJiMHBRMRkZXZzJpPWNaDYKcFg33k0WDqcroWD08xeMhXOQLppiMHGZMRkZXV7lRaU0YFExGDgomI6OrM5m0nk/T+nn3Wc//7/zv+asrp5bu1+7nNnG/t1Ne74+yht/jhEIvbzpBL9cM99d3D69dzlUQgAAEvphA1RnxV6uKKx//6lnZV+61X8P9rpJ6fB38vjm/n9v28mPbXl//8jchnv3+RPTz/fj1Z7p59vvzlmWnPGBaurCvBu/qv8D9rpLCpI+X+m5atzaPR27bXu5MK3bcd1UjHtPSw43J6OyopD12mJbP77gDSeyBhB/8RghQaY3Q+sO1JJ0HEX7wGyGAaY3QwrSoLNHLMIH4S4me1nAMPg2IB+XiX8q++uQ831VSNLqXaHdgWp6glwgyJmgFGdO38OV7vpiWFxBMC36jBDDBUWIfr6en5fGjxwO/YQKY1jCyDwMwLY8fpgW/YQKY1jAyTGvf+crmUl04JJ3OjnaCx+7gR08rABETtCBigha+fKN7dj1jWp5geHPCb5QAJj1KjEb8cZ4W00NdOCSdzo6XnMeO6aHPj0Z8gCEm6EFsx4/poScY3pzwGyXQzmTSMxtMa1Ryn69HhB5D+MFvhMAyq4fpM93paY3I5LdGaPrNyf30YHQ8Gunl7m887KeXnqeU7v89Sf7tVNN72rdDAKP+8vth+lZ0GQwBCECgmgBnxPuEmX55DOHn89uPR37G8dnvz6eoWP2PPh/HLXuCYaEAfqMErprH1fvu94ud6X47Gz7d3ok+H6Z1VRp/vq5ChGnRcD89zivEN2oKBT3Q6PNhWrqY73qSbKY1MK5gCrObftQUMC1DzbehiNpjCL/vzw/TMmJ8wpv9zcTz6UHGBHV2VT1QTMuICaZlwKOy9OFdWEUb/UdWMGlMazSqd9djWgY8TMuHh2lZDKvyN2qqNOKtGB+DV3gTMx3W47xCfKOmQCNeFwurcz47TNVniGl5DOP7yKi0vIBgCvAbJVBhglRao1Ggp8U+LUMzFUncbTqMaRkCrGrkdRMhn1cXYUcTxLR0vfz6DhRJp0PsmHToxdMLpqXzw7QMdiw8BOA1Xc3FtAztMD004LFPy4eHaVkMq/I3aqqsHloxZp+Wj499bibD+JYC9mmZEWn65qTHo+umY08wWsmsYlrRM5wLPjRJTBJfJdDRtGbP3+jzcUb81VTgOghAYAoCnBHvh6Hjm53KV9dNhV6iZ7AXzJSiz0cjXhcfWxR8dvsdKpK4m6m27GnN/qG7iZDPqxtiRxOcPX+jz0elpScHlZbPjkrLZ8iWB5Nh1eY0Kg89MB0rj256iVYyRT2t/e8puj/H56TScjHSk3EJYqoeQSotjx/fPTT5MV3yAXY0QSotQzdMDw14t6Edk67bdC79eTEtI+8wLQMepuXDa7qFAtMypINpGfAwLR8epmUxrMrfqKnSiLdifAxmOucxhJ/PL2oKrB56AcEU4DdKoKMJYlqjKrm7vqq8TDcuuZ8e5I6mMLteMC1dz2x5MNidQzEFD2JHfpiWoRkqLQMejXgfXtMeI6ZlSAfTMuBhWj48TMtiWJW/UVNl9dCKMauHPj5WX02GfI3HBFjl1LM3Qnk+XTgde1BpvUQrmVW2PETPcC740Okgcz9M5iqBFUx19vyNPh9nxF+VLtdBAAJTEOCMeD8MK7yJqSz1OK8Q3+gZ7AUzpejz0YjXxcy+Kp/dfocVTGF202/Z05r9Q88uGp5PNzBMS2d3mv7s+Rt9PiotTzBUCvAbJVBh0lFTKJoectzyqFLurq8QDZWWHhDiobOj0vLYHaPZp+VDJIk9hh35UWkZmsG0DHi3oR2TjkpV1w074nV2VFomO1YjMwA7mj6VlqEdKi0DHpWWD6/pFgpMy5AOpmXAw7R8eJiWxbAqf6OmypYHK8bH4I7TEXpQum4q9BI1BbY86MGlx+Ozw1R9hhUmkzZ9TMuIc1V5mQ4y99ODvEISd4svpqXrmX1aBjsqywC8ptN1TMvQDpWWAY9GvA8P07IYVuVv1FRpxFsxphHv42Mhw2TI5lITYJVTd+tR8Hl1IXbsuUUrGVYPdfHR4/HZsXroM1zBBFuaVvQM5wKnpvLQk2+FpCO+Xnxnz9/o83FGvC4WRkIAAl9AgDPifehUMh5D+Pn8omewF8yUos/H6qEnGHpG8BslUGHSLXtas39oeh6jqfF+fUWSEI+54jF7/kafj0pLFx+rmz47KlWfIfu0TIbs0zIBNt3RTeWm6wbT0tkdIzEtEyCmZQPsOB2OTr+KGvH8NR5D2h1FTSWjC2YFvWBaenyptAx29MgC8JpWqpiWoR2mhwa829AV3uxUbnqcK+KLaenxoNIy2FFpBeBRaVkQq4qOqKmy5cGK8TG44s1JJaPHpWM8oqZAI14XH5WHzw5T9RmuYIKYlhHnqvKSykMPygpJR3y9+GJaOj96WgY7KssAvKbTdUzL0A6VlgGP1UMfHqZlMazK36ip0oi3Ykwj3sfHQobJkK/xmACrnJqehx4Yelo6u1UWMqKVDKuHnmBWEQ2mqscZU9XZnfnR0rSiZzgXODWmoAsbU9DZrfLSnD1/o8/HGfGeoBkNAQj8YwKcEe8Dp5LxGMLP5xc9g71gphR9PlYPPcGsMn1geq3HeQVTbdnTmv1Dk3TfO+mIrxff2fM3+nxUWrpYzpErvIkxBT3OK8Q3agpF00NOLtU1yGZGgx3TYRNe0Y59TMuIC5tLDXi3oSu82anc9DhXxBfT0uPBF6YNdkw3A/CKKpnZTRrTMrRDpWXAo9Ly4WFaFsOq/I2aKo14K8bH4Ipyf/Y3O8+n66ZCL1FToBGvB5fpks8OU/UZVphM2vQxLSPOVeVlOsjcTw/yCkncLb6Ylq5nGvEGOyrLALym03VMy9AOlZYBj0a8Dw/TshhW5W/UVGnEWzGmEe/jYyHDZMjJpSbAKqfu1qPg8+pC7Nhzi1YyrB7q4qPH47Nj9dBnuIIJYlpGnKm0DHj0tHx49LQshlX5GzVVelpWjOlp+fjoaZkM2/a0omc4F8yJ6fHoyl5hekN8vfjOnr/R5+OMeF0sjIQABL6AAGfE+9CpZDyG8PP5Rc9gL5gpRZ+PnpYnGFbn4DdKoMKko43uItPi5NJRpdxdXyEaejJ6QIiHzu58aWJaBsOqJVNMQQ8KpqCzW6WSxrSMGGNaBjz2afnw2KdlMazK36ip0tOyYsw+LR8f+7RMhm33aUWdsKCRx/RQVzbTQ50d00OPXUnPjUorExRMVeeIqersSkyhoOiIFkWYlieYVd7EmKoe5xVMNWoKmJYulnPkCqLBFPQ4E1+dHZWWx+4YXbX6gCnowcEUdHarVNJUWkaMMS0DHlsefHhsebAYVuVv1FTpaVkxZsuDj48tDyZDtjyYAKucmumhHhimhzo7poceu5KeG5VWJiiYqs4RU9XZlZgCq4deQFZ502FaepwxLZ0dpuWxY/UwwA+T9iF2NMFoo5tKCxGOEuiYdFSqoyp5v75tIz56hnOBUyNqT9Tw+978Zs/f6PNxRrwuZkZCAAJfQIAz4n3oTOc8hvDz+UXPYC+YKUWfjy0PnmBonMNvlECFSdOIH43C3fVsLjXg3YZWiJqelh6XFeKBaenx5QvTBrtz6ApJggnqga6IL6alxwPTMthhWgF4fGHaglg1U4qaKj0tK8bH4Io3J5WMHpeO8YiaQlEjnr97qGsakzHYYdImvKKXHKZlxKWqvKTy0IPSsfLophdMS88PeloGO3paAXhFlczsJohpGdqh0jLgseXBh4dpWQyr8jdqqjTirRjTiPfx0WM0Gbb9wnTUCQtWH2Yvz3k+PfPouenszoWR2fM3+nxUWp5gWE2D3yiBCpOOmkJB0RF9PkxrVHKfr68QIZWbHpeO8YiaAqali4/VNJ8dlaDPcAUTxLSMOFetPlB56EFZIemIrxdfTEvnxz4tgx2VZQAeWx4siFVFR9RU6WlZMWbLg4+PLQ8mw7ZbHqJnOBc08pg+6MpmeqizW6UnOHv+Rp+PM+I9QTMaAhD4xwQ4I94HTiXjMYSfzy96BnvBTCn6fPS0PMGsMn1geq3HeQVTjTa6i0yL87R0DdL4Ndhh0ia8otVNTMuIS9WSKZWCHpQVKgXi68UX09L5sU/LYMc+rQC8okpmdlPFtAztUGkZ8G5DqYw8hh35YVqGZjAtAx6m5cOj0rIYVuVv1FRZPbRifAzu+GaffbrU7fmipsDqIaYwSgATHCX28fqO/DAtQzNV5WW3NyefVxchpqWzq8rfqKkyPdQDzGqfz47ptc+w7Remo05YMCem8tDF3bHy6KaX2fM3+nxUWroZUGn57Ki0fIZUWibDqjlxtzcnn1cXYsfKMlrJFMyUos9HpaUnB5WWz45Ky2dIpWUypNIyAbLvywZIpaUjrMpfKi09JmwGNdlRGfkAK0w1agpMD+cMMj0jPS4VSUc8vHi0NK3oGc4FTo2oPVHD73vzmz1/o8/HGfG6mBkJAQh8AQHOiPehM13yGMLP5xc9g71gphR9PrY8eIKhMQ2/UQIVJt2ypzX7h6YnM5oa79dXJAnxmCses+dv9PmotHTxnSMxBY8h/Hx+UVMomh7y13iMOJMkBjw2v3rwivhhWkZYqnbUMh3Rg4JJ6+xW6VliWkaMMS0D3m0oJuMx7MgP0zI0g2kZ8DAtH17R9Gv2Sh/TMqSDaRnwMC0fHqZlMazK36ipsnpoxfgY3HE6Mnvl0e35oqbA6iGmMEoAExwl9vH6jvwwLUMzVeVltzcnn1cXIaals6vK36ipMj3UA3yO7JgkmKqumwq9RE2B6aEeXEzBZ0fPzWdYYTJp08e0jDhXlZfpIHM/PcgrJHG3+GJaup43TMuAx5YHH17T1VxMy5AOpmXAw7R8eJiWxbAqf6OmSiPeijH7tHx87HMzGbb9E2LRM5wLVh+69Sj4vHomd+y5zZ6/0efjjHg9ORgJAQh8AQHOiPehd3yzUwnquqnQS/QM9oKZUvT56Gnp4mMfmc+OfWQ+w7Y9rWh3v8CpebPr4q54sxOPueIxe/5Gn49KSxcflZbPjkrLZ0ilZTKs2ufBm10PDJWWzm4VU41WMgUzpejzUWl5gl5F1Ji+HucVTD9qCpiWLhamXz47TNVniGl5DOPTVyotLyCYAvxGCVSYIJXWaBTurqenZcC7Da0QNdNDPS4rxAPT0uPLKQ8GO6bDAXh8YdqCWFV0RE2V6aEV42PwCm9iKi09zivEN2oKNOJ1sVB5+OwwVZ8hpuUxpBHv8aMygt8wAUxrGNmHAZiWxw/Tgt8wAUxrGBmmtYJo6Bnpwia+Ortz+k9Py2BYtfqAKehBwRR0dqv0BDEtI8aYlgHvNhST8Rh25IdpGZrBtAx4mJYPr+kWlJamFT3DuWCfB9NDPZ87Vh7d9DJ7/kafjzPidTNgJAQg8AUEup4RHz2zetuOry89q2ie/f4M/3/c72EmwO+xQVToJV2pRvOj69d40j0A7qe9cU9u8JuLX4Vp7ebq/hw6wbQ8jCQd/EYIrKIXTGskqg+uvTotuPrPxL9WcJvOxd4k3O9qKD9dt4opzF5ZYlqyBN8GYlo6QJJYZ7eP7MoP0/J0g2kZ/Lom3eyVzOzPh2kZSUel5cHDtOA3QqBqc3jUpGnEj4T087WYAvxGCKyiFyqtkajSiN/OfTc09seFs4opRCuPgoUbTGtcex9G0IjXAZLEOjsa8R67c3R8tZ7poRcYTAF+IwRW0QuV1khUmR4yPTT0soopMD3UgsyOeI3bh1EkiQcRfnPyo9Ly4sI+LYMfpmDAY3OpB+82mp5WAGMcYsHqzezTB55PE+IqLxEqLS2+v0axeqgDXCVJMEEtxlXxxbS0eGBaJrfOS/aYoCYedsRr3D6NotLSQVa9iTEFLSarxGOJSit6hvMCZ8SnPy/327bfj+6+Kvx95z/85uJ3NXZXrHsvOqLx5Yz4K9i5BgIQmIZAzzPif24v24/tdXs9qoPHP89+f476eWwGTb+ZuJ+eIhXtBOLhxWOfFj+Ly7Pfn0/Q9Ljl3bS2w2zcn5cN03IZXhXr1X+H+10l9fi6Cn65fGt7Rjym5ci6QtRUMnpEVogHpqXH9xj5umFaDsIVkgQT1CNcEV9MS48HpmWyezN9engOxo78MC1HMVRaJj1MywWIaekEG5/ywPRQlw2m5bDrWqlSaZmqoaflAexYKdAj0zUTP6Cg58mlVFq6BKm0HHZUWh49pocev2M0+7R8iFRuHsMV+DE99GLMlgebH6uHDsIVTCY9Hca0HMWwemjSY3roAsS0dIJMD3V2v0YyPfQhdkzidCUz+/2otMw8YfXQA4jJwG+EAKuHI7T+cC2m5UHEtOA3QgDTGqGFaR0EMBlPNPDz+TE99BiyemjzY/XQQdjRBDEtRzGsHpr0qNxcgJiWTvDD6mH0DOfpTwHY1/zOn/300vOU0v2/9///FbgcAniF0t+u6ZjEs6/2pZ8v6i+cEe+mHOMhAIF/SqDqjPjomdC3v+D87I387Pcn2P2YZZ7vs8zg9zj10MtjLl+ml6ovTEcbb/zZeflFtsrf2UMvWohbxhfT0sRyjmopGl4ismjQi4zuGFj6NR7enFpwELXGjZdI6q9Lvd1n6vyl0iJJRghgqiO0Pl8LvwA/TCsAcfY3E88nBxmTkdG9T+fS+sO0JgxKOsjcTw4ypiWjw7SmnmNjCrKyMQUZXZ0pzK5nKi1EM0IAkxmhRU+rRC+YFiIcIVAiwtnf7DzfiEQ+XFuiF0xLjkff8pwklkVTksTd4oFpyfrDtDx08IPfMAE2lw4jo0dBpeCJBn4BflRaAYjdynM+rywaTEtG916ZY1oBiCSxDJEkltH1nV5jWohmhAAmM0KLdkKJXjAtRDhCoESEVKojIajfUjB7PDAtWS99y/PZRc3zyaJe4qV0mlb0DOdtuzuD/e0vt5ynHL6fwX79L7rsR2XwfO8cT0VePccbfuhv18y30QtnxMsvJQZCAAJfQODH/1SYd2oEd7xEAAAAAElFTkSuQmCC\n"
          ]
        },
        {
          "output_type": "execute_result",
          "data": {
            "text/plain": [
              "5628"
            ]
          },
          "metadata": {},
          "execution_count": 73
        }
      ]
    },
    {
      "cell_type": "markdown",
      "metadata": {
        "id": "UOEI0BCCJqFz"
      },
      "source": [
        "###Σχολιασμός\n",
        "Εδώ ο A* βρίσκει πολύ πιο σύντομα το μονοπάτι καθώς ο Dijkstra ψάχνει όλες τις πιθανές διαδρομές δεδομένου ότι όλα τα κελιά ισαπέχουν με απόσταση 1 μεταξύ τους. Με την εισαγωγή περισσότερων εμποδίων στο λαβύρινθο διευκολύνουμε τον Dijkstra να βρει μονοπάτια καθώς του αφήνουμε λιγότερες επιλογές για να εξερευνήσει. Από την άλλη στο συγκεκριμένο λαβύρινθο με την εισαγωγή επιπλέον εμποδίων, ο αλγόριθμος A* και πάλι θα μας επιστρέψει εξίσου καλή λύση, οπότε η απόδοσή του δεν επηρεάζεται."
      ]
    },
    {
      "cell_type": "code",
      "metadata": {
        "id": "ixRxVVOwAK8K",
        "colab": {
          "base_uri": "https://localhost:8080/",
          "height": 252
        },
        "outputId": "2de0edfb-76d4-4cab-c7db-0d8b037e7a45"
      },
      "source": [
        "g = load_maze('4.4.png')"
      ],
      "execution_count": null,
      "outputs": [
        {
          "output_type": "display_data",
          "data": {
            "image/png": "[encoded data removed]",
            "text/plain": [
              "<Figure size 432x288 with 1 Axes>"
            ]
          },
          "metadata": {}
        }
      ]
    },
    {
      "cell_type": "code",
      "metadata": {
        "id": "3Qrz7mawALUY",
        "colab": {
          "base_uri": "https://localhost:8080/",
          "height": 296
        },
        "outputId": "ba31d677-081c-4e17-fc3f-6b614252cbf4"
      },
      "source": [
        "pf = Pathfinder(g, c = lambda x, y: 1, h = manhattan)   # change arguments to choose the appropriate pathfinding algorithm and cost/heuristic (if applicable)\n",
        "g.draw_map(pf.get_path())"
      ],
      "execution_count": null,
      "outputs": [
        {
          "output_type": "error",
          "ename": "NameError",
          "evalue": "ignored",
          "traceback": [
            "\u001b[0;31m---------------------------------------------------------------------------\u001b[0m",
            "\u001b[0;31mNameError\u001b[0m                                 Traceback (most recent call last)",
            "\u001b[0;32m<ipython-input-173-da1496b72a81>\u001b[0m in \u001b[0;36m<module>\u001b[0;34m()\u001b[0m\n\u001b[0;32m----> 1\u001b[0;31m \u001b[0mpf\u001b[0m \u001b[0;34m=\u001b[0m \u001b[0mPathfinder\u001b[0m\u001b[0;34m(\u001b[0m\u001b[0mg\u001b[0m\u001b[0;34m,\u001b[0m \u001b[0mc\u001b[0m \u001b[0;34m=\u001b[0m \u001b[0;32mlambda\u001b[0m \u001b[0mx\u001b[0m\u001b[0;34m,\u001b[0m \u001b[0my\u001b[0m\u001b[0;34m:\u001b[0m \u001b[0;36m1\u001b[0m\u001b[0;34m,\u001b[0m \u001b[0mh\u001b[0m \u001b[0;34m=\u001b[0m \u001b[0mmanhattan\u001b[0m\u001b[0;34m)\u001b[0m   \u001b[0;31m# change arguments to choose the appropriate pathfinding algorithm and cost/heuristic (if applicable)\u001b[0m\u001b[0;34m\u001b[0m\u001b[0;34m\u001b[0m\u001b[0m\n\u001b[0m\u001b[1;32m      2\u001b[0m \u001b[0mg\u001b[0m\u001b[0;34m.\u001b[0m\u001b[0mdraw_map\u001b[0m\u001b[0;34m(\u001b[0m\u001b[0mpf\u001b[0m\u001b[0;34m.\u001b[0m\u001b[0mget_path\u001b[0m\u001b[0;34m(\u001b[0m\u001b[0;34m)\u001b[0m\u001b[0;34m)\u001b[0m\u001b[0;34m\u001b[0m\u001b[0;34m\u001b[0m\u001b[0m\n",
            "\u001b[0;32m<ipython-input-172-43cfbbe7bf33>\u001b[0m in \u001b[0;36m__init__\u001b[0;34m(self, maze, c, h)\u001b[0m\n\u001b[1;32m     39\u001b[0m         \u001b[0;31m#Κάνουμε αναζήτηση όσο υπάρχουν κόμβοι στο μέτωπο αναζήτησης\u001b[0m\u001b[0;34m\u001b[0m\u001b[0;34m\u001b[0m\u001b[0;34m\u001b[0m\u001b[0m\n\u001b[1;32m     40\u001b[0m         \u001b[0;32mwhile\u001b[0m \u001b[0mlen\u001b[0m\u001b[0;34m(\u001b[0m\u001b[0mopen_list\u001b[0m\u001b[0;34m)\u001b[0m \u001b[0;34m>\u001b[0m \u001b[0;36m0\u001b[0m\u001b[0;34m:\u001b[0m\u001b[0;34m\u001b[0m\u001b[0;34m\u001b[0m\u001b[0m\n\u001b[0;32m---> 41\u001b[0;31m             \u001b[0mvis\u001b[0m\u001b[0;34m.\u001b[0m\u001b[0mdraw_step\u001b[0m\u001b[0;34m(\u001b[0m\u001b[0mmaze\u001b[0m\u001b[0;34m.\u001b[0m\u001b[0mgrid\u001b[0m\u001b[0;34m,\u001b[0m \u001b[0mopen_list\u001b[0m\u001b[0;34m,\u001b[0m \u001b[0mself\u001b[0m\u001b[0;34m.\u001b[0m\u001b[0mclosed_list\u001b[0m\u001b[0;34m)\u001b[0m          \u001b[0;31m#============================\u001b[0m\u001b[0;34m\u001b[0m\u001b[0;34m\u001b[0m\u001b[0m\n\u001b[0m\u001b[1;32m     42\u001b[0m             \u001b[0;31m#Δουλεύουμε με τον πρώτο κόμβο του μετώπου αναζήτησης\u001b[0m\u001b[0;34m\u001b[0m\u001b[0;34m\u001b[0m\u001b[0;34m\u001b[0m\u001b[0m\n\u001b[1;32m     43\u001b[0m             \u001b[0mcurrent_node\u001b[0m \u001b[0;34m=\u001b[0m \u001b[0mopen_list\u001b[0m\u001b[0;34m[\u001b[0m\u001b[0;36m0\u001b[0m\u001b[0;34m]\u001b[0m\u001b[0;34m\u001b[0m\u001b[0;34m\u001b[0m\u001b[0m\n",
            "\u001b[0;31mNameError\u001b[0m: name 'vis' is not defined"
          ]
        }
      ]
    },
    {
      "cell_type": "code",
      "metadata": {
        "id": "5ze26bEaALcm"
      },
      "source": [
        "pf.vis.show_gif()"
      ],
      "execution_count": null,
      "outputs": []
    },
    {
      "cell_type": "markdown",
      "metadata": {
        "id": "KcKfD8ylAOpb"
      },
      "source": [
        "### 4.5.  "
      ]
    },
    {
      "cell_type": "code",
      "metadata": {
        "id": "tzK7U4PfJkIC",
        "colab": {
          "base_uri": "https://localhost:8080/",
          "height": 398
        },
        "outputId": "bf6beaa3-a142-47e5-ade2-d0e8ee74943c"
      },
      "source": [
        "draw(filename='4.5.png')"
      ],
      "execution_count": null,
      "outputs": [
        {
          "output_type": "display_data",
          "data": {
            "text/html": [
              "\n",
              "<canvas width=301 height=301></canvas>\n",
              "<br>\n",
              "\n",
              "<button id = \"start\" style=\"background-color: #008000\">Start</button>\n",
              "<button id = \"end\" style=\"background-color: #800000\">End</button>\n",
              "<button id = \"finish\">Finish</button>\n",
              "<script>\n",
              "\n",
              "var canvas = document.querySelector('canvas')\n",
              "var ctx = canvas.getContext('2d')\n",
              "\n",
              "for (var x = 0.5; x < 301; x += 20) {\n",
              "  ctx.moveTo(x, 0);\n",
              "  ctx.lineTo(x, 300);\n",
              "}\n",
              "\n",
              "for (var y = 0.5; y < 301; y += 20) {\n",
              "  ctx.moveTo(0, y);\n",
              "  ctx.lineTo(300, y);\n",
              "}\n",
              "\n",
              "ctx.strokeStyle = \"#000\";\n",
              "ctx.stroke();\n",
              "\n",
              "var button = document.getElementById('finish')\n",
              "var start_button = document.getElementById('start')\n",
              "var end_button = document.getElementById('end')\n",
              "\n",
              "\n",
              "start_button.onclick = ()=>{\n",
              "    ctx.fillStyle=\"#008000\";\n",
              "  }\n",
              "\n",
              "end_button.onclick = ()=>{\n",
              "    ctx.fillStyle=\"#800000\";\n",
              "  }\n",
              "   \n",
              "\n",
              "var mouse = {x: 0, y: 0}\n",
              "canvas.addEventListener('mousemove', function(e) {\n",
              "  mouse.x = e.pageX - this.offsetLeft\n",
              "  mouse.y = e.pageY - this.offsetTop\n",
              "})\n",
              "\n",
              "function getMousePos(canvas, evt) {\n",
              "        var rect = canvas.getBoundingClientRect();\n",
              "        return {\n",
              "          x: evt.x - rect.left,\n",
              "          y: evt.y - rect.top\n",
              "        };\n",
              "      }\n",
              "\n",
              "function getNearestSquare(position) {\n",
              "    var x = position.x;\n",
              "    var y = position.y;\n",
              "\n",
              "    if (x < 0 || y < 0) return null;\n",
              "    x = (Math.floor(x / 20) * 20) + 0.5\n",
              "    y = (Math.floor(y / 20) * 20) + 0.5\n",
              "    return {x: x, y: y};\n",
              "}\n",
              "\n",
              "function containsObject(obj, list) {\n",
              "    var i;\n",
              "    for (i = 0; i < list.length; i++) {\n",
              "        if (list[i].x === obj.x && list[i].y == obj.y) {\n",
              "            return i;\n",
              "        }\n",
              "    }\n",
              "    return -1;\n",
              "}\n",
              "\n",
              "borders = []\n",
              "\n",
              "canvas.onmousedown = ()=>{\n",
              "    var pos = getNearestSquare(getMousePos(canvas, mouse));\n",
              "    if (pos != null) {\n",
              "        index = containsObject(pos, borders)\n",
              "        if (index != -1){\n",
              "            borders.splice(index, 1)\n",
              "            ctx.clearRect(pos.x + 1, pos.y, 19, 19)\n",
              "        }\n",
              "        else{\n",
              "            ctx.fillRect(pos.x+1,pos.y+1,18,18);\n",
              "            borders.push(pos)\n",
              "        }\n",
              "        ctx.fillStyle=\"#000000\";\n",
              "    }\n",
              "}\n",
              "var data = new Promise(resolve=>{\n",
              "  button.onclick = ()=>{\n",
              "    resolve(canvas.toDataURL('image/png'))\n",
              "  }\n",
              "})\n",
              "</script>\n"
            ],
            "text/plain": [
              "<IPython.core.display.HTML object>"
            ]
          },
          "metadata": {}
        },
        {
          "output_type": "stream",
          "name": "stdout",
          "text": [
            "data:image/png;base64,iVBORw0KGgoAAAANSUhEUgAAAS0AAAEtCAYAAABd4zbuAAAAAXNSR0IArs4c6QAAFbJJREFUeF7tndF227gSBJUv3+TLs0eKaCuxEwtdMzGRqX3Zc68FLlXdaAyGNPzlcrl8v/iPBCQggU0IfLmH1rf7v6//+3f/XMPtTz8/xv13uVy83luK8nvfWfrlfS765Td+eQytq3noP9ewOkzo9dZpym+d2eMI+Q3gZ2gNEPle+bqIrGttCK4za19EDK0TimLIxKIYMjG628At+BlaA0Q2BGORt5jE0/Q1tGI/77MyTTO13zc29RYhbWjF+hpaDJ385LdM4BaqhtYyt58GbLEyWXnEIqtvjK5vUTK0TiiKIROLYsjE6PpCptrPhtYAkatN4/Vi0xiqMbrXUDW0CiA6iWOITuIY3T6VUfX8MLQ0zQoBQ2aF1tvPyq+An6FVALF6JfF6sSiGQoxun8rN0BogsiEYi2wIxuj6QtDQOqEohkwsiiETo+sLmWo/G1oDRK42jdeLTWOoxuh8eniYhyHc5BdMDZlYZkMmRtdXuVlpnVAUQyYWxZCJ0fWFTLWfj9D6+vBdj//v+Pfxo2dOLb1+9npuk9f7ccrr41HW8nt/QumXHz7RL88F7svvHj73cT8lAQlI4JMJdJ0R/2xV8czXf/as7Geudf2M13uW1Pufk5/8Vghc/VL6NyO6elqG1oqsP3/WUMjZuSgxdl38Sh98GVrnFNnQz3Ux9HN2hhZj9zJaEzKQ8pPfCoEOv1hprSjwzmc7RLEyykVRj5xdV2VU7WdDi2lsI15+SwQM1SVcbz58NOLL/oSdPS0myC4rXfXK6fVy30wMQSut3C+3kRNNY8jkptEvObtjvhlajKGhJb8lAobWEi63h1ZGzDDyk98qgY6QttJaVeGXz3eI4vYrF0U9cna7LEqGFtPY7aH8lggYqku43B7uspJYaeXGNhRydrvMDystprGVlvyWCBiqS7istHZZSay0cmMbCjm7XeaHlRbT2EpLfksEDNUlXFZau6wkVlq5sQ2FnN0u88NKi2lspSW/JQKG6hKuv1dpVZ/pbuWRC+0kydntUnlMmx+l+fLrYfrMLo6WgAQk0EzAM+I5YCsjxlB+nF/pGexfL5dvXy6X799//IWgd//56OfHoK8//jpX6f15NA0zjNsR+a0S6Ajp0kb3NbTufwpw9bv9+vlvD6HleVqAZodppvUo/L65ATv8VxYy17AytHJxj5EdIjvpcl3UI2fXVZkbWkCTA56hkEM0FHJ2XaFwdj8bWsAzhhaAdx9qaDGGE/kZWsAzhhaAZ2hxeEOP0za0gHUMLQDP0OLwDC3E8DZ/bcQjhrfBE8v9s/dQvL/c1x1+ttLK9Xh5v0NT5xA7TK0e/7Yehlaur6EF2PmKRwG8oZW5oQW8Y08LwLOnxeEZWoihPS2E73Ww2yUGUn7/Pj8rLaCxlRaAZ6XF4VlpIYZWWgiflVYRPp++QpA7VKpWWkBkKy0Az0qLw7PSQgyttBA+K60ifFZaEKSVVg7Qo2lydj+N3MGEvleViz1R35Hbw9IznC9/OPEw8OJEExpagVEGb69L5++3y+XletfTS49TSq//PmT506mmj9LdDwEsvT/PiM8nhyMlIIFPIOAZ8Ry6lSBjKD/Or/QM9oadUun9eUY8M8x1tJOOMZQf51fa02oKLc+IBzo7SQA8Q5rBa+JnaAFZfE8LwBvcSPbBQ+6b6yJsaOX8POUBsHt4MPP7vzcXXN/KMoD2MGQHfoYW0NhKC8Cz0uLwmrZfZ68EDS1gHUMLwDO0ODxDCzHsmr+loerTQ6TxbfAO24ezVwreX+5De1o5u9vIrqTW1LkwhmrObpdFqbSS8ZUHZphdTGOo5jobqjm7Y34YWoChlRaAZ0+Lwxu6XTe0gHUMLQDP0OLwDC3EsGv+loaqjXiksY14js8HGZChjXgIsCup7Rnlwtgzytnt0lMtrWRsxDPD7GIaQzXX2VDN2dmIZ+xuo620OEQnMWM4kZ+VFvCMoQXg2Yjn8GzEI4Zd87c0VG3EI41txHN8NuIhw7GN+NIznBsaefaMcmdP3C5N88vZ52/p/XlGfB4GjpSABD6BgGfEc+hWMoyh/Di/0jPYG3ZKpfdnT4sZxlcy5LdKoCOkSxvdTaHlGfGrTnn4fIdppvVQ/L65ATv8Z2jlevieFmB3DO0wtSGTC7ODHoZWrq+hBdgZWgXwfE8LQfQ9LYTvdfAOK52VTC62+ubsjp6qlRZg2JXUhkIuiqGQs9vlQYuhBTQ2tAC8+1BDhjGcyM/QAp4xtAA8Q4vDs6eFGHbN39JQ9T0tpPFt8MSV3e167psOv5SGgu9p5eL6NI2zM1Q5w46QqQ59Qwvo3FVeVovs9XKRd5jE0/Q1tHI/+54WYGdlWQBv6Hbd0ALesdIC8GzEc3iGFmLYNX9LQ9VGPNLYRjzH54MMyHDsIYClSdjw9GFaj8Lvm8/kiT23s8/f0vuz0sonhz0ozs6nm5yhlRZk2LUntvLIhZlYeUzzS2kl07BTKr2/o9IqPcO54UtPM6Hf15B+lsB1UTr7/C29P8+If9Yafk4CEjgFAc+I5zK4/WIM5cf5lZ7B3rBTKr0/G/HMMDaS5bdKoCOkS3tGTaHlGfGrTnn4fIdp7EHlgqhHzu5YNA0twNCnhwDefaiTmDGcyM/QAp4xtAA8Q4vD89d4EMOu+Vsaqva0kMa3wRNXdrfDuW86/FIaCva0cnGPkR0iO+lyXdQjZ9e1yBlaQJOu8tKQyUUxZHJ2XSFT7WdDC2hsaAF49rQ4vKHbdUMLWMfQAvAMLQ7P0EIMu+ZvaajaiEca24jn+HyQARl6ygME2JXU1T0Ar5cLbY8sZ9fVIyutZHx6yATuEtnQynUxtHJ2XX42tIAmVloAnj0tDs+eFmLYNX9LQ9WeFtLYnhbHZ08LMrSnBQF2JbXbuVwYt3M5u67tXLWfSysZe1rMMLuYptqEXi/3zcSQNrRyv/jHWgG7Y+jESWdI58YZuz0sPcO5obzU1MzU8vu3+Z19/pben2fE52Z2pAQk8AkEPCOeQ3c7xxjKj/MrPYO9YadUen++8sAM44MC+a0S6AhpG/GrKjx83lceALz70A5T29PKddlBD0Mr19enh4CdTw8L4PlGPILYVXSUhqrbQ6TxbfAOK7GVVq7zDvqWhkJTT8s/IZZ70JAB7AxpCK9pkTO0gC5d5aWVQi7KDpWC+jJ9Da2cnz0twM6eVgG8pkrm7KFqaAHvWGkBeD495PAMLcSwa/6WhqqNeKSxjXiOzx4jZDj2dw9Lk7Dh6cPZy3PvL5959txydseDkbPP39L7s9JihvFpmvxWCXSEdGkoNBQdpfdnaK1a7u3nO0xo5ZbrMlGP0lAwtHLz+TSNs7MS5Ax3CEFDC+jc9fTByiMXZYdJp75MX0Mr5+d7WoCdlWUBPF95QBC7io7SULWnhTT2lQeOz1ceIENfeYAAu5La7UMujNvDnN0uPcHSSmaXRnzpGc4NX9rQyieeoZWz2yW0zj5/S+/PM+KZoR0tAQn8ZQKeEc+BW8kwhvLj/ErPYG/YKZXen414Zphdtg9ur3OddwjVkT2ts39pJ92/PenUl+l79vlben9WWrlZfK+Ks7NS5Qx95QEy9JUHCHDoy5FWWrlvDK2c3W2koQUBGloY4A49qOqQLt1+NTXi/cMWwNoTTV09SbxebsAO/xlauR5WWoCdPbICeEMrVUMLeMftIYB3H9qxElsZ5brsoIehletrpQXYWWkVwLPSQhC7io7SUPWVB6TxbfAOK7GVVq7zDvqWhoKN+NwsVh6cnaHKGRpajGH5KxlWWkwQQ0F+qwQ6QtBKa1WFh8937Ynd3uSidEwS9TiXHoZWroeNeMDO7XABvKE9RkMLeMdKC8DzlQcOz9BCDLvmb2mo2tNCGvv0kOPz6StkWN7o9ukhVGToymnPKPfNxB5eaSWzS2iVnuHc8KWdxE7iZwlMDK2zz9/S+/OM+Gengp+TgAROQcAz4rkME1d2K9/cNx1+KT2DvWGnVHp/NuJz8/mKAmd3vULHJJ4WqiN7Wmf/0tNM6PfNA3FiCJ59/pben5VWPjmstDg7Ky3O0FceIMOul9OsPHJhJlYe0/xSWsk09bQ8bjmfw/ZQADsrIwivqYdnaAFdrLQAvPtQKyPGcCI/Qwt4xtAC8AwtDq+pkjn7dtPQAtYxtAA8Q4vDM7QQw675WxqqPj1EGt8GT9yOnL3ymHZ/paFgI95QWCVgCK4S+/nzE/kZWsAzXeXltJXT75ub0NDK2XXN39JQdXuYC3yMnDhJDNXcNx1+KQ0Ft4e5uIYCZ2fPjTPsCJnq0De0gM5d5WW1yF4vF3mHSTxNX0Mr97N/2AKws7IsgDf0aa6hBbxjpQXg+Z4Wh2doIYZd87c0VG3EI419T4vj8z03yHDsKQ+lZzg3PH2Y1qPw++YzeWLP7ezzt/T+PCM+nxyOlIAEPoGAZ8Rz6BNXdivB3Dcdfik9g71hp1R6f/a0cvP5tI+z8z0yznBsT6u0u9+Q1K7subk7Vnb1OJceZ5+/pfdnpZWbz0qLs7PS4gyttCDDrvc8XNlzYay0cna7hGppJdOwUyq9PystZuhdTG3o5zrvEPqloWBo5WZx+8XZGaqcoaHFGJZvX620mCCGgvxWCXSEoJXWqgoPn7enBeDdh3aY2u1hrssOehhaub6e8gDYuR0ugOcvTCOIXUVHaai6PUQa3wbvsBJbaeU676BvaSjYiM/NYuXB2RmqnKGhxRjaiGf8rIzkt0zA0FpG9tMAQ4vxM7Tkt0zA0FpGZmjtYBp7Rrmx1Tdnd2z/7WkBhl1PHwyFXBRDIWe3S0/Q0AIaG1oA3n2oIcMYTuRnaAHPGFoAnqHF4Q19BWVkaJWe4dzwnofbw3w+T6w8pvnl7PO39P48Iz4PA0dKQAKfQMAz4jl0KxnGUH6cX+kZ7A07pdL789d4mGF2ebo0bbs07fuO7Gmd/UtPM6HfN19MJlZuZ5+/pfdnpZVPjmPkxEliqOa+6fBLaSg0bQ//y5G9jLx9T0OLk+wwoaGQ6zJRD0Mr94vnaQF2Vm4F8HxPC0Hses+yNFSttJDGt8ETV3Yrwdw3HX4pDQW3h7m4Vh6cnaHKGXaETHXoG1pA567yslpkr5eLvMMknqavoZX72Z4WYGdlWQBv6Hbd0ALesdIC8O5DrWQYw4n8DC3gGUMLwDO0ODwrLcSwa/6WhqpPD5HGPj3k+Hz6ChmWn8Hu00OoyNCVc1oj2e+bzxNDK2d3G9lVXmrqXJiJPZ5pfindfllp5ZPNp2mcne9pcYY7hL6hBXS20gLwbMRzeEPbCYYWsI6hBeAZWhyeoYUYds3f0lA9nh6WnuHcsCee1qPw++Zzb4ftXLW+Z5+/pffnGfH55HCkBCTwCQQ8I55Dn7iyV1cKXi/34fHKw0c+/Ojnxx1cD+ur1sMz4nN9byOfFe/Z/4zXe5bU+5+TH+dX2jNqCi1PLgU6O0kAPEOfwWviZ2gBWbqePlSXq14vF9nQz9l1VfqGFtDE0ALwfOWBw2uqZM6+yBlawDqGFoBnaHF4hhZi2DV/S0PVUx6Qxjb2OT4fjECG/sI0BNiV1Gcvz72/3Dj2yHJ2R4+stJLx6SETpKtxacjkuhgyObsuPxtaQBMrLQDPnhaHZ08LMeyav6Whak8LaWxPi+OzpwUZ2tOCALuS2u1cLozbuZxd13au2s+llYw9LWaYXUxTbUKvl/tmYkgbWrlfPG4ZsDuGTpx0hnRuHLeHObvbSLeHEODQRrKhlfvG0MrZGVqQnZVWDcCJlarbQ+AdKy0Az1ceOLyhlaqhBaxjaAF4hhaHZ2ghhl3ztzRUPSMeaXwbPHE7Yg8q902HX0rPYG945aH0/jwjPjefIyUggU8gsMsZ8aVnTN+fcn604n3080Ou6zGy3t9b88rv/Qm9g1+qK+nS+bHLr/GU7okfXs2g68RxX95fRlJ+GbdjVBe/jtAad0a8oZCZu8vU6vFv62FoZfq+jOp4ec5Jl4liCGbcuiujaj8bWkzn29O5alG8XiaKoZVxM7QuF7eHoXecdCG4+zD5zeBnpcV0ttIC/AwZAO+hwp9WmRtazDeGFuBnaAF4hhaDdx9d3t7xlQemi6EgvxUCu/jFSmtF1Xc+W57UNvZjRXaZdNO2c9Xf19CKp8iPgYZWDtCQydldR07lZ2gx3xhagN/USVddeUy7nqEFJp2VFoNnaMlvhcDhF0NrhZo9rdtLeNNWdr9vNkm6FiVDK9PjZZQ9rRxgl6kNmUyTXfQwtDJ9DS3IbXIj2VDNzOP2MOP2ZpSVVg5yl5XdkMk07tLXSivTw0oLcrPS4gC7QuHsIb1FaJWe4Xz2M6Yvl0v19/V6l8uvR3c/a/zrgwf5nYvfs9o9syxcd0ql+npG/DPY/YwEJHAaAnucEf/18u3y5fL98v22mr//z0c/P0Z9vb1SUL2SeL3c0s+eJf/sf8HrPUvq/c918Ltuhz+67kc/P+72vz1+YfoaWlWHiBlazNIfm2/1+s+a9dnrer1nSf3d0Bp2CKChRWzoJCb0DGlGr+F3h620qCSamhI0VBnBHfjV7ZQuF7eHzC+30TuYxp5bLrT65uyO+WFoAYbfLva0AD5DmsIbusgZWsA4hhaAdx9q5cEYTuRnaAHPGFoAnqHF4VlpIYa38LMRjxi6XeL47AlChjtUblZaQGQrLQDPSovDs9JCDK20EL7XwTusdD49zMVW35ydTw8Zu9toKy0O0UnMGE7k5/YQeMbQAvDcHnJ4bg8RQ7eHCJ/bwyJ8NuIhyB0qNystILKVFoBnpcXhWWkhhlZaCJ+VVhE+Ky0I0koLAuw5GN9THogsO5jap5u5wjvo6/Yw19enh4DdMXSHSWII5kJ36NsSWqVnOJefDHrtRL1OmS8vp5heTyt9/P+fEcpfmH6G0p8+02FqQyZXZQc9SvPFM+JzszhSAhL4BAJdZ8SXngl9/zPxH60oH/38wHv82fmPPv/Rz73en8/al9/7E1r/vc/lab90/cJ06R72HlplZ0x7vXh5nPp3APVzZpkWvxhamRjHqBZRDNVYFPWI0d0GbsHP0BogsiEYi7zFJJ6mr6EV+3mflWmaqf2+sam3CGlDK9bX0GLo5Ce/ZQKtv8Zj43JZDydxhuynUVtUClaCsdKGVozudaCThEGUn/xWCBhaK7R+81knHYMoP/mtEDC0VmgZWm5f9csygZZFyUb8sg72UOzJxKZpmcTT9DC0Yv9ZeTB08pPfMgG3h8vI3g5w5WQQ5Se/FQKG1gote1pWRvplmUDLouT2cFkHe1rTeih+33iSGFoxuteBLRA1dayMesTo5la+VlqaZoWAIbNCyx5oi18MLU24QqDFhFaqKxLYnjhCq/QM58vl4Uz3H6dbHqcSvp7p/udTLx+VuR7+5/29cjzYPHuuuvz039Uz/4xfPCM+XuQcKAEJfAKBL/8DqhuMas5m+1cAAAAASUVORK5CYII=\n"
          ]
        },
        {
          "output_type": "execute_result",
          "data": {
            "text/plain": [
              "5624"
            ]
          },
          "metadata": {},
          "execution_count": 223
        }
      ]
    },
    {
      "cell_type": "markdown",
      "metadata": {
        "id": "gudt2lGiJrW0"
      },
      "source": [
        "###Σχολιασμός\n",
        "Σε αυτό το παράδειγμα δε δίνεται περιθώριο στον bfs να δει άλλες διακλαδώσεις πέρα του βέλτιστου μονοπατιού. Συνεπώς ο A* και ο bfs θα ακολουθήσουν τα ίδια βήματα\n",
        " "
      ]
    },
    {
      "cell_type": "code",
      "metadata": {
        "id": "zT3sxMjVARhy",
        "colab": {
          "base_uri": "https://localhost:8080/",
          "height": 252
        },
        "outputId": "6aeb3d8f-eae3-411a-b674-2993b567dfdc"
      },
      "source": [
        "g = load_maze('4.5.png')"
      ],
      "execution_count": null,
      "outputs": [
        {
          "output_type": "display_data",
          "data": {
            "image/png": "[encoded data removed]",
            "text/plain": [
              "<Figure size 432x288 with 1 Axes>"
            ]
          },
          "metadata": {}
        }
      ]
    },
    {
      "cell_type": "code",
      "metadata": {
        "id": "CVET3yUWATTB",
        "colab": {
          "base_uri": "https://localhost:8080/",
          "height": 252
        },
        "outputId": "c1853a28-3339-444f-e217-d06ca0a67271"
      },
      "source": [
        "pf = Pathfinder(g, c = lambda x, y: 1, h = manhattan)   # change arguments to choose the appropriate pathfinding algorithm and cost/heuristic (if applicable)\n",
        "g.draw_map(pf.get_path())"
      ],
      "execution_count": null,
      "outputs": [
        {
          "output_type": "display_data",
          "data": {
            "image/png": "[encoded data removed]",
            "text/plain": [
              "<Figure size 432x288 with 1 Axes>"
            ]
          },
          "metadata": {}
        }
      ]
    },
    {
      "cell_type": "code",
      "metadata": {
        "id": "oRtWfOvNATUr",
        "colab": {
          "base_uri": "https://localhost:8080/",
          "height": 303
        },
        "outputId": "a95d19d6-6c7a-4a7b-ab09-f65fe832f038"
      },
      "source": [
        "pf.vis.show_gif()"
      ],
      "execution_count": null,
      "outputs": [
        {
          "output_type": "error",
          "ename": "EmptyStackOfImages",
          "evalue": "ignored",
          "traceback": [
            "\u001b[0;31m---------------------------------------------------------------------------\u001b[0m",
            "\u001b[0;31mEmptyStackOfImages\u001b[0m                        Traceback (most recent call last)",
            "\u001b[0;32m<ipython-input-229-03109645b455>\u001b[0m in \u001b[0;36m<module>\u001b[0;34m()\u001b[0m\n\u001b[0;32m----> 1\u001b[0;31m \u001b[0mpf\u001b[0m\u001b[0;34m.\u001b[0m\u001b[0mvis\u001b[0m\u001b[0;34m.\u001b[0m\u001b[0mshow_gif\u001b[0m\u001b[0;34m(\u001b[0m\u001b[0;34m)\u001b[0m\u001b[0;34m\u001b[0m\u001b[0;34m\u001b[0m\u001b[0m\n\u001b[0m",
            "\u001b[0;32m<ipython-input-184-938f2d875145>\u001b[0m in \u001b[0;36mshow_gif\u001b[0;34m(self, fps, repeat_delay)\u001b[0m\n\u001b[1;32m     90\u001b[0m             \u001b[0mExceptions\u001b[0m\u001b[0;34m:\u001b[0m \u001b[0mEmptyStackOfImages\u001b[0m \u001b[0mαν\u001b[0m \u001b[0mτο\u001b[0m \u001b[0manimation\u001b[0m \u001b[0mδεν\u001b[0m \u001b[0mέχει\u001b[0m \u001b[0mούτε\u001b[0m \u001b[0mένα\u001b[0m \u001b[0mframe\u001b[0m\u001b[0;34m,\u001b[0m \u001b[0mδηλαδή\u001b[0m \u001b[0mαν\u001b[0m \u001b[0mη\u001b[0m \u001b[0mdraw_step\u001b[0m \u001b[0mδεν\u001b[0m \u001b[0mέχει\u001b[0m \u001b[0mκαλεστεί\u001b[0m \u001b[0mποτέ\u001b[0m\u001b[0;34m.\u001b[0m\u001b[0;34m\u001b[0m\u001b[0;34m\u001b[0m\u001b[0m\n\u001b[1;32m     91\u001b[0m         '''\n\u001b[0;32m---> 92\u001b[0;31m         \u001b[0mani\u001b[0m \u001b[0;34m=\u001b[0m \u001b[0mself\u001b[0m\u001b[0;34m.\u001b[0m\u001b[0mcreate_gif\u001b[0m\u001b[0;34m(\u001b[0m\u001b[0mfps\u001b[0m\u001b[0;34m,\u001b[0m \u001b[0mrepeat_delay\u001b[0m\u001b[0;34m)\u001b[0m\u001b[0;34m\u001b[0m\u001b[0;34m\u001b[0m\u001b[0m\n\u001b[0m\u001b[1;32m     93\u001b[0m         \u001b[0;31m# return HTML(ani.to_html5_video())\u001b[0m\u001b[0;34m\u001b[0m\u001b[0;34m\u001b[0m\u001b[0;34m\u001b[0m\u001b[0m\n\u001b[1;32m     94\u001b[0m         \u001b[0;32mreturn\u001b[0m \u001b[0mHTML\u001b[0m\u001b[0;34m(\u001b[0m\u001b[0mani\u001b[0m\u001b[0;34m.\u001b[0m\u001b[0mto_jshtml\u001b[0m\u001b[0;34m(\u001b[0m\u001b[0;34m)\u001b[0m\u001b[0;34m)\u001b[0m\u001b[0;34m\u001b[0m\u001b[0;34m\u001b[0m\u001b[0m\n",
            "\u001b[0;32m<ipython-input-184-938f2d875145>\u001b[0m in \u001b[0;36mcreate_gif\u001b[0;34m(self, fps, repeat_delay)\u001b[0m\n\u001b[1;32m     60\u001b[0m     \u001b[0;32mdef\u001b[0m \u001b[0mcreate_gif\u001b[0m\u001b[0;34m(\u001b[0m\u001b[0mself\u001b[0m\u001b[0;34m,\u001b[0m \u001b[0mfps\u001b[0m \u001b[0;34m=\u001b[0m \u001b[0;36m30\u001b[0m\u001b[0;34m,\u001b[0m \u001b[0mrepeat_delay\u001b[0m \u001b[0;34m=\u001b[0m \u001b[0;36m2000\u001b[0m\u001b[0;34m)\u001b[0m\u001b[0;34m:\u001b[0m\u001b[0;34m\u001b[0m\u001b[0;34m\u001b[0m\u001b[0m\n\u001b[1;32m     61\u001b[0m         \u001b[0;32mif\u001b[0m \u001b[0mlen\u001b[0m\u001b[0;34m(\u001b[0m\u001b[0mself\u001b[0m\u001b[0;34m.\u001b[0m\u001b[0mimages\u001b[0m\u001b[0;34m)\u001b[0m \u001b[0;34m==\u001b[0m \u001b[0;36m0\u001b[0m\u001b[0;34m:\u001b[0m\u001b[0;34m\u001b[0m\u001b[0;34m\u001b[0m\u001b[0m\n\u001b[0;32m---> 62\u001b[0;31m             \u001b[0;32mraise\u001b[0m \u001b[0mEmptyStackOfImages\u001b[0m\u001b[0;34m(\u001b[0m\u001b[0;34m\"Error! You have to call 'draw_step' at  first.\"\u001b[0m\u001b[0;34m)\u001b[0m\u001b[0;34m\u001b[0m\u001b[0;34m\u001b[0m\u001b[0m\n\u001b[0m\u001b[1;32m     63\u001b[0m         \u001b[0mfig\u001b[0m \u001b[0;34m=\u001b[0m \u001b[0mplt\u001b[0m\u001b[0;34m.\u001b[0m\u001b[0mfigure\u001b[0m\u001b[0;34m(\u001b[0m\u001b[0;34m)\u001b[0m\u001b[0;34m\u001b[0m\u001b[0;34m\u001b[0m\u001b[0m\n\u001b[1;32m     64\u001b[0m         \u001b[0mplt\u001b[0m\u001b[0;34m.\u001b[0m\u001b[0maxis\u001b[0m\u001b[0;34m(\u001b[0m\u001b[0;34m'off'\u001b[0m\u001b[0;34m)\u001b[0m\u001b[0;34m\u001b[0m\u001b[0;34m\u001b[0m\u001b[0m\n",
            "\u001b[0;31mEmptyStackOfImages\u001b[0m: Error! You have to call 'draw_step' at  first."
          ]
        }
      ]
    },
    {
      "cell_type": "code",
      "metadata": {
        "id": "-0L9Lm-C5rO-"
      },
      "source": [
        ""
      ],
      "execution_count": null,
      "outputs": []
    }
  ]
}