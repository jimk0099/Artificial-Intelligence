{
  "cells": [
    {
      "cell_type": "markdown",
      "metadata": {
        "id": "K2CYQhbxW9nP"
      },
      "source": [
        "### Μέλη Ομάδας:\n",
        "Ον/μο1: Καλέμης Δημήτριος  \n",
        "Αρ. Μητρώου 1:  el18152\n",
        "\n",
        "Ον/μο2: Παπανικολάου Γρηγόριος\n",
        "Αρ. Μητρώου 2:  el18649"
      ]
    },
    {
      "cell_type": "markdown",
      "metadata": {
        "id": "heT7siZWZjQD"
      },
      "source": [
        "# Τεχνητή Νοημοσύνη: Εργαστηριακή Άσκηση 3 \n",
        "Στην άσκηση αυτή θα υλοποιηθούν διάφοροι (σχετικά απλοί) αλγόριθμοι μηχανικής μάθησης για την αυτόματη αναγνώριση μεταξύ 3 μουσικών είδών απο τα δεδομένα που προσφέρει η υπηρεσία Spotify. Συγκεκριμένα, θα δίνονται δύο σύνολα δεδομένων $$Ζ_{train}=\\{(x_1,y_1),\\dots,(x_n,y_n)\\}$$ $$Z_{test} = \\{(x_j,y_j),\\dots{,(x_k,y_k)}\\}$$ όπου κάθε $x_i\\in{\\mathbb{R}^p}$ είναι ένα διάνυσμα με τα μουσικά χαρακτηριστικά κάθε κομματιού (όπως dancability, acousticness κ.α.) και $y_i$ είναι το είδος του κομματιού - ένας ακέραιος στο $[0,2]$. Σε κάθε περίπτωση καλείστε να σχεδιάσετε έναν ταξινομητή, δηλαδή μια απεικόνιση $$f:\\mathbb{R}^p\\rightarrow{[0,2]}$$"
      ]
    },
    {
      "cell_type": "markdown",
      "metadata": {
        "id": "Rvm0mywsZmit"
      },
      "source": [
        "# 1ο Μέρος: Αξιολόγηση\n",
        "Στο πρώτο μέρος της άσκησης θα υλοποιηθούν συναρτήσεις που θα χρησιμοποιηθούν για την αξιολόγηση των ταξινομητών που θα χρησιμοποιηθούν στα επόμενα μέρη.\n",
        "\n",
        "Παρακάτω σας δίνεται η κλάση Evaluate, η οποία υπολογίζει διάφορες μετρικές με τη μέθοδο get_metrics, εντοπίζει αντικείμενα που ταξινομήθηκαν λάθος και τα εμφανίζει (μέθοδος get_sample_of_wrong), και υπολογίζει τον πίνακα σύγχυσης (confusion matrix) όπου οπτικοποιούνται ανά κατηγορία οι προβλέψεις του ταξινομητή.\n",
        "\n",
        "Για το μέρος αυτό καλείστε να υλοποιήσετε στη μέθοδο my_accuracy τη μετρική accuracy, η οποία ορίζεται ως:\n",
        "$$accuracy = \\frac{\\#σωστών\\_προβλέψεων}{\\#δεδομένων}$$\n",
        "\n"
      ]
    },
    {
      "cell_type": "code",
      "execution_count": 2,
      "metadata": {
        "id": "WlTj48uFZhyJ"
      },
      "outputs": [],
      "source": [
        "from sklearn.metrics import confusion_matrix, f1_score, precision_score, recall_score\n",
        "from matplotlib import pyplot as plt\n",
        "import numpy as np\n",
        "import random\n",
        "import statistics\n",
        "\n",
        "class Evaluate:\n",
        "    def __init__(self, y_true, y_pred):\n",
        "        self.y_true = y_true\n",
        "        self.y_pred = y_pred\n",
        "\n",
        "    def my_accuracy(self):\n",
        "      y_true = self.y_true\n",
        "      y_pred = self.y_pred\n",
        "      \n",
        "      ##################\n",
        "      ## Your code below\n",
        "      true=0\n",
        "      for i in range(0,len(y_true)):\n",
        "        if(y_true[i]==y_pred[i]):\n",
        "          true=true+1\n",
        "      acc=true/(len(y_true))\n",
        "      ## Your code above\n",
        "      ##################\n",
        "      return acc\n",
        "\n",
        "    def get_metrics(self):\n",
        "        precision = precision_score(self.y_true, self.y_pred, average = \"macro\")\n",
        "        recall = recall_score(self.y_true, self.y_pred, average = \"macro\",zero_division=1)\n",
        "        f1 = f1_score(self.y_true, self.y_pred, average = \"macro\")\n",
        "        results = {\"precision\": precision, \"recall\": recall, \"f1\": f1, \"accuracy\": self.my_accuracy()}\n",
        "        return results   \n",
        "    \n",
        "    def confusion_matrix(self):\n",
        "        cm = confusion_matrix(self.y_true, self.y_pred)\n",
        "        return cm \n",
        "\n",
        "    def get_evaluation_report(self):\n",
        "        metrics = self.get_metrics()\n",
        "        for m in metrics:\n",
        "            print(m + ': ' + str(metrics[m]))\n",
        "        cm = self.confusion_matrix()\n",
        "        print(\"Confusion matrix: \")\n",
        "        print(cm)"
      ]
    },
    {
      "cell_type": "markdown",
      "metadata": {
        "id": "3qcSvLy6ZpzB"
      },
      "source": [
        "Παράδειγμα χρήσης της κλάσης. Κανονικά στο x θα υπάρχουν τα δεδομένα από το dataset"
      ]
    },
    {
      "cell_type": "code",
      "execution_count": 3,
      "metadata": {
        "id": "S5hRZ9L1ZoNJ",
        "colab": {
          "base_uri": "https://localhost:8080/"
        },
        "outputId": "9fd4a026-105b-415b-cc8e-692a2b27ebc7"
      },
      "outputs": [
        {
          "output_type": "stream",
          "name": "stdout",
          "text": [
            "precision: 0.75\n",
            "recall: 0.75\n",
            "f1: 0.75\n",
            "accuracy: 0.75\n",
            "Confusion matrix: \n",
            "[[3 1]\n",
            " [1 3]]\n"
          ]
        }
      ],
      "source": [
        "y_true = [1, 0, 1, 0, 0, 1, 1, 0]\n",
        "y_pred = [1, 0, 1, 0, 1, 1, 0, 0]\n",
        "\n",
        "eval = Evaluate(y_true, y_pred)\n",
        "eval.get_evaluation_report()"
      ]
    },
    {
      "cell_type": "markdown",
      "metadata": {
        "id": "h9Sex6aEZtt9"
      },
      "source": [
        "# Dataset\n",
        "\n",
        "To dataset που σας δίνεται περιέχει πληθώρα μουσικών κομματιών για τα οποία έχουν καταγραφεί διάφορα χαρακτηριστικά τους, όπως επίσης και το μουσικό είδος στο οποίο ανήκουν. Στη συγκεκριμένη άσκηση θα δουλέψουμε με ένα υποσύνολο (αριθμητικών) χαρακτηριστικών, τα οποία συνεισφέρουν στον καθορισμό της μουσικής κατηγορίας κάθε κομματιού.  \n",
        "\n",
        "Τα χαρακτηριστικά τα οποία θα μελετήσουμε στην παρούσα άσκηση είναι τα \"acousticness\", \"danceability\", \"energy\", \"instrumentalness\", \"liveness\", \"speechiness\", ενώ οι κατηγορίες στις οποίες καλούμαστε να ταξινομήσουμε τα μουσικά κομμάτια είναι οι \"Electronic\", \"Rock\", και \"Rap\".  \n"
      ]
    },
    {
      "cell_type": "code",
      "source": [
        "from google.colab import drive\n",
        "drive.mount('/content/drive')"
      ],
      "metadata": {
        "colab": {
          "base_uri": "https://localhost:8080/"
        },
        "id": "joA85DXqf0Rq",
        "outputId": "12bfb91d-a6b2-4ecd-8c38-904bab4e91bb"
      },
      "execution_count": 4,
      "outputs": [
        {
          "output_type": "stream",
          "name": "stdout",
          "text": [
            "Mounted at /content/drive\n"
          ]
        }
      ]
    },
    {
      "cell_type": "markdown",
      "source": [
        "Θα χρησιμοποιήσουμε τα DataFrames της βιβλιοθήκης pandas για να χειριστούμε τα δεδομένα μας. Μπορείτε να βρείτε περισσότερες πληροφορίες για τα pandas DataFrames στο αντίστοιχο [documentation](https://pandas.pydata.org/docs/reference/api/pandas.DataFrame.html)."
      ],
      "metadata": {
        "id": "5sKETzTHNgyk"
      }
    },
    {
      "cell_type": "code",
      "execution_count": 5,
      "metadata": {
        "id": "YvbVV9isZrwZ"
      },
      "outputs": [],
      "source": [
        "import pandas as pd\n",
        "import random\n",
        "from tqdm.notebook import tqdm "
      ]
    },
    {
      "cell_type": "code",
      "execution_count": 6,
      "metadata": {
        "id": "YKpUJSpWqy-I",
        "colab": {
          "base_uri": "https://localhost:8080/",
          "height": 339
        },
        "outputId": "646de95f-4de0-4983-9915-b75afdfb8924"
      },
      "outputs": [
        {
          "output_type": "execute_result",
          "data": {
            "text/html": [
              "\n",
              "  <div id=\"df-71964b0a-0ebd-4c8a-9359-5bb251282a9c\">\n",
              "    <div class=\"colab-df-container\">\n",
              "      <div>\n",
              "<style scoped>\n",
              "    .dataframe tbody tr th:only-of-type {\n",
              "        vertical-align: middle;\n",
              "    }\n",
              "\n",
              "    .dataframe tbody tr th {\n",
              "        vertical-align: top;\n",
              "    }\n",
              "\n",
              "    .dataframe thead th {\n",
              "        text-align: right;\n",
              "    }\n",
              "</style>\n",
              "<table border=\"1\" class=\"dataframe\">\n",
              "  <thead>\n",
              "    <tr style=\"text-align: right;\">\n",
              "      <th></th>\n",
              "      <th>instance_id</th>\n",
              "      <th>artist_name</th>\n",
              "      <th>track_name</th>\n",
              "      <th>popularity</th>\n",
              "      <th>acousticness</th>\n",
              "      <th>danceability</th>\n",
              "      <th>duration_ms</th>\n",
              "      <th>energy</th>\n",
              "      <th>instrumentalness</th>\n",
              "      <th>key</th>\n",
              "      <th>liveness</th>\n",
              "      <th>loudness</th>\n",
              "      <th>mode</th>\n",
              "      <th>speechiness</th>\n",
              "      <th>tempo</th>\n",
              "      <th>obtained_date</th>\n",
              "      <th>valence</th>\n",
              "      <th>music_genre</th>\n",
              "    </tr>\n",
              "  </thead>\n",
              "  <tbody>\n",
              "    <tr>\n",
              "      <th>0</th>\n",
              "      <td>32894.0</td>\n",
              "      <td>Röyksopp</td>\n",
              "      <td>Röyksopp's Night Out</td>\n",
              "      <td>27.0</td>\n",
              "      <td>0.00468</td>\n",
              "      <td>0.652</td>\n",
              "      <td>-1.0</td>\n",
              "      <td>0.941</td>\n",
              "      <td>0.79200</td>\n",
              "      <td>A#</td>\n",
              "      <td>0.115</td>\n",
              "      <td>-5.201</td>\n",
              "      <td>Minor</td>\n",
              "      <td>0.0748</td>\n",
              "      <td>100.889</td>\n",
              "      <td>4-Apr</td>\n",
              "      <td>0.759</td>\n",
              "      <td>Electronic</td>\n",
              "    </tr>\n",
              "    <tr>\n",
              "      <th>1</th>\n",
              "      <td>46652.0</td>\n",
              "      <td>Thievery Corporation</td>\n",
              "      <td>The Shining Path</td>\n",
              "      <td>31.0</td>\n",
              "      <td>0.01270</td>\n",
              "      <td>0.622</td>\n",
              "      <td>218293.0</td>\n",
              "      <td>0.890</td>\n",
              "      <td>0.95000</td>\n",
              "      <td>D</td>\n",
              "      <td>0.124</td>\n",
              "      <td>-7.043</td>\n",
              "      <td>Minor</td>\n",
              "      <td>0.0300</td>\n",
              "      <td>115.002</td>\n",
              "      <td>4-Apr</td>\n",
              "      <td>0.531</td>\n",
              "      <td>Electronic</td>\n",
              "    </tr>\n",
              "    <tr>\n",
              "      <th>2</th>\n",
              "      <td>30097.0</td>\n",
              "      <td>Dillon Francis</td>\n",
              "      <td>Hurricane</td>\n",
              "      <td>28.0</td>\n",
              "      <td>0.00306</td>\n",
              "      <td>0.620</td>\n",
              "      <td>215613.0</td>\n",
              "      <td>0.755</td>\n",
              "      <td>0.01180</td>\n",
              "      <td>G#</td>\n",
              "      <td>0.534</td>\n",
              "      <td>-4.617</td>\n",
              "      <td>Major</td>\n",
              "      <td>0.0345</td>\n",
              "      <td>127.994</td>\n",
              "      <td>4-Apr</td>\n",
              "      <td>0.333</td>\n",
              "      <td>Electronic</td>\n",
              "    </tr>\n",
              "    <tr>\n",
              "      <th>3</th>\n",
              "      <td>62177.0</td>\n",
              "      <td>Dubloadz</td>\n",
              "      <td>Nitro</td>\n",
              "      <td>34.0</td>\n",
              "      <td>0.02540</td>\n",
              "      <td>0.774</td>\n",
              "      <td>166875.0</td>\n",
              "      <td>0.700</td>\n",
              "      <td>0.00253</td>\n",
              "      <td>C#</td>\n",
              "      <td>0.157</td>\n",
              "      <td>-4.498</td>\n",
              "      <td>Major</td>\n",
              "      <td>0.2390</td>\n",
              "      <td>128.014</td>\n",
              "      <td>4-Apr</td>\n",
              "      <td>0.270</td>\n",
              "      <td>Electronic</td>\n",
              "    </tr>\n",
              "    <tr>\n",
              "      <th>4</th>\n",
              "      <td>24907.0</td>\n",
              "      <td>What So Not</td>\n",
              "      <td>Divide &amp; Conquer</td>\n",
              "      <td>32.0</td>\n",
              "      <td>0.00465</td>\n",
              "      <td>0.638</td>\n",
              "      <td>222369.0</td>\n",
              "      <td>0.587</td>\n",
              "      <td>0.90900</td>\n",
              "      <td>F#</td>\n",
              "      <td>0.157</td>\n",
              "      <td>-6.266</td>\n",
              "      <td>Major</td>\n",
              "      <td>0.0413</td>\n",
              "      <td>145.036</td>\n",
              "      <td>4-Apr</td>\n",
              "      <td>0.323</td>\n",
              "      <td>Electronic</td>\n",
              "    </tr>\n",
              "  </tbody>\n",
              "</table>\n",
              "</div>\n",
              "      <button class=\"colab-df-convert\" onclick=\"convertToInteractive('df-71964b0a-0ebd-4c8a-9359-5bb251282a9c')\"\n",
              "              title=\"Convert this dataframe to an interactive table.\"\n",
              "              style=\"display:none;\">\n",
              "        \n",
              "  <svg xmlns=\"http://www.w3.org/2000/svg\" height=\"24px\"viewBox=\"0 0 24 24\"\n",
              "       width=\"24px\">\n",
              "    <path d=\"M0 0h24v24H0V0z\" fill=\"none\"/>\n",
              "    <path d=\"M18.56 5.44l.94 2.06.94-2.06 2.06-.94-2.06-.94-.94-2.06-.94 2.06-2.06.94zm-11 1L8.5 8.5l.94-2.06 2.06-.94-2.06-.94L8.5 2.5l-.94 2.06-2.06.94zm10 10l.94 2.06.94-2.06 2.06-.94-2.06-.94-.94-2.06-.94 2.06-2.06.94z\"/><path d=\"M17.41 7.96l-1.37-1.37c-.4-.4-.92-.59-1.43-.59-.52 0-1.04.2-1.43.59L10.3 9.45l-7.72 7.72c-.78.78-.78 2.05 0 2.83L4 21.41c.39.39.9.59 1.41.59.51 0 1.02-.2 1.41-.59l7.78-7.78 2.81-2.81c.8-.78.8-2.07 0-2.86zM5.41 20L4 18.59l7.72-7.72 1.47 1.35L5.41 20z\"/>\n",
              "  </svg>\n",
              "      </button>\n",
              "      \n",
              "  <style>\n",
              "    .colab-df-container {\n",
              "      display:flex;\n",
              "      flex-wrap:wrap;\n",
              "      gap: 12px;\n",
              "    }\n",
              "\n",
              "    .colab-df-convert {\n",
              "      background-color: #E8F0FE;\n",
              "      border: none;\n",
              "      border-radius: 50%;\n",
              "      cursor: pointer;\n",
              "      display: none;\n",
              "      fill: #1967D2;\n",
              "      height: 32px;\n",
              "      padding: 0 0 0 0;\n",
              "      width: 32px;\n",
              "    }\n",
              "\n",
              "    .colab-df-convert:hover {\n",
              "      background-color: #E2EBFA;\n",
              "      box-shadow: 0px 1px 2px rgba(60, 64, 67, 0.3), 0px 1px 3px 1px rgba(60, 64, 67, 0.15);\n",
              "      fill: #174EA6;\n",
              "    }\n",
              "\n",
              "    [theme=dark] .colab-df-convert {\n",
              "      background-color: #3B4455;\n",
              "      fill: #D2E3FC;\n",
              "    }\n",
              "\n",
              "    [theme=dark] .colab-df-convert:hover {\n",
              "      background-color: #434B5C;\n",
              "      box-shadow: 0px 1px 3px 1px rgba(0, 0, 0, 0.15);\n",
              "      filter: drop-shadow(0px 1px 2px rgba(0, 0, 0, 0.3));\n",
              "      fill: #FFFFFF;\n",
              "    }\n",
              "  </style>\n",
              "\n",
              "      <script>\n",
              "        const buttonEl =\n",
              "          document.querySelector('#df-71964b0a-0ebd-4c8a-9359-5bb251282a9c button.colab-df-convert');\n",
              "        buttonEl.style.display =\n",
              "          google.colab.kernel.accessAllowed ? 'block' : 'none';\n",
              "\n",
              "        async function convertToInteractive(key) {\n",
              "          const element = document.querySelector('#df-71964b0a-0ebd-4c8a-9359-5bb251282a9c');\n",
              "          const dataTable =\n",
              "            await google.colab.kernel.invokeFunction('convertToInteractive',\n",
              "                                                     [key], {});\n",
              "          if (!dataTable) return;\n",
              "\n",
              "          const docLinkHtml = 'Like what you see? Visit the ' +\n",
              "            '<a target=\"_blank\" href=https://colab.research.google.com/notebooks/data_table.ipynb>data table notebook</a>'\n",
              "            + ' to learn more about interactive tables.';\n",
              "          element.innerHTML = '';\n",
              "          dataTable['output_type'] = 'display_data';\n",
              "          await google.colab.output.renderOutput(dataTable, element);\n",
              "          const docLink = document.createElement('div');\n",
              "          docLink.innerHTML = docLinkHtml;\n",
              "          element.appendChild(docLink);\n",
              "        }\n",
              "      </script>\n",
              "    </div>\n",
              "  </div>\n",
              "  "
            ],
            "text/plain": [
              "   instance_id           artist_name  ... valence  music_genre\n",
              "0      32894.0              Röyksopp  ...   0.759   Electronic\n",
              "1      46652.0  Thievery Corporation  ...   0.531   Electronic\n",
              "2      30097.0        Dillon Francis  ...   0.333   Electronic\n",
              "3      62177.0              Dubloadz  ...   0.270   Electronic\n",
              "4      24907.0           What So Not  ...   0.323   Electronic\n",
              "\n",
              "[5 rows x 18 columns]"
            ]
          },
          "metadata": {},
          "execution_count": 6
        }
      ],
      "source": [
        "# read data in the form of pandas DataFrame\n",
        "data = pd.read_csv(\"/content/drive/MyDrive/music/music_df_processed (2).csv\")\n",
        "\n",
        "# print the first 5 values of the DataFrame using .head() command\n",
        "data.head()"
      ]
    },
    {
      "cell_type": "code",
      "source": [
        "# What can we see here?\n",
        "data.describe()"
      ],
      "metadata": {
        "id": "1mjeVnUCPVkR",
        "colab": {
          "base_uri": "https://localhost:8080/",
          "height": 300
        },
        "outputId": "1cd54c07-0f0a-42e2-c02f-f18725ae2176"
      },
      "execution_count": 7,
      "outputs": [
        {
          "output_type": "execute_result",
          "data": {
            "text/html": [
              "\n",
              "  <div id=\"df-5378e32f-cc9c-4d75-8d29-eb6b1270e5e3\">\n",
              "    <div class=\"colab-df-container\">\n",
              "      <div>\n",
              "<style scoped>\n",
              "    .dataframe tbody tr th:only-of-type {\n",
              "        vertical-align: middle;\n",
              "    }\n",
              "\n",
              "    .dataframe tbody tr th {\n",
              "        vertical-align: top;\n",
              "    }\n",
              "\n",
              "    .dataframe thead th {\n",
              "        text-align: right;\n",
              "    }\n",
              "</style>\n",
              "<table border=\"1\" class=\"dataframe\">\n",
              "  <thead>\n",
              "    <tr style=\"text-align: right;\">\n",
              "      <th></th>\n",
              "      <th>instance_id</th>\n",
              "      <th>popularity</th>\n",
              "      <th>acousticness</th>\n",
              "      <th>danceability</th>\n",
              "      <th>duration_ms</th>\n",
              "      <th>energy</th>\n",
              "      <th>instrumentalness</th>\n",
              "      <th>liveness</th>\n",
              "      <th>loudness</th>\n",
              "      <th>speechiness</th>\n",
              "      <th>tempo</th>\n",
              "      <th>valence</th>\n",
              "    </tr>\n",
              "  </thead>\n",
              "  <tbody>\n",
              "    <tr>\n",
              "      <th>count</th>\n",
              "      <td>45020.000000</td>\n",
              "      <td>45020.000000</td>\n",
              "      <td>45020.000000</td>\n",
              "      <td>45020.000000</td>\n",
              "      <td>4.502000e+04</td>\n",
              "      <td>45020.000000</td>\n",
              "      <td>45020.000000</td>\n",
              "      <td>45020.000000</td>\n",
              "      <td>45020.000000</td>\n",
              "      <td>45020.000000</td>\n",
              "      <td>45020.000000</td>\n",
              "      <td>45020.000000</td>\n",
              "    </tr>\n",
              "    <tr>\n",
              "      <th>mean</th>\n",
              "      <td>55884.691892</td>\n",
              "      <td>44.263327</td>\n",
              "      <td>0.306596</td>\n",
              "      <td>0.558532</td>\n",
              "      <td>2.211695e+05</td>\n",
              "      <td>0.599553</td>\n",
              "      <td>0.181843</td>\n",
              "      <td>0.193951</td>\n",
              "      <td>-9.137016</td>\n",
              "      <td>0.093783</td>\n",
              "      <td>119.952961</td>\n",
              "      <td>0.456394</td>\n",
              "    </tr>\n",
              "    <tr>\n",
              "      <th>std</th>\n",
              "      <td>20728.197040</td>\n",
              "      <td>15.553972</td>\n",
              "      <td>0.341391</td>\n",
              "      <td>0.178858</td>\n",
              "      <td>1.276884e+05</td>\n",
              "      <td>0.264510</td>\n",
              "      <td>0.325847</td>\n",
              "      <td>0.161715</td>\n",
              "      <td>6.156400</td>\n",
              "      <td>0.101469</td>\n",
              "      <td>30.641701</td>\n",
              "      <td>0.247161</td>\n",
              "    </tr>\n",
              "    <tr>\n",
              "      <th>min</th>\n",
              "      <td>20002.000000</td>\n",
              "      <td>0.000000</td>\n",
              "      <td>0.000000</td>\n",
              "      <td>0.059600</td>\n",
              "      <td>-1.000000e+00</td>\n",
              "      <td>0.000792</td>\n",
              "      <td>0.000000</td>\n",
              "      <td>0.009670</td>\n",
              "      <td>-47.046000</td>\n",
              "      <td>0.022300</td>\n",
              "      <td>34.347000</td>\n",
              "      <td>0.000000</td>\n",
              "    </tr>\n",
              "    <tr>\n",
              "      <th>25%</th>\n",
              "      <td>38000.750000</td>\n",
              "      <td>34.000000</td>\n",
              "      <td>0.020100</td>\n",
              "      <td>0.442000</td>\n",
              "      <td>1.747230e+05</td>\n",
              "      <td>0.432000</td>\n",
              "      <td>0.000000</td>\n",
              "      <td>0.096900</td>\n",
              "      <td>-10.860000</td>\n",
              "      <td>0.036100</td>\n",
              "      <td>94.941500</td>\n",
              "      <td>0.257000</td>\n",
              "    </tr>\n",
              "    <tr>\n",
              "      <th>50%</th>\n",
              "      <td>55857.500000</td>\n",
              "      <td>45.000000</td>\n",
              "      <td>0.145000</td>\n",
              "      <td>0.568000</td>\n",
              "      <td>2.194385e+05</td>\n",
              "      <td>0.642000</td>\n",
              "      <td>0.000159</td>\n",
              "      <td>0.126000</td>\n",
              "      <td>-7.284000</td>\n",
              "      <td>0.048900</td>\n",
              "      <td>119.879000</td>\n",
              "      <td>0.448000</td>\n",
              "    </tr>\n",
              "    <tr>\n",
              "      <th>75%</th>\n",
              "      <td>73856.500000</td>\n",
              "      <td>56.000000</td>\n",
              "      <td>0.551000</td>\n",
              "      <td>0.687000</td>\n",
              "      <td>2.686400e+05</td>\n",
              "      <td>0.815250</td>\n",
              "      <td>0.154000</td>\n",
              "      <td>0.244000</td>\n",
              "      <td>-5.177000</td>\n",
              "      <td>0.098800</td>\n",
              "      <td>140.471250</td>\n",
              "      <td>0.648000</td>\n",
              "    </tr>\n",
              "    <tr>\n",
              "      <th>max</th>\n",
              "      <td>91759.000000</td>\n",
              "      <td>99.000000</td>\n",
              "      <td>0.996000</td>\n",
              "      <td>0.986000</td>\n",
              "      <td>4.497994e+06</td>\n",
              "      <td>0.999000</td>\n",
              "      <td>0.996000</td>\n",
              "      <td>1.000000</td>\n",
              "      <td>3.744000</td>\n",
              "      <td>0.942000</td>\n",
              "      <td>220.276000</td>\n",
              "      <td>0.992000</td>\n",
              "    </tr>\n",
              "  </tbody>\n",
              "</table>\n",
              "</div>\n",
              "      <button class=\"colab-df-convert\" onclick=\"convertToInteractive('df-5378e32f-cc9c-4d75-8d29-eb6b1270e5e3')\"\n",
              "              title=\"Convert this dataframe to an interactive table.\"\n",
              "              style=\"display:none;\">\n",
              "        \n",
              "  <svg xmlns=\"http://www.w3.org/2000/svg\" height=\"24px\"viewBox=\"0 0 24 24\"\n",
              "       width=\"24px\">\n",
              "    <path d=\"M0 0h24v24H0V0z\" fill=\"none\"/>\n",
              "    <path d=\"M18.56 5.44l.94 2.06.94-2.06 2.06-.94-2.06-.94-.94-2.06-.94 2.06-2.06.94zm-11 1L8.5 8.5l.94-2.06 2.06-.94-2.06-.94L8.5 2.5l-.94 2.06-2.06.94zm10 10l.94 2.06.94-2.06 2.06-.94-2.06-.94-.94-2.06-.94 2.06-2.06.94z\"/><path d=\"M17.41 7.96l-1.37-1.37c-.4-.4-.92-.59-1.43-.59-.52 0-1.04.2-1.43.59L10.3 9.45l-7.72 7.72c-.78.78-.78 2.05 0 2.83L4 21.41c.39.39.9.59 1.41.59.51 0 1.02-.2 1.41-.59l7.78-7.78 2.81-2.81c.8-.78.8-2.07 0-2.86zM5.41 20L4 18.59l7.72-7.72 1.47 1.35L5.41 20z\"/>\n",
              "  </svg>\n",
              "      </button>\n",
              "      \n",
              "  <style>\n",
              "    .colab-df-container {\n",
              "      display:flex;\n",
              "      flex-wrap:wrap;\n",
              "      gap: 12px;\n",
              "    }\n",
              "\n",
              "    .colab-df-convert {\n",
              "      background-color: #E8F0FE;\n",
              "      border: none;\n",
              "      border-radius: 50%;\n",
              "      cursor: pointer;\n",
              "      display: none;\n",
              "      fill: #1967D2;\n",
              "      height: 32px;\n",
              "      padding: 0 0 0 0;\n",
              "      width: 32px;\n",
              "    }\n",
              "\n",
              "    .colab-df-convert:hover {\n",
              "      background-color: #E2EBFA;\n",
              "      box-shadow: 0px 1px 2px rgba(60, 64, 67, 0.3), 0px 1px 3px 1px rgba(60, 64, 67, 0.15);\n",
              "      fill: #174EA6;\n",
              "    }\n",
              "\n",
              "    [theme=dark] .colab-df-convert {\n",
              "      background-color: #3B4455;\n",
              "      fill: #D2E3FC;\n",
              "    }\n",
              "\n",
              "    [theme=dark] .colab-df-convert:hover {\n",
              "      background-color: #434B5C;\n",
              "      box-shadow: 0px 1px 3px 1px rgba(0, 0, 0, 0.15);\n",
              "      filter: drop-shadow(0px 1px 2px rgba(0, 0, 0, 0.3));\n",
              "      fill: #FFFFFF;\n",
              "    }\n",
              "  </style>\n",
              "\n",
              "      <script>\n",
              "        const buttonEl =\n",
              "          document.querySelector('#df-5378e32f-cc9c-4d75-8d29-eb6b1270e5e3 button.colab-df-convert');\n",
              "        buttonEl.style.display =\n",
              "          google.colab.kernel.accessAllowed ? 'block' : 'none';\n",
              "\n",
              "        async function convertToInteractive(key) {\n",
              "          const element = document.querySelector('#df-5378e32f-cc9c-4d75-8d29-eb6b1270e5e3');\n",
              "          const dataTable =\n",
              "            await google.colab.kernel.invokeFunction('convertToInteractive',\n",
              "                                                     [key], {});\n",
              "          if (!dataTable) return;\n",
              "\n",
              "          const docLinkHtml = 'Like what you see? Visit the ' +\n",
              "            '<a target=\"_blank\" href=https://colab.research.google.com/notebooks/data_table.ipynb>data table notebook</a>'\n",
              "            + ' to learn more about interactive tables.';\n",
              "          element.innerHTML = '';\n",
              "          dataTable['output_type'] = 'display_data';\n",
              "          await google.colab.output.renderOutput(dataTable, element);\n",
              "          const docLink = document.createElement('div');\n",
              "          docLink.innerHTML = docLinkHtml;\n",
              "          element.appendChild(docLink);\n",
              "        }\n",
              "      </script>\n",
              "    </div>\n",
              "  </div>\n",
              "  "
            ],
            "text/plain": [
              "        instance_id    popularity  ...         tempo       valence\n",
              "count  45020.000000  45020.000000  ...  45020.000000  45020.000000\n",
              "mean   55884.691892     44.263327  ...    119.952961      0.456394\n",
              "std    20728.197040     15.553972  ...     30.641701      0.247161\n",
              "min    20002.000000      0.000000  ...     34.347000      0.000000\n",
              "25%    38000.750000     34.000000  ...     94.941500      0.257000\n",
              "50%    55857.500000     45.000000  ...    119.879000      0.448000\n",
              "75%    73856.500000     56.000000  ...    140.471250      0.648000\n",
              "max    91759.000000     99.000000  ...    220.276000      0.992000\n",
              "\n",
              "[8 rows x 12 columns]"
            ]
          },
          "metadata": {},
          "execution_count": 7
        }
      ]
    },
    {
      "cell_type": "markdown",
      "source": [
        "## Επιλογή χαρακτηριστικών x και στόχων y.  \n",
        "\n",
        "Για λόγους απλότητας επιλέγουμε τα χαρακτηριστικά (inputs) και τις κατηγορίες-στόχους (genres). Καλείστε να διαχωρίσετε τα δεδομένα σε train/test set. Ας θεωρήσουμε το διαχωρισμό 30% - test set, 70% - train set."
      ],
      "metadata": {
        "id": "0EtEH-M9Ikac"
      }
    },
    {
      "cell_type": "code",
      "execution_count": 37,
      "metadata": {
        "id": "tHa_Qq0Efqxb",
        "colab": {
          "base_uri": "https://localhost:8080/"
        },
        "outputId": "2e275dc6-93c1-4575-c258-c0dfa63ed75b"
      },
      "outputs": [
        {
          "output_type": "stream",
          "name": "stdout",
          "text": [
            "{'Electronic': 0, 'Rock': 1, 'Rap': 2}\n"
          ]
        }
      ],
      "source": [
        "new = data.copy()\n",
        "# χαρακτηριστικά\n",
        "inputs = [\"acousticness\", \"danceability\", \"energy\", \"instrumentalness\", \"liveness\", \"speechiness\"]\n",
        "delete=['instance_id','popularity','duration_ms','loudness','tempo','valence','artist_name','track_name','key','mode','obtained_date']\n",
        "for i in delete:\n",
        "  new.pop(i)\n",
        "\n",
        "# κατηγορίες-στόχοι\n",
        "output = \"music_genre\"\n",
        "genres = [\"Electronic\", \"Rock\", \"Rap\"]\n",
        "\n",
        "# φιλτράρουμε το DataFrame ώστε να διατηρήσουμε μόνο τις 3 κατηγορίες που μας ενδιαφέρουν.\n",
        "new = new[new[output].isin(genres)]\n",
        "\n",
        "# dictionary to map genre to label id \n",
        "genres_to_id = {genre: i for i, genre in enumerate(genres)}\n",
        "print(genres_to_id)\n",
        "# εδώ πρέπει να διαχωρίσετε τα δεδομένα σε train (70% των δεδομένων)/test set (30% των δεδομένων)\n",
        "# ονομάστε τις μεταβλητές ως εξής:\n",
        "# τα χαρακτηριστικά του train set: x_train\n",
        "# τις κατηγορίες-στόχους του train set: y_train\n",
        "# τα χαρακτηριστικά του test set: x_test\n",
        "# τις κατηγορίες-στόχους του test set: y_test\n",
        "x_test, y_test, x_train, y_train = [], [], [], []\n",
        "##################\n",
        "## Your code below\n",
        "convert=new\n",
        "convert=np.array(convert)\n",
        "#np.random.shuffle(convert)\n",
        "ele,rock,rap,y_ele,y_rock,y_rap=[],[],[],[],[],[]\n",
        "for i in range(0,len(convert)):\n",
        "  if convert[i][6]=='Electronic':\n",
        "    convert[i][6]=0\n",
        "    ele.append(convert[i][:6])\n",
        "    y_ele.append(convert[i][6])\n",
        "  if convert[i][6]=='Rock':\n",
        "    convert[i][6]=1\n",
        "    rock.append(convert[i][:6])\n",
        "    y_rock.append(convert[i][6])\n",
        "  if convert[i][6]=='Rap':\n",
        "    convert[i][6]=2\n",
        "    rap.append(convert[i][:6])\n",
        "    y_rap.append(convert[i][6])\n",
        "x_train=np.concatenate((ele[:3126], rock[:3193],rap[:3153]), axis=0)\n",
        "y_train=np.concatenate((y_ele[:3126],y_rock[:3193],y_rap[:3153]),axis=0)\n",
        "x_test=np.concatenate((ele[3126:], rock[3193:],rap[3153:]), axis=0)\n",
        "y_test=np.concatenate((y_ele[3126:], y_rock[3193:],y_rap[3153:]), axis=0)\n",
        "list1 = list(np.arange(len(x_test)))\n",
        "dummy = random.sample(list1,100)\n",
        "dummy_x=[x_test[i] for i in dummy]\n",
        "dummy_y=[y_test[i] for i in dummy]\n",
        "## Your code above\n",
        "##################"
      ]
    },
    {
      "cell_type": "markdown",
      "source": [
        "## Μορφή των δεδομένων  \n",
        "\n",
        "Βεβαιωθείτε ότι τα δεδομένα σας έχουν τη σωστή μορφή εκτυπώνοντας τον αριθμό γραμμών και στηλών για τα x_test, y_test, x_train, y_train."
      ],
      "metadata": {
        "id": "hhte3iixLg8C"
      }
    },
    {
      "cell_type": "code",
      "execution_count": 38,
      "metadata": {
        "id": "FhDzmllUZvyp",
        "colab": {
          "base_uri": "https://localhost:8080/"
        },
        "outputId": "d8ecca59-14db-45fe-e887-a0c9608d3046"
      },
      "outputs": [
        {
          "output_type": "stream",
          "name": "stdout",
          "text": [
            "(4059, 6)\n",
            "(4059,)\n",
            "(9472, 6)\n",
            "(9472,)\n"
          ]
        }
      ],
      "source": [
        "# Shape of x_test, y_test, x_train, y_train\n",
        "\n",
        "##################\n",
        "## Your code below\n",
        "print(x_test.shape)\n",
        "print(y_test.shape)\n",
        "print(x_train.shape)\n",
        "print(y_train.shape)\n",
        "## Your code above\n",
        "##################"
      ]
    },
    {
      "cell_type": "markdown",
      "source": [
        "Αναφορικά με τις τιμές των χαρακτηριστικών, είναι σημαντικό να γνωρίζουμε το εύρος τους, δηλαδή τη μέγιστη και την ελάχιστη τιμή που λαμβάνει το κάθε χαρακτηριστικό. Εξερευνήστε το εύρος του κάθε χαρακτηριστικού στα train και test set. "
      ],
      "metadata": {
        "id": "QAQ3qN1NMVpf"
      }
    },
    {
      "cell_type": "code",
      "source": [
        "# Range of x_train, x_test columns\n",
        "\n",
        "##################\n",
        "## Your code below\n",
        "x_train_dict_max={}\n",
        "x_train_dict_min={}\n",
        "x_test_max={}\n",
        "x_test_min={}\n",
        "a=x_train\n",
        "df1=pd.DataFrame(a)\n",
        "print('x_train')\n",
        "print('max')\n",
        "print(df1.max(),'\\n')\n",
        "print('min')\n",
        "print(df1.min(),'\\n')\n",
        "\n",
        "b=x_test\n",
        "df2=pd.DataFrame(b)\n",
        "print('x_test')\n",
        "print('max')\n",
        "print(df2.max(),'\\n')\n",
        "print('min')\n",
        "print(df2.min(),'\\n')\n",
        "## Your code above\n",
        "##################"
      ],
      "metadata": {
        "id": "twobPa_DMxI2",
        "colab": {
          "base_uri": "https://localhost:8080/"
        },
        "outputId": "614e9ac0-2b35-428c-e57b-14720390c4d8"
      },
      "execution_count": 39,
      "outputs": [
        {
          "output_type": "stream",
          "name": "stdout",
          "text": [
            "x_train\n",
            "max\n",
            "0    0.994\n",
            "1    0.977\n",
            "2    0.998\n",
            "3    0.986\n",
            "4    0.991\n",
            "5    0.883\n",
            "dtype: float64 \n",
            "\n",
            "min\n",
            "0    0.000001\n",
            "1    0.064500\n",
            "2    0.002590\n",
            "3    0.000000\n",
            "4    0.017300\n",
            "5    0.022400\n",
            "dtype: float64 \n",
            "\n",
            "x_test\n",
            "max\n",
            "0    0.987\n",
            "1    0.969\n",
            "2    0.999\n",
            "3    0.980\n",
            "4    0.984\n",
            "5    0.922\n",
            "dtype: float64 \n",
            "\n",
            "min\n",
            "0    0.000003\n",
            "1    0.105000\n",
            "2    0.045700\n",
            "3    0.000000\n",
            "4    0.020800\n",
            "5    0.023400\n",
            "dtype: float64 \n",
            "\n"
          ]
        }
      ]
    },
    {
      "cell_type": "markdown",
      "source": [
        "Από την παραπάνω ανάλυση προκύπτουν κάποια ερωτήματα σημαντικά για τα επόμενα βήματα:\n",
        "- Έχουν τα χαρακτηριστικά μας περίπου το ίδιο εύρος;\n",
        "\n",
        "  Ναι έχουν περίπου το ίδιο εύρος\n",
        "\n",
        "- Σε πολλές εφαρμογές είναι σημαντικό τα χαρακτηριστικά να βρίσκονται στο εύρος [0, 1]. Ισχύει αυτό στην περίπτωσή μας;\n",
        "\n",
        "  Ναι παρατηρούμε πως τα χαρακτηριστικά βρίσκονται σε κάθε περίπτωση εντός του\n",
        "  εύρους [0,1]."
      ],
      "metadata": {
        "id": "jZH_VbsMM_TM"
      }
    },
    {
      "cell_type": "markdown",
      "metadata": {
        "id": "bYMke4uRZ8Ae"
      },
      "source": [
        "# 2o Μέρος: Υλοποίηση KNN\n",
        "Στο δεύτερο μέρος της άσκησης θα υλοποιήσετε τον αλγόριθμο KNN για ταξινόμηση. Υπενθυμίζεται από τις διαφάνειες το πλάνο σχεδιασμού για τον ταξινομητή k κοντινότερων γειτόνων:\n",
        "- Αποθηκεύουμε όλα τα δεδομένα ($Z_{train}$) στη μνήμη\n",
        "  - Τα δεδομένα μπορούν αποθηκευτούν σε έναν πίνακα $n\\times{p}$ με χρήση του numpy\n",
        "- Συγκρίνουμε την είσοδο με τα δεδομένα και βρίσκουμε τα k κοντινότερα ($k<n$) με βάση κάποια απόσταση.\n",
        "  - Όταν μας δίνεται ένα \"φρέσκο\" δείγμα ως διάνυσμα από χαρακτηριστικά $x_i$ χρειαζόμαστε μια συνάρτηση που να υπολογίζει την απόσταση $d(x_i,x_j)$, όπου $x_j$ είναι το διάνυσμα που αντιστοιχεί στα χαρακτηριστικά ενός δείγματος από τα δεδομένα εκπαίδευσης. Θα πειραματιστείτε με την ευκλείδια απόσταση και την απόσταση συνημιτόνου. Στη συνέχεια ταξινομούνται τα δεδομένα εκπαίδευσης ως προς την απόστασή τους από το $x_i$ και επιλέγονται τα $k$ κοντινότερα\n",
        "- Δίνουμε στην έξοδο την κλάση στην οποία ανήκει η πλειοψηφία των k κοντινότερων δεδομένων.\n",
        "\n",
        "Αφού κατασκευαστεί ο ταξινομητής θα αξιολογήσετε την επίδοσή του στα 100 πρώτα δείγματα του $Z_{test}$ για κάποιες τιμές του k που θα επιλέξετε εσείς, ξεκινώντας από $k=1$.\n",
        "\n",
        "Στην πράξη πολύ σπάνια θα χρειαστεί να υλοποιήσετε έναν αλγόριθμο μηχανικής μάθησης από το μηδέν, αφού υπάρχουν έτοιμες υλοποιήσεις, π.χ. σε πακέτα της python, οι οποίες είναι βελτιστοποιημένες και εύχρηστες. Το τελευταίο ζητούμενο  στο 2ο μέρος είναι να επαναλάβετε το παραπάνω πείραμα με την έτοιμη υλοποίηση του KNN που παρέχει η βιβλιοθήκη sklearn. Καλείστε να συγκρίνετε τα αποτελέσματα και τους χρόνους εκτέλεσης.\n",
        "\n",
        " Σας δίνεται η κλάση KNN η οποία αρχικοποιείται με ένα σύνολο από δεδομένα x, ετικέτες y και το k για τον αλγόριθμο. Καλείστε να συμπληρώσετε τον κώδικα που λείπει στις μεθόδους distance, get_knn, και classify.\n",
        "\n",
        "Η απόσταση συνημιτόνου μεταξύ δύο διανυσμάτων u,v ορίζεται ως: $$d(u,v)= 1 - \\frac{u\\cdot{v}}{||u||_2||v||_2}$$"
      ]
    },
    {
      "cell_type": "code",
      "execution_count": 11,
      "metadata": {
        "id": "EMPfT1jTZ51F"
      },
      "outputs": [],
      "source": [
        "from numpy import linalg\n",
        "class KNN:\n",
        "    def __init__(self, x, y, k, distance = \"euclidian\"):\n",
        "        self.x = x\n",
        "        self.y = y\n",
        "        self.k = k\n",
        "        self.distance = distance\n",
        "        \n",
        "    ## Compute the distance between the two vectors (2 rows of the DataFrame)\n",
        "    # hint: use np.linalg.norm for eucledian\n",
        "    # hint: use equation given above for cosine\n",
        "    def get_distance(self, row1, row2):\n",
        "      if self.distance=='euclidian':\n",
        "        ##################\n",
        "        ## Your code below\n",
        "        dist = np.linalg.norm(row1-row2)\n",
        "        ## Your code above\n",
        "        ##################\n",
        "      elif self.distance=='cosine':\n",
        "        ##################\n",
        "        ## Your code below\n",
        "        dist = 1-(np.dot(row1,row2)/(np.linalg.norm(row1)*np.linalg.norm(row2)))\n",
        "        ## Your code above\n",
        "        ##################\n",
        "        pass\n",
        "\n",
        "      return dist\n",
        "\n",
        "    ## Given a DataFrame row as a vector, returns indexes of k nearest neighbors\n",
        "    def get_knn(self, row):\n",
        "      distances = list()\n",
        "      x = self.x\n",
        "      k = self.k\n",
        "      \n",
        "      ##################\n",
        "      ## Your code below - populate the distances list\n",
        "      # hint: you can use a for loop\n",
        "      for i in x:\n",
        "        distances.append(self.get_distance(row,i))\n",
        "      ## Your code above\n",
        "      ##################\n",
        "\n",
        "      # Sort distances, and return the indexes of k first elements\n",
        "      ans_indexes = np.argsort(distances)[:k]\n",
        "      return ans_indexes\n",
        "\n",
        "    ## Given a DataFrame row as a vector, classify it according to KNN\n",
        "    # hint: we have a list of k labels and want to return the most common one\n",
        "    def classify(self, row):\n",
        "      y = self.y\n",
        "      nn_labels = [y[i] for i in self.get_knn(row)]\n",
        "      \n",
        "      ##################\n",
        "      ## Your code below\n",
        "      predictions=[0,0,0]\n",
        "      for i in nn_labels:\n",
        "        if i==0:\n",
        "          predictions[0]=predictions[0]+1\n",
        "        elif i==1:\n",
        "          predictions[1]=predictions[1]+1\n",
        "        elif i==2:\n",
        "          predictions[2]=predictions[2]+1\n",
        "      prediction =predictions.index(max(predictions))\n",
        "      ## Your code above\n",
        "      ###################\n",
        "      return prediction\n",
        "\n",
        "\n",
        "knn = KNN(x_train, y_train, k=5, distance='euclidian')\n"
      ]
    },
    {
      "cell_type": "markdown",
      "metadata": {
        "id": "B8-o5tn3aH0-"
      },
      "source": [
        "Τώρα που είναι έτοιμος ο ταξινομητής ας δούμε τι προβλέπει σε μεμονωμένα δείγματα."
      ]
    },
    {
      "cell_type": "markdown",
      "metadata": {
        "id": "XCiEi1UUaLzE"
      },
      "source": [
        "## Αξιολόγηση του KNN"
      ]
    },
    {
      "cell_type": "code",
      "execution_count": 12,
      "metadata": {
        "id": "tKw0oa1jaJei"
      },
      "outputs": [],
      "source": [
        "preds = [knn.classify(x_test[i]) for i in range(100)]\n",
        "labels = [y_test[i] for i in range(100)]"
      ]
    },
    {
      "cell_type": "code",
      "execution_count": 13,
      "metadata": {
        "id": "yNVygiKCaNag",
        "colab": {
          "base_uri": "https://localhost:8080/"
        },
        "outputId": "281bc8f4-a183-4040-a633-21c6ac8f4863"
      },
      "outputs": [
        {
          "output_type": "stream",
          "name": "stdout",
          "text": [
            "precision: 0.3333333333333333\n",
            "recall: 0.9\n",
            "f1: 0.2745098039215686\n",
            "accuracy: 0.7\n",
            "Confusion matrix: \n",
            "[[70 21  9]\n",
            " [ 0  0  0]\n",
            " [ 0  0  0]]\n"
          ]
        }
      ],
      "source": [
        "eval = Evaluate(labels, preds)\n",
        "eval.get_evaluation_report()"
      ]
    },
    {
      "cell_type": "markdown",
      "metadata": {
        "id": "V7LP247HaU6m"
      },
      "source": [
        "## Έτοιμος ΚΝΝ classifier\n",
        "\n",
        "Όπως και με τους περισσότερους αλγορίθμους μηχανικής μάθησης, υπάρχουν έτοιμες βελτιστοποιημένες υλοποιήσεις. Παρακάτω δείχνουμε ένα παράδειγμα χρήσης του ταξινομητή ΚΝΝ που παρέχει η βιβλιοθήκη sklearn ([documentation](https://scikit-learn.org/stable/modules/generated/sklearn.neighbors.KNeighborsClassifier.html))."
      ]
    },
    {
      "cell_type": "code",
      "execution_count": 14,
      "metadata": {
        "id": "Os0WCL-QaOnr",
        "colab": {
          "base_uri": "https://localhost:8080/"
        },
        "outputId": "c6571248-77e2-4485-a9b9-ff6bdb242407"
      },
      "outputs": [
        {
          "output_type": "stream",
          "name": "stdout",
          "text": [
            "precision: 0.3333333333333333\n",
            "recall: 0.9\n",
            "f1: 0.2745098039215686\n",
            "accuracy: 0.7\n",
            "Confusion matrix: \n",
            "[[70 21  9]\n",
            " [ 0  0  0]\n",
            " [ 0  0  0]]\n"
          ]
        }
      ],
      "source": [
        "from sklearn.neighbors import KNeighborsClassifier\n",
        "k = 5\n",
        "knc = KNeighborsClassifier(n_neighbors = k)\n",
        "knc.fit(x_train, y_train)\n",
        "y_pred = knc.predict(x_test[:100])\n",
        "\n",
        "eval = Evaluate(y_test[:100], y_pred)\n",
        "eval.get_evaluation_report()"
      ]
    },
    {
      "cell_type": "markdown",
      "metadata": {
        "id": "RcUBX2XMaZUd"
      },
      "source": [
        "## Σύγκριση υλοποιήσεων\n",
        "\n",
        "Στα παρακάτω κελιά πειραματιστείτε με τις δύο υλοποιήσεις (τη δική σας και την έτοιμη). Βεβαιωθείτε πως προκύπτουν τα ίδια αποτελέσματα για διάφορες τιμές του k (για ευκλείδια απόσταση) και μετρήστε τους χρόνους εκτέλεσης."
      ]
    },
    {
      "cell_type": "markdown",
      "metadata": {
        "id": "IOmj0ryqW9nY"
      },
      "source": [
        "Για τους χρόνους εκτέλεσης για k = 5 τρέχουμε τα 3 παρακάτω κελιά:"
      ]
    },
    {
      "cell_type": "code",
      "execution_count": 15,
      "metadata": {
        "id": "8Yz_Y_cpaWor",
        "colab": {
          "base_uri": "https://localhost:8080/"
        },
        "outputId": "441e5fd6-1d2a-49a7-c364-962032308800"
      },
      "outputs": [
        {
          "output_type": "stream",
          "name": "stdout",
          "text": [
            "CPU times: user 6.89 s, sys: 27.4 ms, total: 6.92 s\n",
            "Wall time: 6.94 s\n"
          ]
        }
      ],
      "source": [
        "%%time\n",
        "knn = KNN(x_train, y_train, k = 5, distance = 'euclidian')\n",
        "preds = [knn.classify(x_test[i]) for i in range(0,100)]"
      ]
    },
    {
      "cell_type": "code",
      "execution_count": 16,
      "metadata": {
        "id": "683epgE6W9nY",
        "colab": {
          "base_uri": "https://localhost:8080/"
        },
        "outputId": "1204e798-361c-41e0-a3a6-78948be98706"
      },
      "outputs": [
        {
          "output_type": "stream",
          "name": "stdout",
          "text": [
            "CPU times: user 626 ms, sys: 0 ns, total: 626 ms\n",
            "Wall time: 624 ms\n"
          ]
        }
      ],
      "source": [
        "%%time\n",
        "knn = KNN(x_train, y_train, k = 5, distance = 'cosine')\n",
        "preds = [knn.classify(x_test[i]) for i in range(5)]"
      ]
    },
    {
      "cell_type": "code",
      "execution_count": 17,
      "metadata": {
        "id": "77s6o3ZkabCY",
        "colab": {
          "base_uri": "https://localhost:8080/"
        },
        "outputId": "83f568b0-5dc7-4ca4-aa99-b50677e645e0"
      },
      "outputs": [
        {
          "output_type": "stream",
          "name": "stdout",
          "text": [
            "CPU times: user 20.6 ms, sys: 0 ns, total: 20.6 ms\n",
            "Wall time: 26.6 ms\n"
          ]
        }
      ],
      "source": [
        "%%time\n",
        "knc = KNeighborsClassifier(n_neighbors = 5)\n",
        "knc.fit(x_train, y_train)\n",
        "y_pred = knc.predict(x_test[:100])"
      ]
    },
    {
      "cell_type": "markdown",
      "metadata": {
        "id": "A6rb5SKKW9nY"
      },
      "source": [
        "Για τους χρόνους εκτέλεσης για k = 50 τρέχουμε τα 3 παρακάτω κελιά:"
      ]
    },
    {
      "cell_type": "code",
      "execution_count": 18,
      "metadata": {
        "id": "YvDbD3u7W9nZ",
        "colab": {
          "base_uri": "https://localhost:8080/"
        },
        "outputId": "1efd821b-73be-4531-9ec4-65083a281945"
      },
      "outputs": [
        {
          "output_type": "stream",
          "name": "stdout",
          "text": [
            "CPU times: user 6.79 s, sys: 15.2 ms, total: 6.81 s\n",
            "Wall time: 6.82 s\n"
          ]
        }
      ],
      "source": [
        "%%time\n",
        "knn = KNN(x_train, y_train, k = 50, distance = 'euclidian')\n",
        "preds = [knn.classify(x_test[i]) for i in range(100)]"
      ]
    },
    {
      "cell_type": "code",
      "execution_count": 19,
      "metadata": {
        "id": "4YpuwMD0W9nZ",
        "colab": {
          "base_uri": "https://localhost:8080/"
        },
        "outputId": "c95536e6-5db0-4dc9-8535-c62bdfe1ba66"
      },
      "outputs": [
        {
          "output_type": "stream",
          "name": "stdout",
          "text": [
            "CPU times: user 615 ms, sys: 3.95 ms, total: 619 ms\n",
            "Wall time: 623 ms\n"
          ]
        }
      ],
      "source": [
        "%%time\n",
        "knn = KNN(x_train, y_train, k = 50, distance = 'cosine')\n",
        "preds = [knn.classify(x_test[i]) for i in range(5)]"
      ]
    },
    {
      "cell_type": "code",
      "execution_count": 20,
      "metadata": {
        "id": "3h4GOLcNW9nZ",
        "colab": {
          "base_uri": "https://localhost:8080/"
        },
        "outputId": "5a2e2bf0-abfa-4683-9f07-46f8f74b1c2f"
      },
      "outputs": [
        {
          "output_type": "stream",
          "name": "stdout",
          "text": [
            "CPU times: user 19.2 ms, sys: 1.99 ms, total: 21.2 ms\n",
            "Wall time: 26.6 ms\n"
          ]
        }
      ],
      "source": [
        "%%time\n",
        "knc = KNeighborsClassifier(n_neighbors = 50)\n",
        "knc.fit(x_train, y_train)\n",
        "y_pred = knc.predict(x_test[:100])"
      ]
    },
    {
      "cell_type": "markdown",
      "source": [
        "Επιπλέον, σύγκριση αποτελεσμάτων ακρίβειας και χρόνου εκτέλεσης, για διαφορετικές τιμές του k, μεταξύ της δικής μας και της έτοιμης υλοποιήσης."
      ],
      "metadata": {
        "id": "xarNshgfzAPG"
      }
    },
    {
      "cell_type": "code",
      "source": [
        "k_values=[2,10,50,80,100,150,200,1000,1800,3000]\n",
        "for j in k_values:\n",
        "  print(\"\\n***********************************************************\")\n",
        "  print('k=',j)\n",
        "  print('our knn version \"euclidian\"\\n')\n",
        "  knn = KNN(x_train, y_train, k = j, distance = 'euclidian')\n",
        "  %time preds = [knn.classify(dummy_x[i]) for i in range(100)]\n",
        "  labels = [dummy_y[i] for i in range(100)]\n",
        "  eval = Evaluate(labels, preds)\n",
        "  eval.get_evaluation_report()\n",
        "  print('\\nsklearn knn version\\n')\n",
        "  knc = KNeighborsClassifier(n_neighbors = j)\n",
        "  %time knc.fit(x_train, y_train)\n",
        "  y_pred = knc.predict(dummy_x)\n",
        "  eval = Evaluate(dummy_y, y_pred)\n",
        "  eval.get_evaluation_report()"
      ],
      "metadata": {
        "colab": {
          "base_uri": "https://localhost:8080/"
        },
        "id": "ZkVLOvO2z0Q7",
        "outputId": "c8529db2-cd97-44cf-d9c5-c5f559f70efa"
      },
      "execution_count": 23,
      "outputs": [
        {
          "output_type": "stream",
          "name": "stdout",
          "text": [
            "\n",
            "***********************************************************\n",
            "k= 2\n",
            "our knn version \"euclidian\"\n",
            "\n",
            "CPU times: user 6.9 s, sys: 19.7 ms, total: 6.92 s\n",
            "Wall time: 6.94 s\n",
            "precision: 0.6893939393939394\n",
            "recall: 0.6690631808278867\n",
            "f1: 0.6657231657231657\n",
            "accuracy: 0.67\n",
            "Confusion matrix: \n",
            "[[28  6  2]\n",
            " [ 7 21  2]\n",
            " [ 7  9 18]]\n",
            "\n",
            "sklearn knn version\n",
            "\n",
            "CPU times: user 9.04 ms, sys: 0 ns, total: 9.04 ms\n",
            "Wall time: 9.06 ms\n",
            "precision: 0.6893939393939394\n",
            "recall: 0.6690631808278867\n",
            "f1: 0.6657231657231657\n",
            "accuracy: 0.67\n",
            "Confusion matrix: \n",
            "[[28  6  2]\n",
            " [ 7 21  2]\n",
            " [ 7  9 18]]\n",
            "\n",
            "***********************************************************\n",
            "k= 10\n",
            "our knn version \"euclidian\"\n",
            "\n"
          ]
        },
        {
          "output_type": "stream",
          "name": "stderr",
          "text": [
            "/usr/local/lib/python3.7/dist-packages/sklearn/base.py:566: FutureWarning: Arrays of bytes/strings is being converted to decimal numbers if dtype='numeric'. This behavior is deprecated in 0.24 and will be removed in 1.1 (renaming of 0.26). Please convert your data to numeric values explicitly instead.\n",
            "  X = check_array(X, **check_params)\n"
          ]
        },
        {
          "output_type": "stream",
          "name": "stdout",
          "text": [
            "CPU times: user 6.71 s, sys: 14.6 ms, total: 6.72 s\n",
            "Wall time: 6.72 s\n",
            "precision: 0.7060283889552182\n",
            "recall: 0.6923747276688453\n",
            "f1: 0.6893923930053752\n",
            "accuracy: 0.69\n",
            "Confusion matrix: \n",
            "[[26  7  3]\n",
            " [ 4 23  3]\n",
            " [ 3 11 20]]\n",
            "\n",
            "sklearn knn version\n",
            "\n",
            "CPU times: user 12.9 ms, sys: 0 ns, total: 12.9 ms\n",
            "Wall time: 12.9 ms\n",
            "precision: 0.7060283889552182\n",
            "recall: 0.6923747276688453\n",
            "f1: 0.6893923930053752\n",
            "accuracy: 0.69\n",
            "Confusion matrix: \n",
            "[[26  7  3]\n",
            " [ 4 23  3]\n",
            " [ 3 11 20]]\n",
            "\n",
            "***********************************************************\n",
            "k= 50\n",
            "our knn version \"euclidian\"\n",
            "\n"
          ]
        },
        {
          "output_type": "stream",
          "name": "stderr",
          "text": [
            "/usr/local/lib/python3.7/dist-packages/sklearn/base.py:566: FutureWarning: Arrays of bytes/strings is being converted to decimal numbers if dtype='numeric'. This behavior is deprecated in 0.24 and will be removed in 1.1 (renaming of 0.26). Please convert your data to numeric values explicitly instead.\n",
            "  X = check_array(X, **check_params)\n"
          ]
        },
        {
          "output_type": "stream",
          "name": "stdout",
          "text": [
            "CPU times: user 6.78 s, sys: 13.6 ms, total: 6.8 s\n",
            "Wall time: 6.8 s\n",
            "precision: 0.7227625503487572\n",
            "recall: 0.6960784313725491\n",
            "f1: 0.6919269499914661\n",
            "accuracy: 0.69\n",
            "Confusion matrix: \n",
            "[[24  7  5]\n",
            " [ 1 25  4]\n",
            " [ 1 13 20]]\n",
            "\n",
            "sklearn knn version\n",
            "\n",
            "CPU times: user 10.4 ms, sys: 4 µs, total: 10.4 ms\n",
            "Wall time: 10.1 ms\n",
            "precision: 0.7227625503487572\n",
            "recall: 0.6960784313725491\n",
            "f1: 0.6919269499914661\n",
            "accuracy: 0.69\n",
            "Confusion matrix: \n",
            "[[24  7  5]\n",
            " [ 1 25  4]\n",
            " [ 1 13 20]]\n",
            "\n",
            "***********************************************************\n",
            "k= 80\n",
            "our knn version \"euclidian\"\n",
            "\n"
          ]
        },
        {
          "output_type": "stream",
          "name": "stderr",
          "text": [
            "/usr/local/lib/python3.7/dist-packages/sklearn/base.py:566: FutureWarning: Arrays of bytes/strings is being converted to decimal numbers if dtype='numeric'. This behavior is deprecated in 0.24 and will be removed in 1.1 (renaming of 0.26). Please convert your data to numeric values explicitly instead.\n",
            "  X = check_array(X, **check_params)\n"
          ]
        },
        {
          "output_type": "stream",
          "name": "stdout",
          "text": [
            "CPU times: user 6.82 s, sys: 14.7 ms, total: 6.84 s\n",
            "Wall time: 6.84 s\n",
            "precision: 0.6846590909090908\n",
            "recall: 0.6558823529411765\n",
            "f1: 0.6526617526617526\n",
            "accuracy: 0.65\n",
            "Confusion matrix: \n",
            "[[21  9  6]\n",
            " [ 2 23  5]\n",
            " [ 1 12 21]]\n",
            "\n",
            "sklearn knn version\n",
            "\n",
            "CPU times: user 10.6 ms, sys: 2 ms, total: 12.6 ms\n",
            "Wall time: 11.9 ms\n",
            "precision: 0.6846590909090908\n",
            "recall: 0.6558823529411765\n",
            "f1: 0.6526617526617526\n",
            "accuracy: 0.65\n",
            "Confusion matrix: \n",
            "[[21  9  6]\n",
            " [ 2 23  5]\n",
            " [ 1 12 21]]\n",
            "\n",
            "***********************************************************\n",
            "k= 100\n",
            "our knn version \"euclidian\"\n",
            "\n"
          ]
        },
        {
          "output_type": "stream",
          "name": "stderr",
          "text": [
            "/usr/local/lib/python3.7/dist-packages/sklearn/base.py:566: FutureWarning: Arrays of bytes/strings is being converted to decimal numbers if dtype='numeric'. This behavior is deprecated in 0.24 and will be removed in 1.1 (renaming of 0.26). Please convert your data to numeric values explicitly instead.\n",
            "  X = check_array(X, **check_params)\n"
          ]
        },
        {
          "output_type": "stream",
          "name": "stdout",
          "text": [
            "CPU times: user 6.74 s, sys: 17.8 ms, total: 6.76 s\n",
            "Wall time: 6.76 s\n",
            "precision: 0.6967995169082126\n",
            "recall: 0.6675381263616558\n",
            "f1: 0.6615442561205274\n",
            "accuracy: 0.66\n",
            "Confusion matrix: \n",
            "[[20 10  6]\n",
            " [ 2 24  4]\n",
            " [ 1 11 22]]\n",
            "\n",
            "sklearn knn version\n",
            "\n",
            "CPU times: user 11.4 ms, sys: 4 µs, total: 11.4 ms\n",
            "Wall time: 10.9 ms\n",
            "precision: 0.6967995169082126\n",
            "recall: 0.6675381263616558\n",
            "f1: 0.6615442561205274\n",
            "accuracy: 0.66\n",
            "Confusion matrix: \n",
            "[[20 10  6]\n",
            " [ 2 24  4]\n",
            " [ 1 11 22]]\n",
            "\n",
            "***********************************************************\n",
            "k= 150\n",
            "our knn version \"euclidian\"\n",
            "\n"
          ]
        },
        {
          "output_type": "stream",
          "name": "stderr",
          "text": [
            "/usr/local/lib/python3.7/dist-packages/sklearn/base.py:566: FutureWarning: Arrays of bytes/strings is being converted to decimal numbers if dtype='numeric'. This behavior is deprecated in 0.24 and will be removed in 1.1 (renaming of 0.26). Please convert your data to numeric values explicitly instead.\n",
            "  X = check_array(X, **check_params)\n"
          ]
        },
        {
          "output_type": "stream",
          "name": "stdout",
          "text": [
            "CPU times: user 6.8 s, sys: 20.8 ms, total: 6.82 s\n",
            "Wall time: 6.82 s\n",
            "precision: 0.7131313131313132\n",
            "recall: 0.6773420479302832\n",
            "f1: 0.6720741121976327\n",
            "accuracy: 0.67\n",
            "Confusion matrix: \n",
            "[[20 10  6]\n",
            " [ 2 24  4]\n",
            " [ 0 11 23]]\n",
            "\n",
            "sklearn knn version\n",
            "\n",
            "CPU times: user 10.6 ms, sys: 1.01 ms, total: 11.6 ms\n",
            "Wall time: 11.2 ms\n",
            "precision: 0.7131313131313132\n",
            "recall: 0.6773420479302832\n",
            "f1: 0.6720741121976327\n",
            "accuracy: 0.67\n",
            "Confusion matrix: \n",
            "[[20 10  6]\n",
            " [ 2 24  4]\n",
            " [ 0 11 23]]\n",
            "\n",
            "***********************************************************\n",
            "k= 200\n",
            "our knn version \"euclidian\"\n",
            "\n"
          ]
        },
        {
          "output_type": "stream",
          "name": "stderr",
          "text": [
            "/usr/local/lib/python3.7/dist-packages/sklearn/base.py:566: FutureWarning: Arrays of bytes/strings is being converted to decimal numbers if dtype='numeric'. This behavior is deprecated in 0.24 and will be removed in 1.1 (renaming of 0.26). Please convert your data to numeric values explicitly instead.\n",
            "  X = check_array(X, **check_params)\n"
          ]
        },
        {
          "output_type": "stream",
          "name": "stdout",
          "text": [
            "CPU times: user 6.81 s, sys: 16.8 ms, total: 6.83 s\n",
            "Wall time: 6.84 s\n",
            "precision: 0.7027629233511586\n",
            "recall: 0.6662309368191722\n",
            "f1: 0.662582460756903\n",
            "accuracy: 0.66\n",
            "Confusion matrix: \n",
            "[[20 10  6]\n",
            " [ 2 23  5]\n",
            " [ 0 11 23]]\n",
            "\n",
            "sklearn knn version\n",
            "\n",
            "CPU times: user 13.7 ms, sys: 8 µs, total: 13.7 ms\n",
            "Wall time: 12.7 ms\n",
            "precision: 0.7027629233511586\n",
            "recall: 0.6662309368191722\n",
            "f1: 0.662582460756903\n",
            "accuracy: 0.66\n",
            "Confusion matrix: \n",
            "[[20 10  6]\n",
            " [ 2 23  5]\n",
            " [ 0 11 23]]\n",
            "\n",
            "***********************************************************\n",
            "k= 1000\n",
            "our knn version \"euclidian\"\n",
            "\n"
          ]
        },
        {
          "output_type": "stream",
          "name": "stderr",
          "text": [
            "/usr/local/lib/python3.7/dist-packages/sklearn/base.py:566: FutureWarning: Arrays of bytes/strings is being converted to decimal numbers if dtype='numeric'. This behavior is deprecated in 0.24 and will be removed in 1.1 (renaming of 0.26). Please convert your data to numeric values explicitly instead.\n",
            "  X = check_array(X, **check_params)\n"
          ]
        },
        {
          "output_type": "stream",
          "name": "stdout",
          "text": [
            "CPU times: user 6.85 s, sys: 15.8 ms, total: 6.86 s\n",
            "Wall time: 6.87 s\n",
            "precision: 0.6828731492597039\n",
            "recall: 0.6206971677559913\n",
            "f1: 0.6096718601460168\n",
            "accuracy: 0.61\n",
            "Confusion matrix: \n",
            "[[16 12  8]\n",
            " [ 1 24  5]\n",
            " [ 0 13 21]]\n",
            "\n",
            "sklearn knn version\n",
            "\n",
            "CPU times: user 11.7 ms, sys: 6 µs, total: 11.7 ms\n",
            "Wall time: 11 ms\n",
            "precision: 0.6828731492597039\n",
            "recall: 0.6206971677559913\n",
            "f1: 0.6096718601460168\n",
            "accuracy: 0.61\n",
            "Confusion matrix: \n",
            "[[16 12  8]\n",
            " [ 1 24  5]\n",
            " [ 0 13 21]]\n",
            "\n",
            "***********************************************************\n",
            "k= 1800\n",
            "our knn version \"euclidian\"\n",
            "\n"
          ]
        },
        {
          "output_type": "stream",
          "name": "stderr",
          "text": [
            "/usr/local/lib/python3.7/dist-packages/sklearn/base.py:566: FutureWarning: Arrays of bytes/strings is being converted to decimal numbers if dtype='numeric'. This behavior is deprecated in 0.24 and will be removed in 1.1 (renaming of 0.26). Please convert your data to numeric values explicitly instead.\n",
            "  X = check_array(X, **check_params)\n"
          ]
        },
        {
          "output_type": "stream",
          "name": "stdout",
          "text": [
            "CPU times: user 6.96 s, sys: 17.8 ms, total: 6.98 s\n",
            "Wall time: 6.99 s\n",
            "precision: 0.6806349206349207\n",
            "recall: 0.6119825708061003\n",
            "f1: 0.5955669224211424\n",
            "accuracy: 0.6\n",
            "Confusion matrix: \n",
            "[[14 14  8]\n",
            " [ 1 24  5]\n",
            " [ 0 12 22]]\n",
            "\n",
            "sklearn knn version\n",
            "\n",
            "CPU times: user 11.4 ms, sys: 2.9 ms, total: 14.3 ms\n",
            "Wall time: 13.2 ms\n",
            "precision: 0.6806349206349207\n",
            "recall: 0.6119825708061003\n",
            "f1: 0.5955669224211424\n",
            "accuracy: 0.6\n",
            "Confusion matrix: \n",
            "[[14 14  8]\n",
            " [ 1 24  5]\n",
            " [ 0 12 22]]\n",
            "\n",
            "***********************************************************\n",
            "k= 3000\n",
            "our knn version \"euclidian\"\n",
            "\n"
          ]
        },
        {
          "output_type": "stream",
          "name": "stderr",
          "text": [
            "/usr/local/lib/python3.7/dist-packages/sklearn/base.py:566: FutureWarning: Arrays of bytes/strings is being converted to decimal numbers if dtype='numeric'. This behavior is deprecated in 0.24 and will be removed in 1.1 (renaming of 0.26). Please convert your data to numeric values explicitly instead.\n",
            "  X = check_array(X, **check_params)\n"
          ]
        },
        {
          "output_type": "stream",
          "name": "stdout",
          "text": [
            "CPU times: user 7.1 s, sys: 21.9 ms, total: 7.12 s\n",
            "Wall time: 7.12 s\n",
            "precision: 0.6482951445717403\n",
            "recall: 0.5699346405228758\n",
            "f1: 0.552290695147838\n",
            "accuracy: 0.56\n",
            "Confusion matrix: \n",
            "[[12 15  9]\n",
            " [ 1 21  8]\n",
            " [ 0 11 23]]\n",
            "\n",
            "sklearn knn version\n",
            "\n",
            "CPU times: user 9.74 ms, sys: 0 ns, total: 9.74 ms\n",
            "Wall time: 9.77 ms\n",
            "precision: 0.6482951445717403\n",
            "recall: 0.5699346405228758\n",
            "f1: 0.552290695147838\n",
            "accuracy: 0.56\n",
            "Confusion matrix: \n",
            "[[12 15  9]\n",
            " [ 1 21  8]\n",
            " [ 0 11 23]]\n"
          ]
        },
        {
          "output_type": "stream",
          "name": "stderr",
          "text": [
            "/usr/local/lib/python3.7/dist-packages/sklearn/base.py:566: FutureWarning: Arrays of bytes/strings is being converted to decimal numbers if dtype='numeric'. This behavior is deprecated in 0.24 and will be removed in 1.1 (renaming of 0.26). Please convert your data to numeric values explicitly instead.\n",
            "  X = check_array(X, **check_params)\n"
          ]
        }
      ]
    },
    {
      "cell_type": "markdown",
      "metadata": {
        "id": "bc9ySKoRaek-"
      },
      "source": [
        "Παρατηρούμε πως αυξάνοντας την τιμή της μεταβλητής k η δική μας υλοποιήση εκτελείται κάθε φορά σε χρόνο κοντά στα 7 sec, ωστόσο η έτοιμη υλοποιήση εκτελείται σε χρόνο που κυμαίνεται από 9 ms έως 12 ms. Επίσης, κάθε φορά που αυξάνεται η μεταβλητή k παρατηρούμε πως αν και η έτοιμη υλοποιήση δίνει ακριβώς τα ίδια αποτελέσματα με την δική μας, η ακρίβεια μειώνεται για πολύ μεγάλες τιμές του k. "
      ]
    },
    {
      "cell_type": "markdown",
      "metadata": {
        "id": "Xe17UwwLag5Y"
      },
      "source": [
        "# 3ο Μέρος: Naive Bayes\n",
        "Στο τρίτο μέρος της άσκησης θα υλοποιήσετε τον αλγόριθμο Naive Bayes. Ας θυμηθούμε από τις διαφάνειες:\n",
        "\n",
        "**Υποθέσεις:**\n",
        "- Τα χαρακτηριστικά είναι boolean αντί για συνεχή, δηλαδή παίρνουν δύο τιμές 0 ή 1. Συνεπώς, χρειάζεται να τροποποιήσουμε τα χαρακτηριστικά του dataset μας.\n",
        "  - Για το συγκεκριμένο πρόβλημα μπορούμε να 'σπάσουμε' τις τιμές κάθε χαρακτηριστικού σε N διαφορετικά bins. Για παράδειγμα, για ένα χαρακτηριστικό που οι τιμές του κυμαίνονται στο [0, 1], για Ν=5, θα έχουμε τα ακόλουθα bins: [0, 0.2), [0.2, 0.4), [0.4, 0.6), [0.6, 0.8), [0.8, 1]. (Γι αυτό το λόγο στα προηγούμενα βήματα αναφέραμε ότι είναι σημαντικό να έχουμε τα χαρακτηριστικά μας στο [0, 1]!)\n",
        "  \n",
        "- Η πιθανότητα ένα στοιχείο με χαρακτηριστικά x να ανήκει στην κλάση i δίνεται από τον τύπο:\n",
        "$$p(i|x)=\\frac{p(i)\\cdot{\\prod_{k=1}^p}p(x^{(k)}|i)}{\\sum_{j=1}^pp(x^{(k)}|j)}$$\n",
        "- Για να ταξινομήσουμε ένα διάνυσμα χαρακτηριστικών x σε μια κλάση i επιλέγουμε την κλάση που μεγιστοποιεί την παραπάνω πιθανότητα\n",
        "  - Μπορούμε για τη σύγκριση να αγνοήσουμε τον παρονομαστή, αφού για όλες τις κλάσεις θα είναι ίδιος"
      ]
    },
    {
      "cell_type": "code",
      "execution_count": 24,
      "metadata": {
        "id": "GNbBhsg2ach8"
      },
      "outputs": [],
      "source": [
        "# κάνουμε κάθε μεταβλήτη του συνόλου εκπαίδευσης διακρίτη σε σε διαστήματα \n",
        "\n",
        "def discretize(x, num_of_classes = 5):  \n",
        "    x_r = []\n",
        "    for row in x:\n",
        "        discrete = []\n",
        "        for i, feature in enumerate(row):\n",
        "            discrete_feature = [0] * num_of_classes\n",
        "            for j, v in enumerate(np.linspace(0, 1, num_of_classes + 1)):\n",
        "                if float(feature) < v:\n",
        "                    break\n",
        "            discrete_feature[j-1] = 1\n",
        "            discrete += discrete_feature\n",
        "        x_r.append(discrete)\n",
        "    return np.array(x_r)\n",
        "\n",
        "x_train_r = discretize(x_train)\n",
        "x_test_r = discretize(x_test)"
      ]
    },
    {
      "cell_type": "markdown",
      "metadata": {
        "id": "lFORd6XJakZl"
      },
      "source": [
        "Παρακάτω σας δίνεται η κλάση NaiveBayes που υλοποιεί τον αλγόριθμο. Καλείστε αρχικά να υπολογίσετε την πιθανότητα $p(x^{(k)}|i)$ για διάνυσμα χαρακτηριστκών $x$ και κατηγορία $i$ στη μέθοδο compute_probabilities. Στη συνέχεια θα υπολογίσετε την πιθανότητα $p(i|x)$ στη μέθοδο predict."
      ]
    },
    {
      "cell_type": "code",
      "execution_count": 25,
      "metadata": {
        "id": "ufKo5f5yaiqH"
      },
      "outputs": [],
      "source": [
        "class NaiveBayes:\n",
        "    def __init__(self, x, y):\n",
        "        self.x = x\n",
        "        self.y = y\n",
        "        ## pC is a vector with the probability of each class\n",
        "        self.pC = np.zeros((len(genres),))\n",
        "        ## pxC is an array with all probabilities p(xi|C)\n",
        "        self.pxC = np.zeros((x.shape[-1], len(genres)))\n",
        "        ## Compute the probabilities\n",
        "        self.compute_probabilities()\n",
        "\n",
        "    def compute_probabilities(self):\n",
        "        ## Compute p(C) for each class\n",
        "        for i in self.y: \n",
        "          self.pC[i] += 1\n",
        "        self.pC = self.pC / self.y.shape[0]\n",
        "\n",
        "        ## Compute p(xi|C) for each feature xi and class C\n",
        "        # hint: you can use one or more for loops\n",
        "        ###################\n",
        "        ## Your code below\n",
        "        for i in range(self.x.shape[0]):\n",
        "          index = self.y[i]\n",
        "          for j in range(self.x.shape[1]):\n",
        "            self.pxC[j][index] += self.x[i][j]\n",
        "    \n",
        "        for i in range(self.pxC.shape[0]):\n",
        "          for j in range(self.pxC.shape[1]):\n",
        "            self.pxC[i][j] = self.pxC[i][j] / (self.pC[j]*self.y.shape[0])    \n",
        "        \n",
        "        ## Your code above\n",
        "        ##################\n",
        "\n",
        "    def predict(self, x):\n",
        "        ## ~Probability of x belonging to each class\n",
        "        ## (not actucal probability since we ignore denominator)\n",
        "        pcX = np.ones((len(genres),))\n",
        "        xsize = self.x.shape[-1]\n",
        "        for i in range(len(genres)):\n",
        "          # hint: We have probabilities p({x_j=1}|i) in self.pxC\n",
        "          # We also need p({x_j=0}|i) for computing p(x|i)\n",
        "          #################\n",
        "          ## Your code below\n",
        "            dummy =self.pC[i]\n",
        "            for j in range(xsize):\n",
        "              if x[j]==1:\n",
        "                dummy *= self.pxC[j][i] \n",
        "              else:\n",
        "                dummy *= (1 - self.pxC[j][i])\n",
        "            pcX[i]=dummy\n",
        "          ## Your code above\n",
        "          ##################\n",
        "        return np.argmax(pcX)"
      ]
    },
    {
      "cell_type": "markdown",
      "metadata": {
        "id": "cO9h_Q8bbAgF"
      },
      "source": [
        "## Αξιολόγηση του Naive Bayes"
      ]
    },
    {
      "cell_type": "code",
      "execution_count": 26,
      "metadata": {
        "id": "2PzuaP48amDv",
        "colab": {
          "base_uri": "https://localhost:8080/"
        },
        "outputId": "cdb0bd28-9e29-459a-99d2-1c369b7ec699"
      },
      "outputs": [
        {
          "output_type": "stream",
          "name": "stdout",
          "text": [
            "precision: 0.3333333333333333\n",
            "recall: 0.86\n",
            "f1: 0.24472573839662445\n",
            "accuracy: 0.58\n",
            "Confusion matrix: \n",
            "[[58 17 25]\n",
            " [ 0  0  0]\n",
            " [ 0  0  0]]\n"
          ]
        }
      ],
      "source": [
        "nb = NaiveBayes(x_train_r, y_train)\n",
        "preds = [nb.predict(i) for i in x_test_r[:100]]\n",
        "eval = Evaluate(y_test[:100], preds)\n",
        "eval.get_evaluation_report()"
      ]
    },
    {
      "cell_type": "markdown",
      "metadata": {
        "id": "xMUHg-dubFa2"
      },
      "source": [
        "## Έτοιμος Naive Bayes\n",
        "\n",
        "Όπως με τους περισσότερους αλγορίθμους μηχανικής μάθησης, υπάρχουν έτοιμες βελτιστοποιημένες υλοποιήσεις για τον Naive Bayes. Παρακάτω ο Gaussian Naive Bayes από το Sklearn. Σε αντίθεση με τη δική μας υλοποίηση, ο συγκεκριμένος δουλεύει και με συνεχή δεδομένα, αφού πρώτα κάνει την υπόθεση πως κάθε χαρακτηριστικό ακολουθεί κανονική κατανομή ([documentation](https://scikit-learn.org/stable/modules/generated/sklearn.naive_bayes.GaussianNB.html))."
      ]
    },
    {
      "cell_type": "code",
      "execution_count": 27,
      "metadata": {
        "id": "qNir3SOIW9nb",
        "colab": {
          "base_uri": "https://localhost:8080/"
        },
        "outputId": "11af595a-bb92-4e7f-b95f-438dcb105279"
      },
      "outputs": [
        {
          "output_type": "stream",
          "name": "stdout",
          "text": [
            "precision: 0.3333333333333333\n",
            "recall: 0.8266666666666667\n",
            "f1: 0.21621621621621623\n",
            "accuracy: 0.48\n",
            "Confusion matrix: \n",
            "[[48 23 29]\n",
            " [ 0  0  0]\n",
            " [ 0  0  0]]\n"
          ]
        }
      ],
      "source": [
        "from sklearn.naive_bayes import GaussianNB\n",
        "\n",
        "gnb = GaussianNB()\n",
        "y_pred = gnb.fit(x_train, y_train).predict(x_test[:100])\n",
        "\n",
        "eval = Evaluate(y_test[:100], y_pred)\n",
        "eval.get_evaluation_report()"
      ]
    },
    {
      "cell_type": "markdown",
      "metadata": {
        "id": "KaecLreybI-3"
      },
      "source": [
        "## Σύγκριση υλοποιήσεων\n",
        "\n",
        "Όμοια με πριν θα συγκρίνετε τα αποτελέσματα και τους χρόνους εκτέλεσης για τις δύο υλοποιήσεις. Σχολιάστε την επίδοση σε κάθε περίπτωση. Ποιες από τις παραδοχές που κάναμε δεν ισχύουν;"
      ]
    },
    {
      "cell_type": "code",
      "execution_count": 28,
      "metadata": {
        "id": "Lz-k1DL-bG9v",
        "colab": {
          "base_uri": "https://localhost:8080/"
        },
        "outputId": "08ed3fa2-6be8-4cda-df44-1f92ad362cbe"
      },
      "outputs": [
        {
          "output_type": "stream",
          "name": "stdout",
          "text": [
            "CPU times: user 363 ms, sys: 3.99 ms, total: 367 ms\n",
            "Wall time: 364 ms\n"
          ]
        }
      ],
      "source": [
        "%%time\n",
        "nb = NaiveBayes(x_train_r,y_train)\n",
        "preds = [ nb.predict(i) for i in x_test_r[:100]]"
      ]
    },
    {
      "cell_type": "code",
      "execution_count": 29,
      "metadata": {
        "id": "neUU0A-AW9nc",
        "colab": {
          "base_uri": "https://localhost:8080/"
        },
        "outputId": "95c675ea-706d-447e-9497-c694e7c64c56"
      },
      "outputs": [
        {
          "output_type": "stream",
          "name": "stdout",
          "text": [
            "CPU times: user 8.1 ms, sys: 0 ns, total: 8.1 ms\n",
            "Wall time: 9.26 ms\n"
          ]
        }
      ],
      "source": [
        "%%time\n",
        "gnb = GaussianNB()\n",
        "y_pred = gnb.fit(x_train, y_train).predict(x_test[:100])"
      ]
    },
    {
      "cell_type": "markdown",
      "source": [
        "Επιπλέον, σύγκριση αποτελεσμάτων ακρίβειας και χρόνου εκτέλεσης, για διαφορετικές τιμές του k, μεταξύ της δικής μας και της έτοιμης υλοποιήσης."
      ],
      "metadata": {
        "id": "ohDBztw7_vHy"
      }
    },
    {
      "cell_type": "code",
      "source": [
        "k_values=[2,3,4,5,10,80,100,500]\n",
        "for j in k_values:\n",
        "  print(\"\\n***********************************************************\")\n",
        "  print('k=',j)\n",
        "  x_train_r = discretize(x_train,j)\n",
        "  x_test_r = discretize(dummy_x,j)\n",
        "  print('our nb version\\n')\n",
        "  %time nb = NaiveBayes(x_train_r, y_train)\n",
        "  preds = [nb.predict(i) for i in x_test_r[:100]]\n",
        "  eval = Evaluate(dummy_y, preds)\n",
        "  eval.get_evaluation_report()\n",
        "  print('\\nsklearn gnb version\\n')\n",
        "  gnb = GaussianNB()\n",
        "  %time y_pred = gnb.fit(x_train, y_train).predict(dummy_x)\n",
        "  eval = Evaluate(dummy_y, y_pred)\n",
        "  eval.get_evaluation_report()"
      ],
      "metadata": {
        "colab": {
          "base_uri": "https://localhost:8080/"
        },
        "id": "xT7skHet_xOI",
        "outputId": "14539752-bfa9-4303-8955-727d61bbfe9e"
      },
      "execution_count": 30,
      "outputs": [
        {
          "output_type": "stream",
          "name": "stdout",
          "text": [
            "\n",
            "***********************************************************\n",
            "k= 2\n",
            "our nb version\n",
            "\n",
            "CPU times: user 139 ms, sys: 0 ns, total: 139 ms\n",
            "Wall time: 139 ms\n",
            "precision: 0.5939958592132505\n",
            "recall: 0.468954248366013\n",
            "f1: 0.44238351031984485\n",
            "accuracy: 0.47\n",
            "Confusion matrix: \n",
            "[[ 9  5 22]\n",
            " [ 1 10 19]\n",
            " [ 0  6 28]]\n",
            "\n",
            "sklearn gnb version\n",
            "\n",
            "CPU times: user 9.27 ms, sys: 18 µs, total: 9.29 ms\n",
            "Wall time: 7.81 ms\n",
            "precision: 0.689078887368901\n",
            "recall: 0.6493464052287582\n",
            "f1: 0.6329591416177097\n",
            "accuracy: 0.64\n",
            "Confusion matrix: \n",
            "[[15 12  9]\n",
            " [ 2 23  5]\n",
            " [ 0  8 26]]\n",
            "\n",
            "***********************************************************\n",
            "k= 3\n"
          ]
        },
        {
          "output_type": "stream",
          "name": "stderr",
          "text": [
            "/usr/local/lib/python3.7/dist-packages/sklearn/base.py:566: FutureWarning: Arrays of bytes/strings is being converted to decimal numbers if dtype='numeric'. This behavior is deprecated in 0.24 and will be removed in 1.1 (renaming of 0.26). Please convert your data to numeric values explicitly instead.\n",
            "  X = check_array(X, **check_params)\n"
          ]
        },
        {
          "output_type": "stream",
          "name": "stdout",
          "text": [
            "our nb version\n",
            "\n",
            "CPU times: user 207 ms, sys: 960 µs, total: 208 ms\n",
            "Wall time: 207 ms\n",
            "precision: 0.6225071225071225\n",
            "recall: 0.5392156862745098\n",
            "f1: 0.5252536102160162\n",
            "accuracy: 0.53\n",
            "Confusion matrix: \n",
            "[[12 12 12]\n",
            " [ 1 20  9]\n",
            " [ 0 13 21]]\n",
            "\n",
            "sklearn gnb version\n",
            "\n",
            "CPU times: user 4.79 ms, sys: 0 ns, total: 4.79 ms\n",
            "Wall time: 4.8 ms\n",
            "precision: 0.689078887368901\n",
            "recall: 0.6493464052287582\n",
            "f1: 0.6329591416177097\n",
            "accuracy: 0.64\n",
            "Confusion matrix: \n",
            "[[15 12  9]\n",
            " [ 2 23  5]\n",
            " [ 0  8 26]]\n",
            "\n",
            "***********************************************************\n",
            "k= 4\n"
          ]
        },
        {
          "output_type": "stream",
          "name": "stderr",
          "text": [
            "/usr/local/lib/python3.7/dist-packages/sklearn/base.py:566: FutureWarning: Arrays of bytes/strings is being converted to decimal numbers if dtype='numeric'. This behavior is deprecated in 0.24 and will be removed in 1.1 (renaming of 0.26). Please convert your data to numeric values explicitly instead.\n",
            "  X = check_array(X, **check_params)\n"
          ]
        },
        {
          "output_type": "stream",
          "name": "stdout",
          "text": [
            "our nb version\n",
            "\n",
            "CPU times: user 279 ms, sys: 0 ns, total: 279 ms\n",
            "Wall time: 281 ms\n",
            "precision: 0.6904074761217619\n",
            "recall: 0.643681917211329\n",
            "f1: 0.6267793708438586\n",
            "accuracy: 0.63\n",
            "Confusion matrix: \n",
            "[[17  7 12]\n",
            " [ 1 27  2]\n",
            " [ 0 15 19]]\n",
            "\n",
            "sklearn gnb version\n",
            "\n",
            "CPU times: user 5.94 ms, sys: 1.02 ms, total: 6.96 ms\n",
            "Wall time: 6.28 ms\n",
            "precision: 0.689078887368901\n",
            "recall: 0.6493464052287582\n",
            "f1: 0.6329591416177097\n",
            "accuracy: 0.64\n",
            "Confusion matrix: \n",
            "[[15 12  9]\n",
            " [ 2 23  5]\n",
            " [ 0  8 26]]\n",
            "\n",
            "***********************************************************\n",
            "k= 5\n"
          ]
        },
        {
          "output_type": "stream",
          "name": "stderr",
          "text": [
            "/usr/local/lib/python3.7/dist-packages/sklearn/base.py:566: FutureWarning: Arrays of bytes/strings is being converted to decimal numbers if dtype='numeric'. This behavior is deprecated in 0.24 and will be removed in 1.1 (renaming of 0.26). Please convert your data to numeric values explicitly instead.\n",
            "  X = check_array(X, **check_params)\n"
          ]
        },
        {
          "output_type": "stream",
          "name": "stdout",
          "text": [
            "our nb version\n",
            "\n",
            "CPU times: user 349 ms, sys: 1.97 ms, total: 351 ms\n",
            "Wall time: 353 ms\n",
            "precision: 0.7247578347578347\n",
            "recall: 0.7038126361655773\n",
            "f1: 0.7028674347335923\n",
            "accuracy: 0.7\n",
            "Confusion matrix: \n",
            "[[23  4  9]\n",
            " [ 1 23  6]\n",
            " [ 1  9 24]]\n",
            "\n",
            "sklearn gnb version\n",
            "\n",
            "CPU times: user 8.13 ms, sys: 2.04 ms, total: 10.2 ms\n",
            "Wall time: 8.47 ms\n",
            "precision: 0.689078887368901\n",
            "recall: 0.6493464052287582\n",
            "f1: 0.6329591416177097\n",
            "accuracy: 0.64\n",
            "Confusion matrix: \n",
            "[[15 12  9]\n",
            " [ 2 23  5]\n",
            " [ 0  8 26]]\n",
            "\n",
            "***********************************************************\n",
            "k= 10\n"
          ]
        },
        {
          "output_type": "stream",
          "name": "stderr",
          "text": [
            "/usr/local/lib/python3.7/dist-packages/sklearn/base.py:566: FutureWarning: Arrays of bytes/strings is being converted to decimal numbers if dtype='numeric'. This behavior is deprecated in 0.24 and will be removed in 1.1 (renaming of 0.26). Please convert your data to numeric values explicitly instead.\n",
            "  X = check_array(X, **check_params)\n"
          ]
        },
        {
          "output_type": "stream",
          "name": "stdout",
          "text": [
            "our nb version\n",
            "\n",
            "CPU times: user 681 ms, sys: 5.92 ms, total: 687 ms\n",
            "Wall time: 688 ms\n",
            "precision: 0.7186559018367961\n",
            "recall: 0.705119825708061\n",
            "f1: 0.7010615883855321\n",
            "accuracy: 0.7\n",
            "Confusion matrix: \n",
            "[[23  7  6]\n",
            " [ 3 24  3]\n",
            " [ 1 10 23]]\n",
            "\n",
            "sklearn gnb version\n",
            "\n",
            "CPU times: user 5.5 ms, sys: 0 ns, total: 5.5 ms\n",
            "Wall time: 5.21 ms\n",
            "precision: 0.689078887368901\n",
            "recall: 0.6493464052287582\n",
            "f1: 0.6329591416177097\n",
            "accuracy: 0.64\n",
            "Confusion matrix: \n",
            "[[15 12  9]\n",
            " [ 2 23  5]\n",
            " [ 0  8 26]]\n",
            "\n",
            "***********************************************************\n",
            "k= 80\n"
          ]
        },
        {
          "output_type": "stream",
          "name": "stderr",
          "text": [
            "/usr/local/lib/python3.7/dist-packages/sklearn/base.py:566: FutureWarning: Arrays of bytes/strings is being converted to decimal numbers if dtype='numeric'. This behavior is deprecated in 0.24 and will be removed in 1.1 (renaming of 0.26). Please convert your data to numeric values explicitly instead.\n",
            "  X = check_array(X, **check_params)\n"
          ]
        },
        {
          "output_type": "stream",
          "name": "stdout",
          "text": [
            "our nb version\n",
            "\n",
            "CPU times: user 5.24 s, sys: 41.3 ms, total: 5.29 s\n",
            "Wall time: 5.29 s\n",
            "precision: 0.6877744646245594\n",
            "recall: 0.6871459694989107\n",
            "f1: 0.6871533788141059\n",
            "accuracy: 0.69\n",
            "Confusion matrix: \n",
            "[[26  5  5]\n",
            " [ 5 19  6]\n",
            " [ 3  7 24]]\n",
            "\n",
            "sklearn gnb version\n",
            "\n",
            "CPU times: user 4.88 ms, sys: 0 ns, total: 4.88 ms\n",
            "Wall time: 4.89 ms\n",
            "precision: 0.689078887368901\n",
            "recall: 0.6493464052287582\n",
            "f1: 0.6329591416177097\n",
            "accuracy: 0.64\n",
            "Confusion matrix: \n",
            "[[15 12  9]\n",
            " [ 2 23  5]\n",
            " [ 0  8 26]]\n",
            "\n",
            "***********************************************************\n",
            "k= 100\n"
          ]
        },
        {
          "output_type": "stream",
          "name": "stderr",
          "text": [
            "/usr/local/lib/python3.7/dist-packages/sklearn/base.py:566: FutureWarning: Arrays of bytes/strings is being converted to decimal numbers if dtype='numeric'. This behavior is deprecated in 0.24 and will be removed in 1.1 (renaming of 0.26). Please convert your data to numeric values explicitly instead.\n",
            "  X = check_array(X, **check_params)\n"
          ]
        },
        {
          "output_type": "stream",
          "name": "stdout",
          "text": [
            "our nb version\n",
            "\n",
            "CPU times: user 6.5 s, sys: 56 ms, total: 6.55 s\n",
            "Wall time: 6.57 s\n",
            "precision: 0.6783088235294118\n",
            "recall: 0.6773420479302832\n",
            "f1: 0.6774103189662961\n",
            "accuracy: 0.68\n",
            "Confusion matrix: \n",
            "[[26  5  5]\n",
            " [ 5 19  6]\n",
            " [ 3  8 23]]\n",
            "\n",
            "sklearn gnb version\n",
            "\n",
            "CPU times: user 6.9 ms, sys: 16 µs, total: 6.92 ms\n",
            "Wall time: 6.14 ms\n",
            "precision: 0.689078887368901\n",
            "recall: 0.6493464052287582\n",
            "f1: 0.6329591416177097\n",
            "accuracy: 0.64\n",
            "Confusion matrix: \n",
            "[[15 12  9]\n",
            " [ 2 23  5]\n",
            " [ 0  8 26]]\n",
            "\n",
            "***********************************************************\n",
            "k= 500\n"
          ]
        },
        {
          "output_type": "stream",
          "name": "stderr",
          "text": [
            "/usr/local/lib/python3.7/dist-packages/sklearn/base.py:566: FutureWarning: Arrays of bytes/strings is being converted to decimal numbers if dtype='numeric'. This behavior is deprecated in 0.24 and will be removed in 1.1 (renaming of 0.26). Please convert your data to numeric values explicitly instead.\n",
            "  X = check_array(X, **check_params)\n"
          ]
        },
        {
          "output_type": "stream",
          "name": "stdout",
          "text": [
            "our nb version\n",
            "\n",
            "CPU times: user 32.5 s, sys: 63 ms, total: 32.6 s\n",
            "Wall time: 32.6 s\n",
            "precision: 0.75\n",
            "recall: 0.7432461873638344\n",
            "f1: 0.7437647362216327\n",
            "accuracy: 0.75\n",
            "Confusion matrix: \n",
            "[[31  4  1]\n",
            " [ 7 19  4]\n",
            " [ 4  5 25]]\n",
            "\n",
            "sklearn gnb version\n",
            "\n",
            "CPU times: user 10.6 ms, sys: 1.04 ms, total: 11.6 ms\n",
            "Wall time: 9.47 ms\n",
            "precision: 0.689078887368901\n",
            "recall: 0.6493464052287582\n",
            "f1: 0.6329591416177097\n",
            "accuracy: 0.64\n",
            "Confusion matrix: \n",
            "[[15 12  9]\n",
            " [ 2 23  5]\n",
            " [ 0  8 26]]\n"
          ]
        },
        {
          "output_type": "stream",
          "name": "stderr",
          "text": [
            "/usr/local/lib/python3.7/dist-packages/sklearn/base.py:566: FutureWarning: Arrays of bytes/strings is being converted to decimal numbers if dtype='numeric'. This behavior is deprecated in 0.24 and will be removed in 1.1 (renaming of 0.26). Please convert your data to numeric values explicitly instead.\n",
            "  X = check_array(X, **check_params)\n"
          ]
        }
      ]
    },
    {
      "cell_type": "markdown",
      "metadata": {
        "id": "SAmP4BrCbOB9"
      },
      "source": [
        "Παρατηρούμε πως ο χρόνος εκτέλεσης της υλοποιήσης που έχουμε δημιουργήσει έιναι αυξανόμενος σχετικά με το πόσο πολύ αυξάνουμε τον αριθμό διαστημάτων στο [0,1]. Η ακρίβεια για μικρό αριθμό bins είναι αντίστοιχα μικρή, όμως όσο αυξάνονται τα bins παρατηρούμε και μεγαλύτερες τιμές ακρίβειας σε ορισμένες περιπτώσεις. Ωστόσο για τον έτοιμο αλγόριθμο που μελετά τα δεδομένα σαν να ήταν συνεχή αφού δεν έχουμε χρησιμοποιήσει x_train_r, x_test_r βλέπουμε πως σταθερά μας δίνει ακρίβεια με τιμή 0.64 ."
      ]
    },
    {
      "cell_type": "markdown",
      "metadata": {
        "id": "8B3FYDfnW9nd"
      },
      "source": [
        "# 4ο Μέρος: Multi-Layer Perceptron \n",
        "\n",
        "Στο τέταρτο μέρος της άσκησης θα κατασκευάσετε ένα πολυεπίπεδο νευρωνικό δίκτυο. Ο ταξινομητής αυτός θα εκπαιδευτεί στο να ταξινομεί τα δείγματα των μουσικών κομματιών σε μια από τις 3 διαφορετικές κλάσεις που επιλέχθηκαν (Electronic, Rock, Rap). Αρχικά, θα υλοποιήσετε το μοντέλο αυτό χρησιμοποιώντας αποκλειστικά την βιβλιοθήκη numpy ενώ στην συνέχεια θα χρησιμοποιήσετε μια έτοιμη κλάση για την κατασκευή του ίδιου μοντέλου. \n",
        "\n",
        "Ας θυμηθούμε από τις διαφάνειες: \n",
        "\n",
        "Κάθε MLP αποτελείται από επίπεδα όπου το κάθε ένα από αυτά χωρίζεται στα παρακάτω μέρη: \n",
        "\n",
        "$$ z(x) = w^Τx + b $$ \n",
        "$$ f(x) = a(z(x))$$ \n",
        "\n",
        "όπου $w$, $b$ είναι τα βάρη του επιπέδου.  Η έξοδος z(x) είναι η απόκριση κάθε νευρώνα πριν την συνάρτηση ενεργοποίησης ενώ η f(x) μετά.  Κάθε επίπεδο συνδέεται με ένα επόμενο του οποίου η είσοδός του αποτελεί την έξοδο (με την συνάρτηση ενεργοποίησης) του προηγούμενου. \n",
        "\n",
        "Στο μέρος αυτό καλείστε να συμπληρώσετε ορισμένα σημεία κώδικα ώστε να επιτυγχάνεται αυτή η λειτουργικότητα. Στην συνέχεια θα υλοποιήσετε το ίδιο ακριβώς μοντέλο χρησιμοποιώντας όμως μια έτοιμη βιβλιοθήκη και θα συγκρίνετε τα αποτελέσματά τους (χρόνο, σκορ κ.α.). \n",
        "\n",
        "Σε αυτό το σημείο της άσκησης θα επιλύσετε το παραπάνω πρόβλημα κατασκευάζοντας ένα πολυεπίπεδο νευρωνικό δίκτυο. Αρχικά θα υλοποιήσετε το νευρωνικό χωρίς να χρησιμοποιήσετε κάποια έτοιμη κλάση κάποιας βιβλιοθήκης (όπως scikit-learn, keras), ενώ στην συνέχεια θα κατασκευάσετε το ίδιο σύστημα με την χρήση της βιβλιοθήκης scikit-learn. \n",
        "\n",
        "Στο παρακάτω κελί κώδικα σάς δίνεται η βασική δομή του επιπέδου ενός πολυεπίπεδου νευρωνικού δικτύου. Η παρακάτω κλάση δεν υλοποιεί κάποιο πραγματικό επίπεδο (όπως Dense) αλλά αυτή χρησιμοποιείται για την παρουσίαση των λειτουργιών κάθε επιπέδου.\n",
        "\n",
        "Ουσιαστικά κάθε επίπεδο ενός νευρωνικού δικτύου πρέπει να είναι σε θέση να κάνει: \n",
        "\n",
        "\n",
        "1.   Για μια είσοδο να υπολογίζει την έξοδο κάθε νευρώνα. Αυτό επιτυγχάνεται μέσω της μεθόδου forward η όποια δέχεται ως όρισμα μια είσοδο  και επιστρέφει έναν πίνακα με τις εξόδους κάθε νευρώνα του επιπέδου. \n",
        "\n",
        "2.   Να υπολογίζει τις μεταβολές οι όποιες πρέπει να γίνουν στα βάρη κάθε επιπέδου, ανάλογα με το πόσο καλά-κοντινά ήταν τα αποτελέσματα του επιπέδου στα πραγματικά. Η λειτουργία αυτή θα μας βοηθήσει στην ανανέωση των βαρών του δικτύου και συνεπώς στη σωστή εκπαίδευσή του. Η λειτουργικότητα αυτή επιτυγχάνεται μέσω της μεθόδου backward. \n",
        "\n",
        "  \n",
        "\n",
        "Η λειτουργικότητα, συνεπώς, κάθε επιπέδου καθορίζεται από την συνάρτηση που υλοποιείται στην μέθοδο forward. Ένα instance της παρακάτω κλάσης, συνεπώς, επιστρέφει ως έξοδο την είσοδο κάθε νευρώνα (ταυτοτική συνάρτηση) όποτε δεν προσφέρει κάποια υψηλή λειτουργικότητα. Στην παρακάτω κλάση δεν έχετε να προσθέσετε κάτι, απλά να μελετήσετε και να καταλάβετε την δομή που πρέπει να έχει ένα επίπεδο. "
      ]
    },
    {
      "cell_type": "code",
      "execution_count": 40,
      "metadata": {
        "id": "jgx1VIMmbMQP"
      },
      "outputs": [],
      "source": [
        "class Layer:\n",
        "    def __init__(self):\n",
        "        \"\"\"Here we can initialize layer parameters (if any) and auxiliary stuff.\"\"\"\n",
        "        # A dummy layer does nothing\n",
        "        pass\n",
        "    \n",
        "    def forward(self, input):\n",
        "        \"\"\"\n",
        "        Takes input data of shape [batch, input_units], returns output data [batch, output_units]\n",
        "        \"\"\"\n",
        "        # A dummy layer just returns whatever it gets as input.\n",
        "        return input\n",
        "\n",
        "    def backward(self, input, grad_output):\n",
        "        # The gradient of a dummy layer is precisely grad_output, but we'll write it more explicitly\n",
        "        num_units = input.shape[1]\n",
        "        \n",
        "        d_layer_d_input = np.eye(num_units)\n",
        "        \n",
        "        return np.dot(grad_output, d_layer_d_input) # chain rule"
      ]
    },
    {
      "cell_type": "markdown",
      "metadata": {
        "id": "r1iQCroAbV-F"
      },
      "source": [
        "Στο σημείο αυτό αξίζει να αναφερθεί ότι για την σωστή εκπαίδευση του δικτύου (σε πρακτικό επίπεδο) πρέπει να διαχωριστεί η έξοδος κάθε νευρώνα πριν και μετά την συνάρτηση ενεργοποίησης. Έτσι η παραπάνω μέθοδος forward της κλάσης layer πρέπει να υπολογίζει την έξοδο του επιπέδου χωρίς την συνάρτηση ενεργοποίησης και κάποια άλλη κλάση να υπολογίζει το αποτέλεσμα με αυτή.  \n",
        "\n",
        "  \n",
        "\n",
        "Έκτος όμως από την εκπαίδευση του δικτύου, ο διαχωρισμός αυτός μας βοηθά σημαντικά και κατά την φάση σχεδιασμού της  αρχιτεκτονικής μιας και μας δίνει την δυνατότητα να αλλάζουμε την συνάρτηση ενεργοποίησης χωρίς κάθε φόρα να πρέπει να αλλάξουμε ολόκληρη την κλάση layer. Για τους παραπάνω λόγους θα χειριζόμαστε την συνάρτηση ενεργοποίησης σαν ένα ξεχωριστό επίπεδο με τις δικές της μεθόδους: forward, backward.  \n",
        "\n",
        "  \n",
        "\n",
        "Παρακάτω παρουσιάζεται η κλάση η όποια υλοποιεί την λειτουργικότητα της συνάρτησης ενεργοποίησης [ReLU](https://en.wikipedia.org/wiki/Rectifier_(neural_networks)).  \n",
        "\n",
        "  \n",
        "\n",
        "Με την ίδια λογική μπορούμε να υλοποιήσουμε οποιαδήποτε άλλη συνάρτηση ενεργοποίησης θέλουμε π.χ. sigmoid, tanh κ.ο.κ. και επιπλέον μπορούμε να τις εναλλάσσουμε μεταξύ επιπέδων χωρίς δυσκολία. "
      ]
    },
    {
      "cell_type": "code",
      "execution_count": 41,
      "metadata": {
        "id": "6P33228VbYIf"
      },
      "outputs": [],
      "source": [
        "class ReLU(Layer):\n",
        "    def __init__(self):\n",
        "        \"\"\"ReLU layer simply applies elementwise rectified linear unit to all inputs\"\"\"\n",
        "        pass\n",
        "    \n",
        "    def forward(self, input):\n",
        "        \"\"\"Apply elementwise ReLU to [batch, input_units] matrix\"\"\"\n",
        "        relu_forward = np.maximum(0, input)\n",
        "        return relu_forward\n",
        "    \n",
        "    def backward(self, input, grad_output):\n",
        "        \"\"\"Compute gradient of loss w.r.t. ReLU input\"\"\"\n",
        "        relu_grad = input > 0\n",
        "        return grad_output*relu_grad"
      ]
    },
    {
      "cell_type": "markdown",
      "metadata": {
        "id": "Rrrub_76ba19"
      },
      "source": [
        "Η κλάση Dense υλοποιεί ένα επίπεδο dense όπου η έξοδος κάθε νευρώνα (χωρίς τη  συνάρτηση ενεργοποίησης) υπολογίζεται από την παρακάτω εξίσωση: \n",
        "\n",
        "  \n",
        "\n",
        "  \n",
        "\n",
        "$$ z(x) = w^Τx + b $$ \n",
        "\n",
        "  \n",
        "\n",
        "όπου $w$, $b$ είναι τα βάρη του επιπέδου.   \n",
        "\n",
        "  \n",
        "\n",
        "Συνεπώς το δίκτυο είναι απαραίτητο να διατηρεί τους δυο πίνακες με τα βάρη οι οποίοι στην μέθοδο forward θα χρησιμοποιούνται για τον υπολογισμό της εξόδου και θα ανανεώνονται από την μέθοδο backward. Οι πίνακες αυτοί δημιουργούνται κατά την κατασκευή κάθε στιγμιότυπου και αρχικοποιούνται, ο πρώτος τυχαία και ο δεύτερος με μηδενικά.  Στο σημείο αυτό καλείστε να συμπληρώσετε την μέθοδο forward με κατάλληλο τρόπο ώστε να επιτυγχάνεται η επιθυμητή λειτουργικότητα. "
      ]
    },
    {
      "cell_type": "code",
      "execution_count": 42,
      "metadata": {
        "id": "HEnuIuOHbZge"
      },
      "outputs": [],
      "source": [
        "class Dense(Layer):\n",
        "    def __init__(self, input_units, output_units, learning_rate = 0.1):\n",
        "        self.input_units = input_units\n",
        "        self.output_units = output_units\n",
        "        \n",
        "        self.learning_rate = learning_rate\n",
        "        self.weights = np.random.normal(loc = 0.0, \n",
        "                                        scale = np.sqrt(2 / (input_units + output_units)), \n",
        "                                        size = (input_units, output_units))\n",
        "        self.biases = np.zeros(output_units)\n",
        "        \n",
        "    def forward(self, input):\n",
        "        \"\"\"\n",
        "        Perform an affine transformation:\n",
        "        f(x) = <W*x> + b\n",
        "        \n",
        "        input shape: [number of inputs, input units]\n",
        "        output shape: [number of inputs, output units]\n",
        "        \"\"\"\n",
        "        ###################\n",
        "        ## Your code below\n",
        "        ## hint: numpy.dot\n",
        "        output = np.dot(input,self.weights) + self.biases\n",
        "\n",
        "        \n",
        "        ## Your code above\n",
        "        ##################\n",
        "        return output\n",
        "\n",
        "    def backward(self, input, grad_output):\n",
        "        # compute d f / d x = d f / d dense * d dense / d x\n",
        "        # where d dense/ d x = weights transposed\n",
        "        grad_input = np.dot(grad_output, self.weights.T)\n",
        "\n",
        "        # compute gradient w.r.t. weights and biases\n",
        "        grad_weights = np.dot(input.T, grad_output)\n",
        "        grad_biases = grad_output.mean(axis = 0) * input.shape[0]\n",
        "        assert grad_weights.shape == self.weights.shape and grad_biases.shape == self.biases.shape\n",
        "\n",
        "        # Here we perform a stochastic gradient descent step. \n",
        "        self.weights = self.weights - self.learning_rate * grad_weights\n",
        "        self.biases = self.biases - self.learning_rate * grad_biases\n",
        "        return grad_input"
      ]
    },
    {
      "cell_type": "markdown",
      "metadata": {
        "id": "Ml2jvLeybeRe"
      },
      "source": [
        "Οι παρακάτω συναρτήσεις χρησιμοποιούνται για να μπορεί το δίκτυο να ελέγχει πόσο κοντά βρίσκονται τα αποτελέσματά του στα πραγματικά (Loss function). Όπως είναι λογικό υπάρχουν διαφορετικές τέτοιες συναρτήσεις ανάλογα το πρόβλημα που καλείται να λύσει το δίκτυο. Η παρακάτω συνάρτηση ονομάζεται [softmax](https://en.wikipedia.org/wiki/Softmax_function) και χρησιμοποιείται κατά κύριο λόγο σε προβλήματα ταξινόμησης όπως το συγκεκριμένο. Η softmax δέχεται σαν είσοδο τις ενεργοποιήσεις του τελευταίου επιπέδου και επιστρέφει μια κατανομή πιθανοτήτων για κάθε μια από τις κλάσεις εξόδου (π.χ. κλάση 0 έχει πιθανότητα 0.001,  η κλάση 1 έχει 0.9 κ.ο.κ.).  "
      ]
    },
    {
      "cell_type": "code",
      "execution_count": 43,
      "metadata": {
        "id": "qT7nl_1Gbc0B"
      },
      "outputs": [],
      "source": [
        "def softmax_crossentropy_with_logits(logits, reference_answers):\n",
        "    logits_for_answers = logits[np.arange(len(logits)),reference_answers]\n",
        "    logits=logits.astype(float)\n",
        "    xentropy = - logits_for_answers + np.log(np.sum(np.exp(logits),axis=-1))\n",
        "    return xentropy\n",
        "\n",
        "def grad_softmax_crossentropy_with_logits(logits, reference_answers):\n",
        "    ones_for_answers = np.zeros_like(logits)\n",
        "    ones_for_answers[np.arange(len(logits)),reference_answers] = 1\n",
        "    logits=logits.astype(float)\n",
        "    softmax = np.exp(logits) / np.exp(logits).sum(axis=-1,keepdims=True)\n",
        "    return (- ones_for_answers + softmax) / logits.shape[0]"
      ]
    },
    {
      "cell_type": "markdown",
      "metadata": {
        "id": "5XnSJjxYbhdX"
      },
      "source": [
        "Έχοντας υλοποιήσει τις κλάσεις Dense και ReLU μπορούμε πλέον να κατασκευάσουμε μια κλάση η όποια θα ορίζει ένα πολυεπίπεδο νευρωνικό δίκτυο (MLP). Το δίκτυο αυτό ουσιαστικά αποτελείται από μια ακολουθία Dense επιπέδων όπου το κάθε ένα (εκτός του τελευταίου) ακολουθείται από μια μη-γραμμική συνάρτηση ενεργοποίησης (ReLU). Όμοια με πριν, η κλάση αυτή πρέπει να περιέχει μια μέθοδο forward η όποια θα δέχεται μια είσοδο (εδώ μια εικόνα flatten) και θα επιστρέφει μια έξοδο (εδώ μια κατανομή 3 πιθανοτήτων). Παράλληλα πρέπει να περιέχει και μια μέθοδο fit, η όποια θα εκπαιδεύει το δίκτυο δεδομένου ενός τέτοιου συνόλου (εδώ του x_train). Στο σημείο αυτό χρησιμοποιούνται οι μέθοδοι backward που έχουν οριστεί για κάθε ένα επίπεδο (δεν χρειάζεται να συμπληρώσετε κάτι).  Τέλος θα ήταν βοηθητικό να έχουμε και μια μέθοδο η όποια θα μετατρέπει την κατανομή εξόδου στην επιστρεφόμενη κλάση (predict) για κάποιο ή κάποια στιγμιότυπα του συνόλου δεδομένων.   \n",
        "\n",
        "Το δίκτυο όπως αναφέρθηκε και προηγουμένως αποτελείται από έναν αριθμό Dense επιπέδων κάθε ένα από τα όποια ακολουθείται από μια συνάρτηση ReLU. Η κατασκευή των επιπέδων γίνεται κατά την στιγμή δημιουργίας του δικτύου, όπου δίνεται ως είσοδος μια λίστα με το μέγεθος κάθε επιπέδου, μαζί με το μέγεθος εισόδου. Έτσι για παράδειγμα η παρακάτω γραμμή κώδικα:  \n",
        "``` \n",
        "net = MLP([100, 200, 100, 10], 784)  \n",
        "```  \n",
        "κατασκευάζει ένα MLP το όποιο αποτελείται από 4 επίπεδα με μέγεθος 100, 200, 100, 10. Ο αριθμός των επιπέδων καθώς και του μεγέθους καθενός από αυτά είναι ελεύθερος να οριστεί από τον χρήστη.   \n",
        "Στον constructor της κλάσης ουσιαστικά ορίζεται μια λίστα η όποια περιέχει κάθε ένα από τα επίπεδα που πρέπει να οριστούν, π.χ. για το παραπάνω παράδειγμα η μεταβλητή net.network περιέχει τα εξής στιγμιότυπα των κλάσεων:  \n",
        "\n",
        "``` \n",
        "[Dense(100), ReLU(), Dense(200), ReLU(), Dense(100), ReLU(), Dense(10)]  \n",
        "```  \n",
        "\n",
        "Συνεπώς η λειτουργικότητα του δικτύου όπως και πριν πρέπει να οριστεί στην μέθοδο forward. Στο σημείο αυτό καλείστε να συμπληρώσετε την μέθοδο αυτή έτσι ώστε το δίκτυο να λειτουργεί όπως πρέπει, δηλαδή στο παράδειγμά μας η είσοδος να περνά από το επίπεδο Dense(100), μετά από το ReLU(), στην συνέχεια από το Dense(200) κ.ο.κ. μέχρι και το τελευταίο επίπεδο.  Ο αλγόριθμος αυτός παρουσιάζεται και σε ψευδοκώδικα στην διαφάνεια 33 του μαθήματος. "
      ]
    },
    {
      "cell_type": "code",
      "execution_count": 44,
      "metadata": {
        "id": "MHHcg1unbf21"
      },
      "outputs": [],
      "source": [
        "class MLP:\n",
        "    def __init__(self, shapes, input_dim):\n",
        "        self.shapes = shapes\n",
        "        self.network = [Dense(input_dim, shapes[0])]\n",
        "        self.network.append(ReLU())\n",
        "        for i in range(1, len(self.shapes) - 1):\n",
        "            self.network.append(Dense(shapes[i-1], shapes[i]))\n",
        "            self.network.append(ReLU())\n",
        "        self.network.append(Dense(shapes[i], shapes[-1]))\n",
        "\n",
        "    def forward(self, X):\n",
        "        \"\"\"\n",
        "        Αγόριθμος διφάνειας 33\n",
        "        \"\"\"\n",
        "        activations = []\n",
        "        input = X\n",
        "        # Looping through each layer\n",
        "        for l in self.network:\n",
        "            ###################\n",
        "            ## Your code below\n",
        "            # hint: τροφοδοτούμε την έξοδο κάθε επιπέδου στο επόμενο\n",
        "            activations.append(l.forward(input))\n",
        "            input = activations[-1]\n",
        "            ## Your code above\n",
        "            ##################        \n",
        "        assert len(activations) == len(self.network)\n",
        "        return activations\n",
        "\n",
        "    def predict(self,X):\n",
        "        \"\"\"\n",
        "        Προβλέπει την έξοδο του δικτύου για ένα ή περισσότερα στιγμιότυπα εισόδου\n",
        "        \"\"\"\n",
        "        logits = self.forward(X)[-1]\n",
        "        return logits.argmax(axis = -1)\n",
        "\n",
        "    def fit(self, X, y):\n",
        "        # Get the layer activations\n",
        "        layer_activations = self.forward(X)\n",
        "        layer_inputs = [X]+layer_activations \n",
        "        logits = layer_activations[-1]\n",
        "\n",
        "        # Compute the loss and the initial gradient\n",
        "        loss = softmax_crossentropy_with_logits(logits,y)\n",
        "        loss_grad = grad_softmax_crossentropy_with_logits(logits,y)\n",
        "\n",
        "        # Propagate gradients through the network\n",
        "        # Reverse propogation as this is backprop\n",
        "        for layer_index in range(len(self.network))[::-1]:\n",
        "            layer = self.network[layer_index]\n",
        "            loss_grad = layer.backward(layer_inputs[layer_index],loss_grad) \n",
        "        return np.mean(loss)"
      ]
    },
    {
      "cell_type": "markdown",
      "metadata": {
        "id": "6zCBcKqvbm4t"
      },
      "source": [
        "## Αξιολόγηση ενός Multi-Layer Perceptron\n",
        "\n",
        "Αφού έχουμε κατασκευάσει τα παραπάνω είμαστε πλέον σε θέση να εκπαιδεύσουμε το MLP. Αυτό γίνεται καλώντας την μέθοδο fit. Στο παρακάτω κελί κώδικα ορίζεται το MLP του παραπάνω παραδείγματος και εκπαιδεύεται για 25 εποχές. Στο τέλος κάθε εποχής παρουσιάζονται τα αποτελέσματα του μαζί με μια γραφική των train και test accuracy. "
      ]
    },
    {
      "cell_type": "code",
      "execution_count": 45,
      "metadata": {
        "id": "4jw-8qN6bjQG",
        "colab": {
          "base_uri": "https://localhost:8080/",
          "height": 1000
        },
        "outputId": "11049823-9a89-413d-c473-a082535ffab6"
      },
      "outputs": [
        {
          "output_type": "stream",
          "name": "stdout",
          "text": [
            "Epoch 0\n",
            "Train accuracy: 0.3037373310810811\n",
            "Val accuracy: 0.29982754372998277\n"
          ]
        },
        {
          "output_type": "display_data",
          "data": {
            "image/png": "[encoded data removed]",
            "text/plain": [
              "<Figure size 432x288 with 1 Axes>"
            ]
          },
          "metadata": {
            "needs_background": "light"
          }
        },
        {
          "output_type": "stream",
          "name": "stdout",
          "text": [
            "Epoch 1\n",
            "Train accuracy: 0.3159839527027027\n",
            "Val accuracy: 0.3158413402315841\n"
          ]
        },
        {
          "output_type": "display_data",
          "data": {
            "image/png": "[encoded data removed]",
            "text/plain": [
              "<Figure size 432x288 with 1 Axes>"
            ]
          },
          "metadata": {
            "needs_background": "light"
          }
        },
        {
          "output_type": "stream",
          "name": "stdout",
          "text": [
            "Epoch 2\n",
            "Train accuracy: 0.32896959459459457\n",
            "Val accuracy: 0.3291451096329145\n"
          ]
        },
        {
          "output_type": "display_data",
          "data": {
            "image/png": "[encoded data removed]",
            "text/plain": [
              "<Figure size 432x288 with 1 Axes>"
            ]
          },
          "metadata": {
            "needs_background": "light"
          }
        },
        {
          "output_type": "stream",
          "name": "stdout",
          "text": [
            "Epoch 3\n",
            "Train accuracy: 0.3407939189189189\n",
            "Val accuracy: 0.344419807834442\n"
          ]
        },
        {
          "output_type": "display_data",
          "data": {
            "image/png": "[encoded data removed]",
            "text/plain": [
              "<Figure size 432x288 with 1 Axes>"
            ]
          },
          "metadata": {
            "needs_background": "light"
          }
        },
        {
          "output_type": "stream",
          "name": "stdout",
          "text": [
            "Epoch 4\n",
            "Train accuracy: 0.3614864864864865\n",
            "Val accuracy: 0.36240453313624044\n"
          ]
        },
        {
          "output_type": "display_data",
          "data": {
            "image/png": "[encoded data removed]",
            "text/plain": [
              "<Figure size 432x288 with 1 Axes>"
            ]
          },
          "metadata": {
            "needs_background": "light"
          }
        },
        {
          "output_type": "stream",
          "name": "stdout",
          "text": [
            "Epoch 5\n",
            "Train accuracy: 0.38217905405405406\n",
            "Val accuracy: 0.38186745503818675\n"
          ]
        },
        {
          "output_type": "display_data",
          "data": {
            "image/png": "[encoded data removed]",
            "text/plain": [
              "<Figure size 432x288 with 1 Axes>"
            ]
          },
          "metadata": {
            "needs_background": "light"
          }
        },
        {
          "output_type": "stream",
          "name": "stdout",
          "text": [
            "Epoch 6\n",
            "Train accuracy: 0.4055109797297297\n",
            "Val accuracy: 0.40822862774082286\n"
          ]
        },
        {
          "output_type": "display_data",
          "data": {
            "image/png": "[encoded data removed]",
            "text/plain": [
              "<Figure size 432x288 with 1 Axes>"
            ]
          },
          "metadata": {
            "needs_background": "light"
          }
        },
        {
          "output_type": "stream",
          "name": "stdout",
          "text": [
            "Epoch 7\n",
            "Train accuracy: 0.4211359797297297\n",
            "Val accuracy: 0.4254742547425474\n"
          ]
        },
        {
          "output_type": "display_data",
          "data": {
            "image/png": "[encoded data removed]",
            "text/plain": [
              "<Figure size 432x288 with 1 Axes>"
            ]
          },
          "metadata": {
            "needs_background": "light"
          }
        },
        {
          "output_type": "stream",
          "name": "stdout",
          "text": [
            "Epoch 8\n",
            "Train accuracy: 0.43253800675675674\n",
            "Val accuracy: 0.43976348854397634\n"
          ]
        },
        {
          "output_type": "display_data",
          "data": {
            "image/png": "[encoded data removed]",
            "text/plain": [
              "<Figure size 432x288 with 1 Axes>"
            ]
          },
          "metadata": {
            "needs_background": "light"
          }
        },
        {
          "output_type": "stream",
          "name": "stdout",
          "text": [
            "Epoch 9\n",
            "Train accuracy: 0.44277871621621623\n",
            "Val accuracy: 0.44567627494456763\n"
          ]
        },
        {
          "output_type": "display_data",
          "data": {
            "image/png": "[encoded data removed]",
            "text/plain": [
              "<Figure size 432x288 with 1 Axes>"
            ]
          },
          "metadata": {
            "needs_background": "light"
          }
        },
        {
          "output_type": "stream",
          "name": "stdout",
          "text": [
            "Epoch 10\n",
            "Train accuracy: 0.4471072635135135\n",
            "Val accuracy: 0.4501108647450111\n"
          ]
        },
        {
          "output_type": "display_data",
          "data": {
            "image/png": "[encoded data removed]",
            "text/plain": [
              "<Figure size 432x288 with 1 Axes>"
            ]
          },
          "metadata": {
            "needs_background": "light"
          }
        },
        {
          "output_type": "stream",
          "name": "stdout",
          "text": [
            "Epoch 11\n",
            "Train accuracy: 0.45080236486486486\n",
            "Val accuracy: 0.45528455284552843\n"
          ]
        },
        {
          "output_type": "display_data",
          "data": {
            "image/png": "[encoded data removed]",
            "text/plain": [
              "<Figure size 432x288 with 1 Axes>"
            ]
          },
          "metadata": {
            "needs_background": "light"
          }
        },
        {
          "output_type": "stream",
          "name": "stdout",
          "text": [
            "Epoch 12\n",
            "Train accuracy: 0.45291385135135137\n",
            "Val accuracy: 0.46242916974624293\n"
          ]
        },
        {
          "output_type": "display_data",
          "data": {
            "image/png": "[encoded data removed]",
            "text/plain": [
              "<Figure size 432x288 with 1 Axes>"
            ]
          },
          "metadata": {
            "needs_background": "light"
          }
        },
        {
          "output_type": "stream",
          "name": "stdout",
          "text": [
            "Epoch 13\n",
            "Train accuracy: 0.4562922297297297\n",
            "Val accuracy: 0.4648928307464893\n"
          ]
        },
        {
          "output_type": "display_data",
          "data": {
            "image/png": "[encoded data removed]",
            "text/plain": [
              "<Figure size 432x288 with 1 Axes>"
            ]
          },
          "metadata": {
            "needs_background": "light"
          }
        },
        {
          "output_type": "stream",
          "name": "stdout",
          "text": [
            "Epoch 14\n",
            "Train accuracy: 0.4585092905405405\n",
            "Val accuracy: 0.4678492239467849\n"
          ]
        },
        {
          "output_type": "display_data",
          "data": {
            "image/png": "[encoded data removed]",
            "text/plain": [
              "<Figure size 432x288 with 1 Axes>"
            ]
          },
          "metadata": {
            "needs_background": "light"
          }
        },
        {
          "output_type": "stream",
          "name": "stdout",
          "text": [
            "Epoch 15\n",
            "Train accuracy: 0.4609375\n",
            "Val accuracy: 0.4685883222468588\n"
          ]
        },
        {
          "output_type": "display_data",
          "data": {
            "image/png": "[encoded data removed]",
            "text/plain": [
              "<Figure size 432x288 with 1 Axes>"
            ]
          },
          "metadata": {
            "needs_background": "light"
          }
        },
        {
          "output_type": "stream",
          "name": "stdout",
          "text": [
            "Epoch 16\n",
            "Train accuracy: 0.46378800675675674\n",
            "Val accuracy: 0.47129834934712983\n"
          ]
        },
        {
          "output_type": "display_data",
          "data": {
            "image/png": "[encoded data removed]",
            "text/plain": [
              "<Figure size 432x288 with 1 Axes>"
            ]
          },
          "metadata": {
            "needs_background": "light"
          }
        },
        {
          "output_type": "stream",
          "name": "stdout",
          "text": [
            "Epoch 17\n",
            "Train accuracy: 0.46621621621621623\n",
            "Val accuracy: 0.4717910815471791\n"
          ]
        },
        {
          "output_type": "display_data",
          "data": {
            "image/png": "[encoded data removed]",
            "text/plain": [
              "<Figure size 432x288 with 1 Axes>"
            ]
          },
          "metadata": {
            "needs_background": "light"
          }
        },
        {
          "output_type": "stream",
          "name": "stdout",
          "text": [
            "Epoch 18\n",
            "Train accuracy: 0.4670608108108108\n",
            "Val accuracy: 0.4730229120473023\n"
          ]
        },
        {
          "output_type": "display_data",
          "data": {
            "image/png": "[encoded data removed]",
            "text/plain": [
              "<Figure size 432x288 with 1 Axes>"
            ]
          },
          "metadata": {
            "needs_background": "light"
          }
        },
        {
          "output_type": "stream",
          "name": "stdout",
          "text": [
            "Epoch 19\n",
            "Train accuracy: 0.46980574324324326\n",
            "Val accuracy: 0.4745011086474501\n"
          ]
        },
        {
          "output_type": "display_data",
          "data": {
            "image/png": "[encoded data removed]",
            "text/plain": [
              "<Figure size 432x288 with 1 Axes>"
            ]
          },
          "metadata": {
            "needs_background": "light"
          }
        },
        {
          "output_type": "stream",
          "name": "stdout",
          "text": [
            "Epoch 20\n",
            "Train accuracy: 0.47128378378378377\n",
            "Val accuracy: 0.47548657304754866\n"
          ]
        },
        {
          "output_type": "display_data",
          "data": {
            "image/png": "[encoded data removed]",
            "text/plain": [
              "<Figure size 432x288 with 1 Axes>"
            ]
          },
          "metadata": {
            "needs_background": "light"
          }
        },
        {
          "output_type": "stream",
          "name": "stdout",
          "text": [
            "Epoch 21\n",
            "Train accuracy: 0.4730785472972973\n",
            "Val accuracy: 0.4764720374476472\n"
          ]
        },
        {
          "output_type": "display_data",
          "data": {
            "image/png": "[encoded data removed]",
            "text/plain": [
              "<Figure size 432x288 with 1 Axes>"
            ]
          },
          "metadata": {
            "needs_background": "light"
          }
        },
        {
          "output_type": "stream",
          "name": "stdout",
          "text": [
            "Epoch 22\n",
            "Train accuracy: 0.47592905405405406\n",
            "Val accuracy: 0.4794284306479428\n"
          ]
        },
        {
          "output_type": "display_data",
          "data": {
            "image/png": "[encoded data removed]",
            "text/plain": [
              "<Figure size 432x288 with 1 Axes>"
            ]
          },
          "metadata": {
            "needs_background": "light"
          }
        },
        {
          "output_type": "stream",
          "name": "stdout",
          "text": [
            "Epoch 23\n",
            "Train accuracy: 0.47856841216216217\n",
            "Val accuracy: 0.4804138950480414\n"
          ]
        },
        {
          "output_type": "display_data",
          "data": {
            "image/png": "[encoded data removed]",
            "text/plain": [
              "<Figure size 432x288 with 1 Axes>"
            ]
          },
          "metadata": {
            "needs_background": "light"
          }
        },
        {
          "output_type": "stream",
          "name": "stdout",
          "text": [
            "Epoch 24\n",
            "Train accuracy: 0.48110219594594594\n",
            "Val accuracy: 0.4811529933481153\n"
          ]
        },
        {
          "output_type": "display_data",
          "data": {
            "image/png": "[encoded data removed]",
            "text/plain": [
              "<Figure size 432x288 with 1 Axes>"
            ]
          },
          "metadata": {
            "needs_background": "light"
          }
        },
        {
          "output_type": "stream",
          "name": "stdout",
          "text": [
            "precision: 0.5008938889070702\n",
            "recall: 0.4822107350366654\n",
            "f1: 0.4740385644436577\n",
            "accuracy: 0.4811529933481153\n",
            "Confusion matrix: \n",
            "[[876 173 291]\n",
            " [492 466 410]\n",
            " [588 152 611]]\n"
          ]
        }
      ],
      "source": [
        "from IPython.display import clear_output\n",
        "import numpy as np\n",
        "\n",
        "network = MLP([10, 15, 20, 3], len(inputs))\n",
        "\n",
        "train_log = []\n",
        "val_log = []\n",
        "for epoch in range(25):\n",
        "    network.fit(x_train, y_train)   \n",
        "    train_log.append(np.mean(network.predict(x_train) == y_train))\n",
        "    val_log.append(np.mean(network.predict(x_test) == y_test))\n",
        "    #clear_output()\n",
        "    print(\"Epoch\", epoch)\n",
        "    print(\"Train accuracy:\", train_log[-1])\n",
        "    print(\"Val accuracy:\", val_log[-1])  \n",
        "    plt.plot(train_log,label = 'train accuracy')\n",
        "    plt.plot(val_log,label = 'val accuracy')\n",
        "    plt.legend(loc = 'best')\n",
        "    plt.grid()\n",
        "    plt.show()\n",
        "\n",
        "y_pred = network.predict(x_test)\n",
        "\n",
        "eval = Evaluate(y_test, y_pred)\n",
        "eval.get_evaluation_report()"
      ]
    },
    {
      "cell_type": "markdown",
      "metadata": {
        "id": "ygud3NX3b-wN"
      },
      "source": [
        "## Έτοιμο Multi-Layer Perceptron \n",
        "\n",
        "Όπως και με τις τεχνικές των παραπάνω ερωτημάτων έτσι και εδώ υπάρχει έτοιμη η παραπάνω κλάση σε διάφορες βιβλιοθήκες. Έτσι στο δεύτερο μέρος του ερωτήματος αυτού θα κατασκευάσετε το ίδιο MLP χρησιμοποιώντας όμως την έτοιμη κλάση [MLPClassifier](https://scikit-learn.org/stable/modules/generated/sklearn.neural_network.MLPClassifier.html)  της βιβλιοθήκης scikit-learn. Παρακάτω παρουσιάζεται ένα παράδειγμα χρήσης της κλάσης αυτής. "
      ]
    },
    {
      "cell_type": "code",
      "execution_count": 46,
      "metadata": {
        "id": "hltXBE2Vbojo",
        "colab": {
          "base_uri": "https://localhost:8080/"
        },
        "outputId": "a9c9c173-dc49-4409-d2d5-eaddb7d35dd8"
      },
      "outputs": [
        {
          "output_type": "stream",
          "name": "stdout",
          "text": [
            "precision: 0.7519999184954256\n",
            "recall: 0.7441431704395246\n",
            "f1: 0.7448005789973009\n",
            "accuracy: 0.7445183542744518\n",
            "Confusion matrix: \n",
            "[[ 904  283  153]\n",
            " [ 151 1079  138]\n",
            " [  75  237 1039]]\n"
          ]
        },
        {
          "output_type": "stream",
          "name": "stderr",
          "text": [
            "/usr/local/lib/python3.7/dist-packages/sklearn/neural_network/_multilayer_perceptron.py:696: ConvergenceWarning: Stochastic Optimizer: Maximum iterations (25) reached and the optimization hasn't converged yet.\n",
            "  ConvergenceWarning,\n"
          ]
        }
      ],
      "source": [
        "from sklearn.neural_network import MLPClassifier\n",
        "\n",
        "epochs = 25\n",
        "mlp = MLPClassifier(hidden_layer_sizes=(10, 15, 20), max_iter = epochs)\n",
        "\n",
        "mlp.fit(x_train,y_train)\n",
        "\n",
        "y_pred = mlp.predict(x_test)\n",
        "eval = Evaluate(y_test, y_pred)\n",
        "eval.get_evaluation_report()"
      ]
    },
    {
      "cell_type": "markdown",
      "metadata": {
        "id": "DOQYML9wcDBk"
      },
      "source": [
        "## Σύγκριση υλοποιήσεων \n",
        "\n",
        "  \n",
        "\n",
        "Στα παρακάτω κελιά πειραματιστείτε με τις δύο υλοποιήσεις (τη δική σας και την έτοιμη). Συγκρίνετε τα αποτελέσματά σας τόσο ως προς τους χρόνους εκτέλεσης αλλά και ως προς τα αποτελέσματα. Η διαφορά των αποτελεσμάτων προκύπτει από το ότι στην έτοιμη κλάση έχουν γίνει αρκετές βελτιστοποιήσεις στην λειτουργία, στον τρόπο εκπαίδευσης κ.α. με αποτέλεσμα να προκύπτουν καλύτερα αποτέλεσματα. Παρόλα αυτά στην δική μας κλάση έχουμε καλύτερο έλεγχο και έχουμε την δυνατότητα να σχεδιάσουμε πιο σύνθετες αρχιτεκτονικές καθώς να αλλάξουμε τις τιμές παραμέτρων που στην έτοιμη κλάση μπορεί να μην μας δίνεται η δυνατότητα. \n"
      ]
    },
    {
      "cell_type": "code",
      "source": [
        "network = MLP([10, 15, 20, 3], len(inputs))\n",
        "train_log = []\n",
        "val_log = []\n",
        "def do(num):\n",
        "  for epoch in range(num):\n",
        "    network.fit(x_train, y_train)   \n",
        "    train_log.append(np.mean(network.predict(x_train) == y_train))\n",
        "    val_log.append(np.mean(network.predict(x_test) == y_test))\n",
        "  y_pred = network.predict(x_test)\n",
        "\n",
        "  eval = Evaluate(y_test, y_pred)\n",
        "  eval.get_evaluation_report()\n",
        "\n",
        "%time do(25)"
      ],
      "metadata": {
        "colab": {
          "base_uri": "https://localhost:8080/"
        },
        "id": "jSxbnTdDGWXa",
        "outputId": "1fca9b3b-384a-454a-aaca-370c76e9be68"
      },
      "execution_count": 47,
      "outputs": [
        {
          "output_type": "stream",
          "name": "stdout",
          "text": [
            "precision: 0.6881094057019984\n",
            "recall: 0.48144323303640574\n",
            "f1: 0.39142201355238554\n",
            "accuracy: 0.4794284306479428\n",
            "Confusion matrix: \n",
            "[[ 661    0  679]\n",
            " [ 151   11 1206]\n",
            " [  76    1 1274]]\n",
            "CPU times: user 28.3 s, sys: 255 ms, total: 28.6 s\n",
            "Wall time: 28.5 s\n"
          ]
        }
      ]
    },
    {
      "cell_type": "code",
      "source": [
        "epochs = 25\n",
        "mlp = MLPClassifier(hidden_layer_sizes=(10, 15, 20), max_iter = epochs)\n",
        "%time mlp.fit(x_train,y_train)\n",
        "y_pred = mlp.predict(x_test)\n",
        "eval = Evaluate(y_test, y_pred)\n",
        "eval.get_evaluation_report()"
      ],
      "metadata": {
        "colab": {
          "base_uri": "https://localhost:8080/"
        },
        "id": "FPL5XIQvGV7o",
        "outputId": "562df5e4-6b11-48c3-be17-9eeb65e70311"
      },
      "execution_count": 48,
      "outputs": [
        {
          "output_type": "stream",
          "name": "stdout",
          "text": [
            "CPU times: user 984 ms, sys: 2.86 ms, total: 987 ms\n",
            "Wall time: 994 ms\n",
            "precision: 0.7463463918676746\n",
            "recall: 0.7359118797991723\n",
            "f1: 0.7361491188214883\n",
            "accuracy: 0.7363882729736388\n",
            "Confusion matrix: \n",
            "[[ 863  302  175]\n",
            " [ 139 1081  148]\n",
            " [  63  243 1045]]\n"
          ]
        },
        {
          "output_type": "stream",
          "name": "stderr",
          "text": [
            "/usr/local/lib/python3.7/dist-packages/sklearn/neural_network/_multilayer_perceptron.py:696: ConvergenceWarning: Stochastic Optimizer: Maximum iterations (25) reached and the optimization hasn't converged yet.\n",
            "  ConvergenceWarning,\n"
          ]
        }
      ]
    },
    {
      "cell_type": "code",
      "source": [
        "network = MLP([10, 15, 20, 3], len(inputs))\n",
        "train_log = []\n",
        "val_log = []\n",
        "def do(num):\n",
        "  for epoch in range(num):\n",
        "    network.fit(x_train, y_train)   \n",
        "    train_log.append(np.mean(network.predict(x_train) == y_train))\n",
        "    val_log.append(np.mean(network.predict(x_test) == y_test))\n",
        "  y_pred = network.predict(x_test)\n",
        "\n",
        "  eval = Evaluate(y_test, y_pred)\n",
        "  eval.get_evaluation_report()\n",
        "\n",
        "%time do(100)"
      ],
      "metadata": {
        "colab": {
          "base_uri": "https://localhost:8080/"
        },
        "id": "D2ReO0auLTzd",
        "outputId": "bfc59b13-94f5-4c66-f7d9-30e858df8301"
      },
      "execution_count": 49,
      "outputs": [
        {
          "output_type": "stream",
          "name": "stdout",
          "text": [
            "precision: 0.6187449122693144\n",
            "recall: 0.5939479937007298\n",
            "f1: 0.5579554144039818\n",
            "accuracy: 0.5922641044592264\n",
            "Confusion matrix: \n",
            "[[ 892   96  352]\n",
            " [ 446  326  596]\n",
            " [ 111   54 1186]]\n",
            "CPU times: user 1min 50s, sys: 751 ms, total: 1min 51s\n",
            "Wall time: 1min 51s\n"
          ]
        }
      ]
    },
    {
      "cell_type": "code",
      "source": [
        "epochs = 100\n",
        "mlp = MLPClassifier(hidden_layer_sizes=(10, 15, 20), max_iter = epochs)\n",
        "%time mlp.fit(x_train,y_train)\n",
        "y_pred = mlp.predict(x_test)\n",
        "eval = Evaluate(y_test, y_pred)\n",
        "eval.get_evaluation_report()"
      ],
      "metadata": {
        "colab": {
          "base_uri": "https://localhost:8080/"
        },
        "id": "u-XyP5OqLTmZ",
        "outputId": "189549b1-73ca-43e5-becb-ce2b62a8fb29"
      },
      "execution_count": 50,
      "outputs": [
        {
          "output_type": "stream",
          "name": "stdout",
          "text": [
            "CPU times: user 4 s, sys: 19.5 ms, total: 4.02 s\n",
            "Wall time: 4.01 s\n",
            "precision: 0.7567641627435483\n",
            "recall: 0.7493172887020393\n",
            "f1: 0.749834393520362\n",
            "accuracy: 0.7496920423749692\n",
            "Confusion matrix: \n",
            "[[ 908  283  149]\n",
            " [ 140 1084  144]\n",
            " [  79  221 1051]]\n"
          ]
        },
        {
          "output_type": "stream",
          "name": "stderr",
          "text": [
            "/usr/local/lib/python3.7/dist-packages/sklearn/neural_network/_multilayer_perceptron.py:696: ConvergenceWarning: Stochastic Optimizer: Maximum iterations (100) reached and the optimization hasn't converged yet.\n",
            "  ConvergenceWarning,\n"
          ]
        }
      ]
    },
    {
      "cell_type": "code",
      "source": [
        "network = MLP([10, 15, 20, 3], len(inputs))\n",
        "train_log = []\n",
        "val_log = []\n",
        "def do(num):\n",
        "  for epoch in range(num):\n",
        "    network.fit(x_train, y_train)   \n",
        "    train_log.append(np.mean(network.predict(x_train) == y_train))\n",
        "    val_log.append(np.mean(network.predict(x_test) == y_test))\n",
        "  y_pred = network.predict(x_test)\n",
        "\n",
        "  eval = Evaluate(y_test, y_pred)\n",
        "  eval.get_evaluation_report()\n",
        "\n",
        "%time do(400)"
      ],
      "metadata": {
        "colab": {
          "base_uri": "https://localhost:8080/"
        },
        "id": "q73JoRzYN8-P",
        "outputId": "af73fe8f-b9e8-4a53-c1ea-55b3f2f07e6e"
      },
      "execution_count": 51,
      "outputs": [
        {
          "output_type": "stream",
          "name": "stdout",
          "text": [
            "precision: 0.7332133485021259\n",
            "recall: 0.6962794513242437\n",
            "f1: 0.6976654607233476\n",
            "accuracy: 0.6972160630697216\n",
            "Confusion matrix: \n",
            "[[ 784  411  145]\n",
            " [ 122 1160   86]\n",
            " [  46  419  886]]\n",
            "CPU times: user 7min 54s, sys: 2.25 s, total: 7min 56s\n",
            "Wall time: 7min 56s\n"
          ]
        }
      ]
    },
    {
      "cell_type": "code",
      "source": [
        "epochs = 400\n",
        "mlp = MLPClassifier(hidden_layer_sizes=(10, 15, 20), max_iter = epochs)\n",
        "%time mlp.fit(x_train,y_train)\n",
        "y_pred = mlp.predict(x_test)\n",
        "eval = Evaluate(y_test, y_pred)\n",
        "eval.get_evaluation_report()"
      ],
      "metadata": {
        "colab": {
          "base_uri": "https://localhost:8080/"
        },
        "id": "6MhjT9F0N806",
        "outputId": "c41418e7-c37a-481b-c600-f110006fd870"
      },
      "execution_count": 52,
      "outputs": [
        {
          "output_type": "stream",
          "name": "stdout",
          "text": [
            "CPU times: user 10 s, sys: 22.7 ms, total: 10 s\n",
            "Wall time: 10.1 s\n",
            "precision: 0.761057655912062\n",
            "recall: 0.7560717084774939\n",
            "f1: 0.7562851944432339\n",
            "accuracy: 0.7563439270756344\n",
            "Confusion matrix: \n",
            "[[ 925  254  161]\n",
            " [ 149 1065  154]\n",
            " [  71  200 1080]]\n"
          ]
        }
      ]
    },
    {
      "cell_type": "markdown",
      "source": [
        "Παρατηρούμε πως καθώς αυξάνεται ο αριθμός των εποχών πετυχαίνουμε σύγκλιση και συνεπώς και στις δύο περιπτώσεις παρατηρούμε καλύτερη ακρίβεια. Όμως η ακρίβεια του έτοιμου MLP είναι πολύ καλύτερη όπως και ο χρόνος εκτέλεσης (ιδιαίτερα για μεγάλο αριθμό εποχών όπως δείξαμε παραπάνω), το οποίο δικαιολογείται από το γεγονός πως έχει πιθανότατα διαφορετική δομή και αξιοποιεί μεθόδους βελτιστοποιήσης."
      ],
      "metadata": {
        "id": "4xj9q_xkQWr4"
      }
    },
    {
      "cell_type": "markdown",
      "metadata": {
        "id": "gfrx064gcCr8"
      },
      "source": [
        "# Αξιολόγηση- Συμπεράσματα \n",
        "\n",
        "  \n",
        "\n",
        "Τέλος στο σημείο αυτό καλείστε να αξιολογήσετε τις διάφορες τεχνικές ταξινόμησης (KNN, Naive Bayes, MLP), τα αποτελέσματά τους, τους χρόνους εκτέλεσης, και να παραθέσετε παρατηρήσεις καθώς και οτιδήποτε σας φάνηκε ενδιαφέρον ή ιδιαίτερο. \n",
        "\n"
      ]
    },
    {
      "cell_type": "markdown",
      "source": [
        "Απάντηση/Σχολιασμός:\n",
        "Σχετικά με την ακρίβεια παρατηρούμε πως την μεγαλύτερη ακρίβεια την έχουμε για την έτοιμη συνάρτηση MLP και τον ταξινομητή knn με k=10, μετά ακολουθούν οι υπόλοιποι ταξινομητές (την χειρότερη ακρίβεια τη συναντούμε στον gnb). Στη συνέχεια σχετικά με τον χρόνο εκτέλεσης παρατηρούμε πως το μικρότερο χρόνο τον έχουμε στις έτοιμες υλοποιήσεις που είναι βελτιστοποιημένες, ενώ το μεγαλύτερο χρονικό διάστημα διαρκεί ο MLP που δημιουργήσαμε. "
      ],
      "metadata": {
        "id": "mg-H_2wECiP5"
      }
    }
  ],
  "metadata": {
    "colab": {
      "collapsed_sections": [],
      "name": "NTEN_MPOUREI_H_EPISTROFH.ipynb",
      "provenance": []
    },
    "kernelspec": {
      "display_name": "Python 3",
      "language": "python",
      "name": "python3"
    },
    "language_info": {
      "codemirror_mode": {
        "name": "ipython",
        "version": 3
      },
      "file_extension": ".py",
      "mimetype": "text/x-python",
      "name": "python",
      "nbconvert_exporter": "python",
      "pygments_lexer": "ipython3",
      "version": "3.8.5"
    }
  },
  "nbformat": 4,
  "nbformat_minor": 0
}